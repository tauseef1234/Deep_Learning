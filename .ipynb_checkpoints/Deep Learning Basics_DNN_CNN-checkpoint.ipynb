{
 "cells": [
  {
   "cell_type": "markdown",
   "metadata": {
    "application/vnd.databricks.v1+cell": {
     "inputWidgets": {},
     "nuid": "f69bf3ff-0d5b-485f-a3f4-62ce7cde524e",
     "showTitle": false,
     "title": ""
    },
    "id": "ef_x8mETjcF4"
   },
   "source": [
    "# Deep Learning Models"
   ]
  },
  {
   "cell_type": "markdown",
   "metadata": {
    "application/vnd.databricks.v1+cell": {
     "inputWidgets": {},
     "nuid": "1007c308-bdfe-4413-a152-8c9677d73d5b",
     "showTitle": false,
     "title": ""
    },
    "id": "G-OjdVKFjcF6"
   },
   "source": [
    "This notebooks gives a step by step explainer on how to build an artificial and convolution neural network using [keras](https://keras.io/about/) deep learning library on the MNIST dataset.\n",
    "\n",
    "**MNIST Dataset**\n",
    "\n",
    "The MNIST problem is a dataset developed by Yann LeCun, Corinna Cortes and Christopher Burges for evaluating machine learning models on the handwritten digit classification problem. The dataset was constructed from a number of scanned document dataset available from the National Institute of Standards and Technology (NIST). Images of digits were taken from a variety of scanned documents, normalized in size and centered. This makes it an excellent dataset for evaluating models, allowing the developer to focus on the machine learning with very little data cleaning or preparation required.\n",
    "\n",
    "Each image is a 28 by 28 pixel square (784 pixels total). A standard split of the dataset is used to evaluate and compare models, where 60,000 images are used to train a model and a separate set of 10,000 images are used to test it."
   ]
  },
  {
   "cell_type": "markdown",
   "metadata": {
    "application/vnd.databricks.v1+cell": {
     "inputWidgets": {},
     "nuid": "76ffd926-da32-4520-b741-5613bb266c43",
     "showTitle": false,
     "title": ""
    },
    "id": "VdEUMmPnjcF_"
   },
   "source": [
    "## Deep Neural Network (DNN) Model\n",
    "\n",
    "The following section shows how to build a bsic deep neural network model with keras."
   ]
  },
  {
   "cell_type": "markdown",
   "metadata": {
    "application/vnd.databricks.v1+cell": {
     "inputWidgets": {},
     "nuid": "9306daef-e568-413f-9137-713592d7d767",
     "showTitle": false,
     "title": ""
    },
    "id": "F7J83EUOjcGB"
   },
   "source": [
    "### I. Import Packages and Data"
   ]
  },
  {
   "cell_type": "code",
   "execution_count": 1,
   "metadata": {
    "application/vnd.databricks.v1+cell": {
     "inputWidgets": {},
     "nuid": "71dbdf9d-7966-405a-bb70-e927d2051519",
     "showTitle": false,
     "title": ""
    },
    "colab": {
     "base_uri": "https://localhost:8080/"
    },
    "id": "n8GtZKhOjcGD",
    "outputId": "a49d289e-4c63-46e4-d94c-d82f1b7c1249"
   },
   "outputs": [
    {
     "name": "stdout",
     "output_type": "stream",
     "text": [
      "2.5.0\n"
     ]
    }
   ],
   "source": [
    "import tensorflow as tf\n",
    "print(tf.__version__)"
   ]
  },
  {
   "cell_type": "code",
   "execution_count": 2,
   "metadata": {
    "application/vnd.databricks.v1+cell": {
     "inputWidgets": {},
     "nuid": "818df209-2e4f-41bc-8984-5e549872d341",
     "showTitle": false,
     "title": ""
    },
    "id": "kIDrR21xj59B"
   },
   "outputs": [],
   "source": [
    "import numpy as np\n",
    "import matplotlib.pyplot as plt"
   ]
  },
  {
   "cell_type": "code",
   "execution_count": 3,
   "metadata": {
    "application/vnd.databricks.v1+cell": {
     "inputWidgets": {},
     "nuid": "3b89d130-2f49-41e2-8f4d-93ff2e77a478",
     "showTitle": false,
     "title": ""
    },
    "colab": {
     "base_uri": "https://localhost:8080/"
    },
    "id": "gD8uiRv_jcGE",
    "outputId": "449e334b-54a1-4503-bb2c-0da1f0df5dc8"
   },
   "outputs": [
    {
     "name": "stdout",
     "output_type": "stream",
     "text": [
      "Downloading data from https://storage.googleapis.com/tensorflow/tf-keras-datasets/mnist.npz\n",
      "11493376/11490434 [==============================] - 0s 0us/step\n"
     ]
    }
   ],
   "source": [
    "# Load mnist data and split into train and test sets\n",
    "mnist = tf.keras.datasets.mnist\n",
    "(x_train, y_train), (x_test, y_test) = mnist.load_data()"
   ]
  },
  {
   "cell_type": "code",
   "execution_count": 4,
   "metadata": {
    "application/vnd.databricks.v1+cell": {
     "inputWidgets": {},
     "nuid": "5274ceef-b58b-4678-aa69-b70c0d10d608",
     "showTitle": false,
     "title": ""
    },
    "colab": {
     "base_uri": "https://localhost:8080/"
    },
    "id": "W28XU8ahjcGF",
    "outputId": "2e180eac-2594-4a07-e5af-9543a8fd905c"
   },
   "outputs": [
    {
     "name": "stdout",
     "output_type": "stream",
     "text": [
      "MNIST Dataset Shape:\n",
      "x_train: (60000, 28, 28)\n",
      "y_train: (60000,)\n",
      "x_test: (10000, 28, 28)\n",
      "y_test:  (10000,)\n"
     ]
    }
   ],
   "source": [
    "# Check shape of data\n",
    "print('MNIST Dataset Shape:')\n",
    "print(f'x_train: {x_train.shape}')\n",
    "print(f'y_train: {y_train.shape}')\n",
    "print(f'x_test: {x_test.shape}')\n",
    "print(f'y_test:  {y_test.shape}')"
   ]
  },
  {
   "cell_type": "code",
   "execution_count": 5,
   "metadata": {
    "application/vnd.databricks.v1+cell": {
     "inputWidgets": {},
     "nuid": "182e4054-413d-45c8-92bf-4d6f356918da",
     "showTitle": false,
     "title": ""
    },
    "colab": {
     "base_uri": "https://localhost:8080/"
    },
    "id": "-Xn73uodjcGI",
    "outputId": "62dbb10b-77fe-42f2-ac01-d70a8aa08977"
   },
   "outputs": [
    {
     "name": "stdout",
     "output_type": "stream",
     "text": [
      "Unique count of digits in train data:\n",
      " [[   0 5923]\n",
      " [   1 6742]\n",
      " [   2 5958]\n",
      " [   3 6131]\n",
      " [   4 5842]\n",
      " [   5 5421]\n",
      " [   6 5918]\n",
      " [   7 6265]\n",
      " [   8 5851]\n",
      " [   9 5949]]\n"
     ]
    }
   ],
   "source": [
    "# Check unique count of digits in training dataset\n",
    "unique, counts = np.unique(y_train, return_counts=True)\n",
    "print (\"Unique count of digits in train data:\\n\",np.asarray((unique, counts)).T)"
   ]
  },
  {
   "cell_type": "code",
   "execution_count": 6,
   "metadata": {
    "application/vnd.databricks.v1+cell": {
     "inputWidgets": {},
     "nuid": "3224823b-9350-4dda-9fdd-c0992c3d28ca",
     "showTitle": false,
     "title": ""
    },
    "colab": {
     "base_uri": "https://localhost:8080/"
    },
    "id": "oboeHeL8jcGK",
    "outputId": "998f8c01-6373-46b6-a7ee-cdbef25ce318",
    "scrolled": true
   },
   "outputs": [
    {
     "name": "stdout",
     "output_type": "stream",
     "text": [
      "Unique count of digits in test data:\n",
      " [[   0  980]\n",
      " [   1 1135]\n",
      " [   2 1032]\n",
      " [   3 1010]\n",
      " [   4  982]\n",
      " [   5  892]\n",
      " [   6  958]\n",
      " [   7 1028]\n",
      " [   8  974]\n",
      " [   9 1009]]\n"
     ]
    }
   ],
   "source": [
    "# Check unique count of digits in test dataset\n",
    "unique, counts = np.unique(y_test, return_counts=True)\n",
    "print (\"Unique count of digits in test data:\\n\",np.asarray((unique, counts)).T)"
   ]
  },
  {
   "cell_type": "markdown",
   "metadata": {
    "application/vnd.databricks.v1+cell": {
     "inputWidgets": {},
     "nuid": "946c6e3a-d51a-4a8d-90df-6d7772c3353d",
     "showTitle": false,
     "title": ""
    },
    "id": "Dem0ObsWjcGM"
   },
   "source": [
    "### II. Normalize Data"
   ]
  },
  {
   "cell_type": "code",
   "execution_count": 7,
   "metadata": {
    "application/vnd.databricks.v1+cell": {
     "inputWidgets": {},
     "nuid": "c0411fb7-8567-4447-b153-cdcdd795b9b0",
     "showTitle": false,
     "title": ""
    },
    "colab": {
     "base_uri": "https://localhost:8080/",
     "height": 281
    },
    "id": "knU20X94jcGN",
    "outputId": "7137f172-f3b0-44c0-955f-c69e8a08ba6b",
    "scrolled": false
   },
   "outputs": [
    {
     "data": {
      "text/plain": [
       "<matplotlib.image.AxesImage at 0x7f71f6508350>"
      ]
     },
     "execution_count": 7,
     "metadata": {
      "tags": []
     },
     "output_type": "execute_result"
    },
    {
     "data": {
      "image/png": "[encoded data removed]",
      "text/plain": [
       "<Figure size 432x288 with 1 Axes>"
      ]
     },
     "metadata": {
      "needs_background": "light",
      "tags": []
     },
     "output_type": "display_data"
    }
   ],
   "source": [
    "# Plot the first image in the dataset\n",
    "plt.imshow(x_train[0])"
   ]
  },
  {
   "cell_type": "code",
   "execution_count": 8,
   "metadata": {
    "application/vnd.databricks.v1+cell": {
     "inputWidgets": {},
     "nuid": "00cb5302-39d3-411c-a651-0112df019422",
     "showTitle": false,
     "title": ""
    },
    "colab": {
     "base_uri": "https://localhost:8080/"
    },
    "id": "4n-BJrYIjcGO",
    "outputId": "f351235c-5f44-43e4-b23a-fc302fb91872",
    "scrolled": true
   },
   "outputs": [
    {
     "data": {
      "text/plain": [
       "(28, 28)"
      ]
     },
     "execution_count": 8,
     "metadata": {
      "tags": []
     },
     "output_type": "execute_result"
    }
   ],
   "source": [
    "# Check shape - each image is a 28x28 pixel\n",
    "x_train[0].shape"
   ]
  },
  {
   "cell_type": "markdown",
   "metadata": {
    "application/vnd.databricks.v1+cell": {
     "inputWidgets": {},
     "nuid": "2ed04e90-cd08-4f01-9bdf-1bb0a110dc5b",
     "showTitle": false,
     "title": ""
    },
    "id": "GWj4YNK0jcGP"
   },
   "source": [
    "Normalize - The pixel values are between 0 and 255. Scaling the data to range 0 and 1 in order to make it easier for the network to learn. You can use the keras utility function `normalize` to do so or simply divide the enitre array by 255."
   ]
  },
  {
   "cell_type": "code",
   "execution_count": 9,
   "metadata": {
    "application/vnd.databricks.v1+cell": {
     "inputWidgets": {},
     "nuid": "d686c1fd-a566-474f-8d6c-1d3768bf6131",
     "showTitle": false,
     "title": ""
    },
    "id": "ICsrqOgQjcGP"
   },
   "outputs": [],
   "source": [
    "x_train = tf.keras.utils.normalize(x_train,axis=1)\n",
    "x_test = tf.keras.utils.normalize(x_test,axis=1)"
   ]
  },
  {
   "cell_type": "code",
   "execution_count": 10,
   "metadata": {
    "application/vnd.databricks.v1+cell": {
     "inputWidgets": {},
     "nuid": "b2b1d722-10c6-439f-841e-d5cb51221b52",
     "showTitle": false,
     "title": ""
    },
    "colab": {
     "base_uri": "https://localhost:8080/",
     "height": 281
    },
    "id": "upq90L3pjcGQ",
    "outputId": "17a309be-693b-4bd6-9a81-ad0712c7a6de"
   },
   "outputs": [
    {
     "data": {
      "text/plain": [
       "<matplotlib.image.AxesImage at 0x7f71f647d710>"
      ]
     },
     "execution_count": 10,
     "metadata": {
      "tags": []
     },
     "output_type": "execute_result"
    },
    {
     "data": {
      "image/png": "[encoded data removed]",
      "text/plain": [
       "<Figure size 432x288 with 1 Axes>"
      ]
     },
     "metadata": {
      "needs_background": "light",
      "tags": []
     },
     "output_type": "display_data"
    }
   ],
   "source": [
    "# Plot the first image in the dataset after normalizing\n",
    "plt.imshow(x_train[0])"
   ]
  },
  {
   "cell_type": "markdown",
   "metadata": {
    "application/vnd.databricks.v1+cell": {
     "inputWidgets": {},
     "nuid": "53b2ac8c-25ed-4bb8-a167-0a378b44e961",
     "showTitle": false,
     "title": ""
    },
    "id": "Enrd7sJ9k1xU"
   },
   "source": [
    "Note: Normalizing does not change the shape of an image, it just normalizes the pixel values in the range of (0,1)."
   ]
  },
  {
   "cell_type": "code",
   "execution_count": 11,
   "metadata": {
    "application/vnd.databricks.v1+cell": {
     "inputWidgets": {},
     "nuid": "b74ab619-f7c6-463d-898a-d2da4128aa7d",
     "showTitle": false,
     "title": ""
    },
    "colab": {
     "base_uri": "https://localhost:8080/"
    },
    "id": "t4lPWWimjcGQ",
    "outputId": "d19b0b77-ce16-42e6-8d06-8c93d9033230"
   },
   "outputs": [
    {
     "data": {
      "text/plain": [
       "(28, 28)"
      ]
     },
     "execution_count": 11,
     "metadata": {
      "tags": []
     },
     "output_type": "execute_result"
    }
   ],
   "source": [
    "# Check shape after normalizing\n",
    "x_train[0].shape"
   ]
  },
  {
   "cell_type": "markdown",
   "metadata": {
    "application/vnd.databricks.v1+cell": {
     "inputWidgets": {},
     "nuid": "9dd3a6e5-e24f-46a5-9d92-754b4ff6bc8d",
     "showTitle": false,
     "title": ""
    },
    "id": "WF5kspuzjcGR"
   },
   "source": [
    "### III. Different layers of a DNN\n",
    "\n",
    "Before building a deep learning model, lets try to understand the individual layers (also referred as the building blocks) of a deep neural network model and their purpose."
   ]
  },
  {
   "cell_type": "markdown",
   "metadata": {
    "application/vnd.databricks.v1+cell": {
     "inputWidgets": {},
     "nuid": "f2845420-3133-4040-8ed6-b632803339ab",
     "showTitle": false,
     "title": ""
    },
    "id": "92aY6V95jcGR"
   },
   "source": [
    "**Flatten Layer**\n",
    "\n",
    "Flattens the input. This layer converts the data into a 1-dimensional array which can be used an input by the following fully connected layer"
   ]
  },
  {
   "cell_type": "code",
   "execution_count": 12,
   "metadata": {
    "application/vnd.databricks.v1+cell": {
     "inputWidgets": {},
     "nuid": "7f415d2e-db90-45f3-b067-4d4171954e5b",
     "showTitle": false,
     "title": ""
    },
    "colab": {
     "base_uri": "https://localhost:8080/"
    },
    "id": "eRrjI8NmjcGR",
    "outputId": "e10871ec-8adf-49d4-dd75-389a9b361b88"
   },
   "outputs": [
    {
     "data": {
      "text/plain": [
       "(None, 6)"
      ]
     },
     "execution_count": 12,
     "metadata": {
      "tags": []
     },
     "output_type": "execute_result"
    }
   ],
   "source": [
    "# Create a `Sequential` model and add a Flatten layer as the first layer. \n",
    "# Convert a 3x2 input into a 1-dimensional array of length 6\n",
    "model = tf.keras.models.Sequential()\n",
    "model.add(tf.keras.layers.Flatten(input_shape=(3,2)))\n",
    "model.output_shape"
   ]
  },
  {
   "cell_type": "markdown",
   "metadata": {
    "application/vnd.databricks.v1+cell": {
     "inputWidgets": {},
     "nuid": "387f12fc-e48e-4984-97bc-1a3590faea3f",
     "showTitle": false,
     "title": ""
    },
    "id": "8boWZv2KjcGS"
   },
   "source": [
    "**Dense Layer**\n",
    "\n",
    "Dense class from keras is an implementation of the simplest neural network building block: the fully connected layer. In technical terms, dense layer is the implementation of the equation `output = activation(dot(input, kernel) + bias)`. This means that we take the dot product between our input tensor and whatever the weight kernel matrix is featured in our dense layer. Then, we add a bias vector (optional, if required) and take an element-wise activation of the output values (some function, linear or in most cases non-linear).\n",
    "\n",
    "*Activation function*\n",
    "\n",
    "An activation function is a function that is added into an artificial neural network in order to help the network learn complex patterns in the data. It takes in the output signal from the previous cell and converts it into some form that can be taken as input to the next cell. Some of the commonly used activation functions are shown below:\n",
    "\n",
    "<img src = 'https://miro.medium.com/max/1200/1*ZafDv3VUm60Eh10OeJu1vw.png' width = 600>"
   ]
  },
  {
   "cell_type": "code",
   "execution_count": 13,
   "metadata": {
    "application/vnd.databricks.v1+cell": {
     "inputWidgets": {},
     "nuid": "d82f4f02-929b-453f-9847-d09e1161998b",
     "showTitle": false,
     "title": ""
    },
    "colab": {
     "base_uri": "https://localhost:8080/"
    },
    "id": "pGHpnX9VjcGS",
    "outputId": "4c91f081-bb04-4533-cbbf-f3d5828e9c7f"
   },
   "outputs": [
    {
     "data": {
      "text/plain": [
       "(None, 128)"
      ]
     },
     "execution_count": 13,
     "metadata": {
      "tags": []
     },
     "output_type": "execute_result"
    }
   ],
   "source": [
    "# Create a `Sequential` model and add a Dense layer as the first layer\n",
    "model = tf.keras.models.Sequential()\n",
    "model.add(tf.keras.layers.InputLayer(input_shape=(16,)))\n",
    "model.add(tf.keras.layers.Dense(128,activation=tf.nn.relu))\n",
    "model.output_shape"
   ]
  },
  {
   "cell_type": "markdown",
   "metadata": {
    "application/vnd.databricks.v1+cell": {
     "inputWidgets": {},
     "nuid": "143eb0d1-6ecb-4972-856d-1a559b8a3c75",
     "showTitle": false,
     "title": ""
    },
    "id": "QOPWa7q6jcGS"
   },
   "source": [
    "**Dropout Layer**\n",
    "\n",
    "A fully connected layer occupies most of the parameters, and hence, neurons develop co-dependency amongst each other during training which curbs the individual power of each neuron leading to over-fitting of training data.\n",
    "\n",
    "Hence, a [Dropout Layer](https://towardsdatascience.com/machine-learning-part-20-dropout-keras-layers-explained-8c9f6dc4c9ab?gi=e79b5385b6ad) layer is added to avoid overfitting. In passing 0.5, every hidden unit (neuron) is set to 0 with a probability of 0.5. In other words, there’s a 50% chance that the output of a given neuron will be forced to 0."
   ]
  },
  {
   "cell_type": "markdown",
   "metadata": {
    "application/vnd.databricks.v1+cell": {
     "inputWidgets": {},
     "nuid": "240ca6f9-5ac3-4aba-a91a-45868bd10f58",
     "showTitle": false,
     "title": ""
    },
    "id": "QHwJiBfEjcGT"
   },
   "source": [
    "### IV. Build a DNN Model\n",
    "\n",
    "Now, we build a complete deep learning model. We will be using a `Sequential` model and then stack up the discussed layers so far using the `add()`function.\n",
    "\n",
    "- Flatten Layer\n",
    "    - This layer flattens the input data into a 1-dimensional array for inputting it to the next layer.\n",
    "- Dense Layer\n",
    "    - Two dense layers with 128 nodes and `relu` activation function\n",
    "    - Final dense layer with 10 nodes and `softmax` activation function. The number of nodes should be equal to the number of classes that we are trying to predict i.e. 10 in this data. The `softmax` activation function is used to turn the outputs into probability-like values."
   ]
  },
  {
   "cell_type": "code",
   "execution_count": 14,
   "metadata": {
    "application/vnd.databricks.v1+cell": {
     "inputWidgets": {},
     "nuid": "e6b9ef75-99c7-438f-86a0-fb313476245e",
     "showTitle": false,
     "title": ""
    },
    "id": "8U7FEHZ5jcGT",
    "scrolled": false
   },
   "outputs": [],
   "source": [
    "model = tf.keras.models.Sequential([tf.keras.layers.Flatten(),\n",
    "                                    tf.keras.layers.Dense(128,activation=tf.nn.relu),\n",
    "                                    tf.keras.layers.Dense(128,activation=tf.nn.relu),\n",
    "                                    tf.keras.layers.Dense(10,activation=tf.nn.softmax)])"
   ]
  },
  {
   "cell_type": "markdown",
   "metadata": {
    "application/vnd.databricks.v1+cell": {
     "inputWidgets": {},
     "nuid": "cf83be68-3d24-49be-99b7-5415518409b2",
     "showTitle": false,
     "title": ""
    },
    "id": "RkkgCbsdjcGU"
   },
   "source": [
    "Next, the model is compiled with the categorical cross entropy loss function and the efficient ADAM gradient descent algorithm is used to learn the weights."
   ]
  },
  {
   "cell_type": "code",
   "execution_count": 15,
   "metadata": {
    "application/vnd.databricks.v1+cell": {
     "inputWidgets": {},
     "nuid": "bacd34c3-3fda-4ca7-87b4-e42582ea5136",
     "showTitle": false,
     "title": ""
    },
    "colab": {
     "base_uri": "https://localhost:8080/"
    },
    "id": "mSU7aGCvjcGU",
    "outputId": "10b1b1d5-34df-4c84-b2f5-df2974e604f6",
    "scrolled": true
   },
   "outputs": [
    {
     "name": "stdout",
     "output_type": "stream",
     "text": [
      "Epoch 1/5\n",
      "1875/1875 [==============================] - 6s 3ms/step - loss: 0.2632 - accuracy: 0.9239\n",
      "Epoch 2/5\n",
      "1875/1875 [==============================] - 4s 2ms/step - loss: 0.1102 - accuracy: 0.9659\n",
      "Epoch 3/5\n",
      "1875/1875 [==============================] - 4s 2ms/step - loss: 0.0744 - accuracy: 0.9766\n",
      "Epoch 4/5\n",
      "1875/1875 [==============================] - 4s 2ms/step - loss: 0.0553 - accuracy: 0.9824\n",
      "Epoch 5/5\n",
      "1875/1875 [==============================] - 4s 2ms/step - loss: 0.0423 - accuracy: 0.9861\n"
     ]
    }
   ],
   "source": [
    "# Complie the model\n",
    "model.compile(optimizer= 'adam'\n",
    "             ,loss= 'sparse_categorical_crossentropy'\n",
    "             ,metrics= ['accuracy'])\n",
    "model.fit(x_train,y_train,epochs=5);"
   ]
  },
  {
   "cell_type": "markdown",
   "metadata": {
    "id": "UTcAYyUAvcjv"
   },
   "source": [
    "Note that the model is being trained on 1875 batches of 32 images each (1875*32 = 60,000)"
   ]
  },
  {
   "cell_type": "code",
   "execution_count": 16,
   "metadata": {
    "application/vnd.databricks.v1+cell": {
     "inputWidgets": {},
     "nuid": "0ef4c5d8-5803-4545-810e-10eb69bcc5d4",
     "showTitle": false,
     "title": ""
    },
    "colab": {
     "base_uri": "https://localhost:8080/"
    },
    "id": "HnOAzU3LjcGU",
    "outputId": "ff73b0e9-4fa4-4835-ceaa-9b8f5272b4ab"
   },
   "outputs": [
    {
     "name": "stdout",
     "output_type": "stream",
     "text": [
      "Model: \"sequential_2\"\n",
      "_________________________________________________________________\n",
      "Layer (type)                 Output Shape              Param #   \n",
      "=================================================================\n",
      "flatten_1 (Flatten)          (32, 784)                 0         \n",
      "_________________________________________________________________\n",
      "dense_1 (Dense)              (32, 128)                 100480    \n",
      "_________________________________________________________________\n",
      "dense_2 (Dense)              (32, 128)                 16512     \n",
      "_________________________________________________________________\n",
      "dense_3 (Dense)              (32, 10)                  1290      \n",
      "=================================================================\n",
      "Total params: 118,282\n",
      "Trainable params: 118,282\n",
      "Non-trainable params: 0\n",
      "_________________________________________________________________\n"
     ]
    }
   ],
   "source": [
    "# Print model summary\n",
    "model.summary()"
   ]
  },
  {
   "cell_type": "markdown",
   "metadata": {
    "application/vnd.databricks.v1+cell": {
     "inputWidgets": {},
     "nuid": "288f9a18-1422-4f54-a4ec-a4688d9f07a0",
     "showTitle": false,
     "title": ""
    },
    "id": "kr-iGYyposNe"
   },
   "source": [
    "Now, lets try to undertsand some of the math related to the shape and # parameters:\n",
    "  1. Flatten layer shape is calculated by multiplying 28*28 = 784\n",
    "  2. The #parameters for the first fully-connected layer are calculated as follows (784*128) + 128 = 100,480. The input of the pervious layer multiplied by the neurons in the current layer and then adding the number of neurons in the current layer.\n",
    "  3. Similarly, the #parameters for the second fully-connected layer are calculated as follows (128*128) + 128 = 16,512\n",
    "  4. For the final layer, (128*10) + 10 = 1290"
   ]
  },
  {
   "cell_type": "markdown",
   "metadata": {
    "application/vnd.databricks.v1+cell": {
     "inputWidgets": {},
     "nuid": "1526711f-543b-4afb-a4cf-30bcbd185068",
     "showTitle": false,
     "title": ""
    },
    "id": "PPaVQk80jcGU"
   },
   "source": [
    "Evaluate the model"
   ]
  },
  {
   "cell_type": "code",
   "execution_count": 17,
   "metadata": {
    "application/vnd.databricks.v1+cell": {
     "inputWidgets": {},
     "nuid": "1326eeec-1255-4972-a305-dc430f8366bd",
     "showTitle": false,
     "title": ""
    },
    "colab": {
     "base_uri": "https://localhost:8080/"
    },
    "id": "lxOb6UARjcGV",
    "outputId": "936f6d02-b009-4d46-f4a3-8cd7f02cbb01",
    "scrolled": true
   },
   "outputs": [
    {
     "name": "stdout",
     "output_type": "stream",
     "text": [
      "313/313 [==============================] - 0s 1ms/step - loss: 0.0922 - accuracy: 0.9728\n",
      "DNN Model evaluation \n",
      " Validation Loss: 0.09222272038459778\n",
      " Validation Accuracy: 0.9728000164031982\n"
     ]
    }
   ],
   "source": [
    "# Evaluate the model\n",
    "val_loss, val_acc = model.evaluate(x_test,y_test)\n",
    "print(\"DNN Model evaluation \\n\",\n",
    "      f\"Validation Loss: {val_loss}\\n\",\n",
    "      f\"Validation Accuracy: {val_acc}\")"
   ]
  },
  {
   "cell_type": "markdown",
   "metadata": {
    "application/vnd.databricks.v1+cell": {
     "inputWidgets": {},
     "nuid": "049b388a-e444-4a6f-9423-cb07aa05f7e9",
     "showTitle": false,
     "title": ""
    },
    "id": "gN5Sr_UzjcGV"
   },
   "source": [
    "Predict probability of classes on the test dataset"
   ]
  },
  {
   "cell_type": "code",
   "execution_count": 18,
   "metadata": {
    "application/vnd.databricks.v1+cell": {
     "inputWidgets": {},
     "nuid": "272ecf26-07a0-4a01-8f81-890dfc3e43df",
     "showTitle": false,
     "title": ""
    },
    "id": "XLMuXCE_jcGV"
   },
   "outputs": [],
   "source": [
    "pred_dnn = model.predict(x_test)"
   ]
  },
  {
   "cell_type": "markdown",
   "metadata": {
    "application/vnd.databricks.v1+cell": {
     "inputWidgets": {},
     "nuid": "0e5a279f-0afc-490d-9db3-c316ab9a34f3",
     "showTitle": false,
     "title": ""
    },
    "id": "IhtlU7rvjcGV"
   },
   "source": [
    "Use argmax function to select the index of an array that results in the largest value."
   ]
  },
  {
   "cell_type": "code",
   "execution_count": 19,
   "metadata": {
    "application/vnd.databricks.v1+cell": {
     "inputWidgets": {},
     "nuid": "ca6a97a1-b831-4120-a570-9db06967c611",
     "showTitle": false,
     "title": ""
    },
    "colab": {
     "base_uri": "https://localhost:8080/"
    },
    "id": "pTuR7bSJjcGW",
    "outputId": "a635f105-5f87-4243-9625-b4144bc1831d"
   },
   "outputs": [
    {
     "name": "stdout",
     "output_type": "stream",
     "text": [
      "7\n"
     ]
    }
   ],
   "source": [
    "print(np.argmax(pred_dnn[0]))"
   ]
  },
  {
   "cell_type": "code",
   "execution_count": 20,
   "metadata": {
    "application/vnd.databricks.v1+cell": {
     "inputWidgets": {},
     "nuid": "ac669166-e8a7-4fbc-90b1-75fa514c4258",
     "showTitle": false,
     "title": ""
    },
    "colab": {
     "base_uri": "https://localhost:8080/",
     "height": 265
    },
    "id": "0I12rH9jjcGW",
    "outputId": "cb43951c-0f32-483c-991c-a1c40944ff80",
    "scrolled": false
   },
   "outputs": [
    {
     "data": {
      "image/png": "[encoded data removed]",
      "text/plain": [
       "<Figure size 432x288 with 1 Axes>"
      ]
     },
     "metadata": {
      "needs_background": "light",
      "tags": []
     },
     "output_type": "display_data"
    }
   ],
   "source": [
    "plt.imshow(x_test[0]);"
   ]
  },
  {
   "cell_type": "markdown",
   "metadata": {
    "application/vnd.databricks.v1+cell": {
     "inputWidgets": {},
     "nuid": "0fb8aa1f-deac-4dd7-8ed3-dd59984cb0bd",
     "showTitle": false,
     "title": ""
    },
    "id": "uPeCvkowu2Eg"
   },
   "source": [
    "Now, we include a `Dropout` layer to the previous model and try to check the model accuracy."
   ]
  },
  {
   "cell_type": "code",
   "execution_count": 21,
   "metadata": {
    "application/vnd.databricks.v1+cell": {
     "inputWidgets": {},
     "nuid": "55134dab-f25e-45c5-8427-5cc89e134719",
     "showTitle": false,
     "title": ""
    },
    "colab": {
     "base_uri": "https://localhost:8080/"
    },
    "id": "DHIBuBWGjcGW",
    "outputId": "41792cec-bb9e-4bc7-fe8f-c40964e39dfc"
   },
   "outputs": [
    {
     "name": "stdout",
     "output_type": "stream",
     "text": [
      "Epoch 1/3\n",
      "1875/1875 [==============================] - 4s 2ms/step - loss: 0.3926 - accuracy: 0.8826\n",
      "Epoch 2/3\n",
      "1875/1875 [==============================] - 4s 2ms/step - loss: 0.2172 - accuracy: 0.9356\n",
      "Epoch 3/3\n",
      "1875/1875 [==============================] - 4s 2ms/step - loss: 0.1799 - accuracy: 0.9449\n"
     ]
    }
   ],
   "source": [
    "model = tf.keras.models.Sequential([tf.keras.layers.Flatten(),\n",
    "                                    tf.keras.layers.Dense(128,activation='relu'),\n",
    "                                    tf.keras.layers.Dropout(0.5),\n",
    "                                    tf.keras.layers.Dense(128, activation='relu'),\n",
    "                                    tf.keras.layers.Dense(10,activation='softmax')])\n",
    "# Complie the model\n",
    "model.compile(optimizer= 'adam'\n",
    "             ,loss= 'sparse_categorical_crossentropy'\n",
    "             ,metrics= ['accuracy'])\n",
    "model.fit(x_train,y_train,epochs=3);"
   ]
  },
  {
   "cell_type": "markdown",
   "metadata": {
    "application/vnd.databricks.v1+cell": {
     "inputWidgets": {},
     "nuid": "cebd39b4-f411-411e-b760-229fabd6f17a",
     "showTitle": false,
     "title": ""
    },
    "id": "bJGi8ni8jcGX"
   },
   "source": [
    "We can see that the model accuracy goes down slightly as the model tries to generalize itself by reducing overfitting."
   ]
  },
  {
   "cell_type": "markdown",
   "metadata": {
    "application/vnd.databricks.v1+cell": {
     "inputWidgets": {},
     "nuid": "a847fc5f-3ea7-4261-92c9-e104c07359b1",
     "showTitle": false,
     "title": ""
    },
    "id": "guyJbEb2jcGY"
   },
   "source": [
    "### V. Build a CNN Model"
   ]
  },
  {
   "cell_type": "markdown",
   "metadata": {
    "application/vnd.databricks.v1+cell": {
     "inputWidgets": {},
     "nuid": "13143bc3-c8f6-4cd9-bf77-73b6b9166e14",
     "showTitle": false,
     "title": ""
    },
    "id": "rB_-aiBljcGY"
   },
   "source": [
    "Now we add a convolution and pooling layer prior to a fully connected layer. Before that, lets look at the individual layers to used in the model and their purpose.\n",
    "\n",
    "**Conv2D layer**\n",
    "\n",
    "The fundamental difference between a densely connected layer and a specialized layer in the convolution operation, which we will call the convolutional layer, is that the dense layer learns global patterns in its global input space, while the convolutional layers learn local patterns in small windows of two dimensions. In an intuitive way, we could say that the main purpose of a convolutional layer is to detect features or visual features in images such as edges, lines, color drops, etc. This is a very interesting property because, once it has learned a characteristic at a specific point in the image, it can recognize it later in any part of it. Instead, in a densely connected neural network it has to learn the pattern again if it appears in a new location of the image. This way CNN can be used to reduce the number of parameters we need to train without sacrificing performance — the power of combining signal processing and deep learning.\n",
    "\n",
    "Keras `Conv2D` is a 2D Convolution Layer, this layer creates a convolution kernel that is convolved with the layer input to produce a tensor of outputs."
   ]
  },
  {
   "cell_type": "markdown",
   "metadata": {
    "application/vnd.databricks.v1+cell": {
     "inputWidgets": {},
     "nuid": "a18db311-024a-4183-959f-c87b95fa09e5",
     "showTitle": false,
     "title": ""
    },
    "id": "LcP-xy_TjcGZ"
   },
   "source": [
    "**Pooling Layer**\n",
    "\n",
    "Convolutional neural networks accompany the convolution layer with pooling layers, which are usually applied immediately after the convolutional layers. The pooling layers simplify the information collected by the convolutional layer and create a condensed version of the information contained in them. In technical terms, pooling layers reduce the dimension of the feature maps. Thus, it reduces the number of parameters to learn and the amount of computation performed in the network.\n",
    "\n",
    "As mentioned above, the result of using a pooling layer is a summarized version of the features detected in the input. So, further operations are performed on summarised features instead of precisely positioned features generated by the convolution layer. This makes the model more robust to variations in the position of the features in the input image."
   ]
  },
  {
   "cell_type": "markdown",
   "metadata": {
    "application/vnd.databricks.v1+cell": {
     "inputWidgets": {},
     "nuid": "401407a5-f29a-46c1-be0e-a50d8ae7ac6d",
     "showTitle": false,
     "title": ""
    },
    "id": "TD5UQ0t0jcGZ"
   },
   "source": [
    "Before building the CNN model, lets import the data and perform the required data transformation to prepare the input for the conv2D layer"
   ]
  },
  {
   "cell_type": "code",
   "execution_count": 22,
   "metadata": {
    "application/vnd.databricks.v1+cell": {
     "inputWidgets": {},
     "nuid": "35061aa7-726a-4ca7-8a84-361d4b51aa3c",
     "showTitle": false,
     "title": ""
    },
    "id": "c-dYrbHWjcGZ"
   },
   "outputs": [],
   "source": [
    "# Load mnist data and split into train and test sets\n",
    "mnist = tf.keras.datasets.mnist\n",
    "(x_train, y_train), (x_test, y_test) = mnist.load_data()"
   ]
  },
  {
   "cell_type": "markdown",
   "metadata": {
    "application/vnd.databricks.v1+cell": {
     "inputWidgets": {},
     "nuid": "bf11c2d7-8853-4f08-97c9-7a084356b9bb",
     "showTitle": false,
     "title": ""
    },
    "id": "jMQxjbKTjcGa"
   },
   "source": [
    "The training and test data needs to be reshaped because the first convolution layer expects an array with the number of images, height, width and number of channels."
   ]
  },
  {
   "cell_type": "code",
   "execution_count": 23,
   "metadata": {
    "application/vnd.databricks.v1+cell": {
     "inputWidgets": {},
     "nuid": "07c6f851-887b-4303-8246-438915e48f3f",
     "showTitle": false,
     "title": ""
    },
    "id": "mf9AIxB4jcGa"
   },
   "outputs": [],
   "source": [
    "x_train = x_train.reshape(60000,28,28,1)\n",
    "x_train = x_train / 255.0\n",
    "x_test = x_test.reshape(10000, 28, 28, 1)\n",
    "x_test = x_test / 255.0"
   ]
  },
  {
   "cell_type": "markdown",
   "metadata": {
    "application/vnd.databricks.v1+cell": {
     "inputWidgets": {},
     "nuid": "91eb2a79-d075-4a0c-9f69-f36d0d924452",
     "showTitle": false,
     "title": ""
    },
    "id": "5nnL4o89jcGa"
   },
   "source": [
    "**Complete CNN model**\n",
    "\n",
    "1. The first hidden layer is a convolutional layer called a `Convolution2D`. The layer has 32 feature maps, which with a 3x3 kernel and a rectifier activation function\n",
    "2. Next we define a pooling layer `MaxPooling2D` layer that takes the max, configured with a pool size of 2×2.\n",
    "3. `Dropout` layer configured to randomly exclude 20% of neurons in the layer in order to reduce overfitting\n",
    "4. Next is the `Flatten` layer (same as used before in DNN model) that converts the 2D matrix data to a vector. It allows the output to be processed by standard fully connected layers.\n",
    "5. Next a fully connected layer with 128 neurons and rectifier activation function.\n",
    "6. Finally, the output layer has 10 neurons for the 10 classes and a `softmax` activation function to output probability-like predictions for each class."
   ]
  },
  {
   "cell_type": "code",
   "execution_count": 24,
   "metadata": {
    "application/vnd.databricks.v1+cell": {
     "inputWidgets": {},
     "nuid": "3c8d2deb-304a-4b48-9b56-7d2fb1dd8ef5",
     "showTitle": false,
     "title": ""
    },
    "id": "4qp_4ExvjcGa"
   },
   "outputs": [],
   "source": [
    "model = tf.keras.Sequential([tf.keras.layers.Conv2D(32, kernel_size=3, input_shape=(28, 28, 1), activation='relu'),\n",
    "                             tf.keras.layers.MaxPooling2D(pool_size=(2, 2)),\n",
    "                             tf.keras.layers.Flatten(),\n",
    "                             tf.keras.layers.Dense(128, activation='relu'),\n",
    "                             tf.keras.layers.Dense(128, activation='relu'),\n",
    "                             tf.keras.layers.Dense(10, activation='softmax')])"
   ]
  },
  {
   "cell_type": "markdown",
   "metadata": {
    "application/vnd.databricks.v1+cell": {
     "inputWidgets": {},
     "nuid": "0d54bf37-11ce-4d75-9b1a-2abb86cfcd73",
     "showTitle": false,
     "title": ""
    },
    "id": "iut4nW6SjcGa"
   },
   "source": [
    "As before, the model is trained using logarithmic loss and the `adam` gradient descent algorithm."
   ]
  },
  {
   "cell_type": "code",
   "execution_count": 25,
   "metadata": {
    "application/vnd.databricks.v1+cell": {
     "inputWidgets": {},
     "nuid": "a1402ecb-7f7a-4643-bf9e-6cbc998eee6d",
     "showTitle": false,
     "title": ""
    },
    "colab": {
     "base_uri": "https://localhost:8080/"
    },
    "id": "mMCdXNE4jcGb",
    "outputId": "d4c1132e-95a7-42f6-ba9b-379892230643"
   },
   "outputs": [
    {
     "name": "stdout",
     "output_type": "stream",
     "text": [
      "Model: \"sequential_4\"\n",
      "_________________________________________________________________\n",
      "Layer (type)                 Output Shape              Param #   \n",
      "=================================================================\n",
      "conv2d (Conv2D)              (None, 26, 26, 32)        320       \n",
      "_________________________________________________________________\n",
      "max_pooling2d (MaxPooling2D) (None, 13, 13, 32)        0         \n",
      "_________________________________________________________________\n",
      "flatten_3 (Flatten)          (None, 5408)              0         \n",
      "_________________________________________________________________\n",
      "dense_7 (Dense)              (None, 128)               692352    \n",
      "_________________________________________________________________\n",
      "dense_8 (Dense)              (None, 128)               16512     \n",
      "_________________________________________________________________\n",
      "dense_9 (Dense)              (None, 10)                1290      \n",
      "=================================================================\n",
      "Total params: 710,474\n",
      "Trainable params: 710,474\n",
      "Non-trainable params: 0\n",
      "_________________________________________________________________\n"
     ]
    }
   ],
   "source": [
    "# Compile model using accuracy to measure model performance\n",
    "model.compile(optimizer='adam', \n",
    "              loss='sparse_categorical_crossentropy', \n",
    "              metrics=['accuracy'])\n",
    "# Print model summary\n",
    "model.summary()"
   ]
  },
  {
   "cell_type": "markdown",
   "metadata": {
    "application/vnd.databricks.v1+cell": {
     "inputWidgets": {},
     "nuid": "59fc401a-976f-4267-bbbe-61330c1a525e",
     "showTitle": false,
     "title": ""
    },
    "id": "qNMboyw9jcGb"
   },
   "source": [
    "Now, lets try to understand the math related to the shape and #parameters:\n",
    "\n",
    "1. The convolution layer output shape with filter size 3x3, 0 padding and a stide of 1 is calculated as follows: (28 +(2\\*0) - 3)/1 + 1 = 26. The #parameters is calculated as follows: (3\\*3 + 1)\\*32 = 320\n",
    "2. The max pooling layer output shape is calculated using the same formula as that for calculating conv layer output: (26 + (2\\*0) -2)/2 +1 = 13. This layer has 0 parameters as the network is not learning any new features.\n",
    "3. The flatten layer shape is calculated as follows: 13\\*13*32 = 5408\n",
    "4. The #parameters for the first fully connected layer is 128*5408 + 128 = 692,352\n",
    "5. The #parameters for the second fully connected layer is 128*128 + 128 = 16,512\n",
    "5. The #parameters for the output layer is 128*10 + 10 = 1290\n",
    "\n",
    "To learn more about the convolution neural network and the math behind it, refer to this amazing free DeepLearning.AI [youtube video playlist](https://bit.ly/2UGa7uH) from Andrew  Ng."
   ]
  },
  {
   "cell_type": "code",
   "execution_count": 26,
   "metadata": {
    "application/vnd.databricks.v1+cell": {
     "inputWidgets": {},
     "nuid": "18a8a0f7-c95e-4236-98a2-50c63e25f863",
     "showTitle": false,
     "title": ""
    },
    "colab": {
     "base_uri": "https://localhost:8080/"
    },
    "id": "ZqBv2k2ZjcGb",
    "outputId": "25dd625e-0b3c-4c7e-e687-21de7f0f8279",
    "scrolled": true
   },
   "outputs": [
    {
     "name": "stdout",
     "output_type": "stream",
     "text": [
      "Epoch 1/5\n",
      "1875/1875 [==============================] - 37s 19ms/step - loss: 0.1466 - accuracy: 0.9552 - val_loss: 0.0793 - val_accuracy: 0.9743\n",
      "Epoch 2/5\n",
      "1875/1875 [==============================] - 34s 18ms/step - loss: 0.0489 - accuracy: 0.9848 - val_loss: 0.0477 - val_accuracy: 0.9859\n",
      "Epoch 3/5\n",
      "1875/1875 [==============================] - 35s 19ms/step - loss: 0.0304 - accuracy: 0.9899 - val_loss: 0.0438 - val_accuracy: 0.9874\n",
      "Epoch 4/5\n",
      "1875/1875 [==============================] - 35s 19ms/step - loss: 0.0216 - accuracy: 0.9931 - val_loss: 0.0424 - val_accuracy: 0.9866\n",
      "Epoch 5/5\n",
      "1875/1875 [==============================] - 35s 19ms/step - loss: 0.0152 - accuracy: 0.9951 - val_loss: 0.0461 - val_accuracy: 0.9873\n"
     ]
    }
   ],
   "source": [
    "# Train the model\n",
    "history = model.fit(x_train, y_train,validation_data=(x_test, y_test), epochs=5)"
   ]
  },
  {
   "cell_type": "markdown",
   "metadata": {
    "application/vnd.databricks.v1+cell": {
     "inputWidgets": {},
     "nuid": "b43531f0-c136-45df-a17f-c5f7433f821c",
     "showTitle": false,
     "title": ""
    },
    "id": "WYKHJio7u2Em"
   },
   "source": [
    "We can see that the CNN model has lower loss and higher accuracy compared to the DNN model."
   ]
  },
  {
   "cell_type": "code",
   "execution_count": 27,
   "metadata": {
    "application/vnd.databricks.v1+cell": {
     "inputWidgets": {},
     "nuid": "72410c4c-eef8-47b5-8a5e-30c0eb18df66",
     "showTitle": false,
     "title": ""
    },
    "colab": {
     "base_uri": "https://localhost:8080/",
     "height": 295
    },
    "id": "JbHHLfORjcGb",
    "outputId": "15dce34a-90ba-4293-c999-bdedfac276e4",
    "scrolled": true
   },
   "outputs": [
    {
     "data": {
      "image/png": "[encoded data removed]",
      "text/plain": [
       "<Figure size 432x288 with 1 Axes>"
      ]
     },
     "metadata": {
      "needs_background": "light",
      "tags": []
     },
     "output_type": "display_data"
    }
   ],
   "source": [
    "# Plot training and validation loss over epochs\n",
    "loss = history.history['loss']\n",
    "val_loss = history.history['val_loss']\n",
    "epochs = range(1, len(loss) + 1)\n",
    "plt.plot(epochs, loss, 'y', label='Training loss')\n",
    "plt.plot(epochs, val_loss, 'r', label='Validation loss')\n",
    "plt.title('Training and validation loss')\n",
    "plt.xlabel('Epochs')\n",
    "plt.ylabel('Loss')\n",
    "plt.legend()\n",
    "plt.show()"
   ]
  },
  {
   "cell_type": "markdown",
   "metadata": {
    "application/vnd.databricks.v1+cell": {
     "inputWidgets": {},
     "nuid": "a9fdd283-2bb1-43cf-bf99-b2bc3782960b",
     "showTitle": false,
     "title": ""
    },
    "id": "hW0lz_M6jcGc"
   },
   "source": [
    "Evaluate the CNN model"
   ]
  },
  {
   "cell_type": "code",
   "execution_count": 28,
   "metadata": {
    "application/vnd.databricks.v1+cell": {
     "inputWidgets": {},
     "nuid": "8297da48-7a0b-421e-a307-3ca91ec98dd3",
     "showTitle": false,
     "title": ""
    },
    "colab": {
     "base_uri": "https://localhost:8080/"
    },
    "id": "IthhctpljcGc",
    "outputId": "feb80270-1d7d-4cdb-9157-792f05bc9c4b"
   },
   "outputs": [
    {
     "name": "stdout",
     "output_type": "stream",
     "text": [
      "CNN Model evaluation \n",
      " Validation Loss: 0.046058375388383865\n",
      " Validation Accuracy: 0.9872999787330627\n"
     ]
    }
   ],
   "source": [
    "# Evaluate the model\n",
    "val_loss, val_acc = model.evaluate(x_test,y_test,verbose=0)\n",
    "print(\"CNN Model evaluation \\n\",\n",
    "      f\"Validation Loss: {val_loss}\\n\",\n",
    "      f\"Validation Accuracy: {val_acc}\")"
   ]
  },
  {
   "cell_type": "markdown",
   "metadata": {
    "application/vnd.databricks.v1+cell": {
     "inputWidgets": {},
     "nuid": "385018af-b395-421e-92e9-4e84fd124587",
     "showTitle": false,
     "title": ""
    },
    "id": "QdDj-zntjcGc"
   },
   "source": [
    "We can see that the CNN model performs better on the test data as well compared to the DNN model.\n",
    "\n",
    "Next we get predict classes(digits) on the test dataset"
   ]
  },
  {
   "cell_type": "code",
   "execution_count": 29,
   "metadata": {
    "application/vnd.databricks.v1+cell": {
     "inputWidgets": {},
     "nuid": "24e284bf-99ca-4ac1-a7ec-87a73839ca3e",
     "showTitle": false,
     "title": ""
    },
    "id": "2uQ2hd7_jcGd"
   },
   "outputs": [],
   "source": [
    "pred_cnn = model.predict(x_test)"
   ]
  },
  {
   "cell_type": "markdown",
   "metadata": {
    "application/vnd.databricks.v1+cell": {
     "inputWidgets": {},
     "nuid": "75aa722d-9b4e-4ba9-bdbe-6cd96c34fc77",
     "showTitle": false,
     "title": ""
    },
    "id": "l0C4fRFTjcGe"
   },
   "source": [
    "Use argmax function to select the index of an array that results in the largest value."
   ]
  },
  {
   "cell_type": "code",
   "execution_count": 30,
   "metadata": {
    "application/vnd.databricks.v1+cell": {
     "inputWidgets": {},
     "nuid": "02653b91-99a1-4793-98d2-5690a538672c",
     "showTitle": false,
     "title": ""
    },
    "colab": {
     "base_uri": "https://localhost:8080/"
    },
    "id": "SpFJEBjyjcGe",
    "outputId": "6cbcfc0b-bac9-47b9-d19b-a804b8c08bde",
    "scrolled": true
   },
   "outputs": [
    {
     "name": "stdout",
     "output_type": "stream",
     "text": [
      "7\n"
     ]
    }
   ],
   "source": [
    "print (np.argmax(pred_cnn[0]))"
   ]
  },
  {
   "cell_type": "code",
   "execution_count": 31,
   "metadata": {
    "application/vnd.databricks.v1+cell": {
     "inputWidgets": {},
     "nuid": "583d024e-0ec3-4e21-b0cf-168b30c13971",
     "showTitle": false,
     "title": ""
    },
    "colab": {
     "base_uri": "https://localhost:8080/",
     "height": 281
    },
    "id": "QUW2ZW0yjcGe",
    "outputId": "3eef4e06-0368-4c58-ccc3-6e60a738eb25"
   },
   "outputs": [
    {
     "data": {
      "text/plain": [
       "<matplotlib.image.AxesImage at 0x7f71ed2b9f10>"
      ]
     },
     "execution_count": 31,
     "metadata": {
      "tags": []
     },
     "output_type": "execute_result"
    },
    {
     "data": {
      "image/png": "[encoded data removed]",
      "text/plain": [
       "<Figure size 432x288 with 1 Axes>"
      ]
     },
     "metadata": {
      "needs_background": "light",
      "tags": []
     },
     "output_type": "display_data"
    }
   ],
   "source": [
    "plt.imshow(x_test[0].reshape(28,28))"
   ]
  }
 ],
 "metadata": {
  "anaconda-cloud": {},
  "application/vnd.databricks.v1+notebook": {
   "dashboards": [],
   "language": "python",
   "notebookMetadata": {
    "pythonIndentUnit": 2
   },
   "notebookName": "Deep Learning Basics_DNN_CNN (1)",
   "notebookOrigID": 4235718099986368,
   "widgets": {}
  },
  "colab": {
   "name": "Deep Learning Basics_DNN_CNN.ipynb",
   "provenance": []
  },
  "kernelspec": {
   "display_name": "Python 3",
   "language": "python",
   "name": "python3"
  },
  "language_info": {
   "codemirror_mode": {
    "name": "ipython",
    "version": 3
   },
   "file_extension": ".py",
   "mimetype": "text/x-python",
   "name": "python",
   "nbconvert_exporter": "python",
   "pygments_lexer": "ipython3",
   "version": "3.7.3"
  }
 },
 "nbformat": 4,
 "nbformat_minor": 1
}
