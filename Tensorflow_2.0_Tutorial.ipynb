{
 "cells": [
  {
   "cell_type": "markdown",
   "metadata": {
    "application/vnd.databricks.v1+cell": {
     "inputWidgets": {},
     "nuid": "f7d5b1ca-1f64-452a-a14f-d58a78c75a78",
     "showTitle": false,
     "title": ""
    },
    "id": "G6IR3m2w5OJo"
   },
   "source": [
    "# TensorFlow 2.0\n",
    "\n",
    "-----\n",
    "\n",
    "TensorFlow is an open-source library used to train and develop machine learning models. More specifically, it is a symbolic math library. TensorFlow is an end-to-end platform that caters to beginners and experts alike. TensorFlow is not only flexible but also offers multiple layers of abstraction. Its APIs operate at both high and low levels. Because TensorFlow is created by the Google Brain team, there is both documentation and training support.\n",
    "\n",
    "TensorFlow is used to create data flow graphs. This is a structure in which data moves through a graph that processes at each node. These nodes are mathematical operations, and the connections represent a tensor or a multidimensional data array. These operations are where learning occurs, which can train neural networks for machine learning, natural language processing, or even partial differential equation-based simulations. These neural networks can be used for image recognition, word embeddings, recurrent neural networks, handwritten digit classification, or sequence-to-sequence models. The mathematical operations that occur do not happen within Python. Instead, they occur in C++ where they are written in powerful and high-performance binaries. Python is only the programming abstraction that links everything together. Because it is in Python, it makes it easier for developers to learn. With that said, TensorFlow can still be difficult for beginners to learn due to the complexity of the content. Here is my attempt to create a mini tutotrial to understand the basics of TensorFlow."
   ]
  },
  {
   "cell_type": "markdown",
   "metadata": {
    "application/vnd.databricks.v1+cell": {
     "inputWidgets": {},
     "nuid": "2263c5b4-202c-4772-9a99-872533926e8f",
     "showTitle": false,
     "title": ""
    },
    "id": "80lirDf75OJu"
   },
   "source": [
    "Import packages"
   ]
  },
  {
   "cell_type": "code",
   "execution_count": 1,
   "metadata": {
    "application/vnd.databricks.v1+cell": {
     "inputWidgets": {},
     "nuid": "f6bbe87c-51cb-41d6-8b6a-27c796c3938a",
     "showTitle": false,
     "title": ""
    },
    "id": "MG8i0l_K5OJv"
   },
   "outputs": [],
   "source": [
    "import os\n",
    "import numpy as np\n",
    "import tensorflow as tf"
   ]
  },
  {
   "cell_type": "markdown",
   "metadata": {
    "application/vnd.databricks.v1+cell": {
     "inputWidgets": {},
     "nuid": "9b4ccd18-1c17-4d83-ae8e-7e699698ec78",
     "showTitle": false,
     "title": ""
    },
    "id": "va5-1vSw5OJw"
   },
   "source": [
    "Check tensorflow version"
   ]
  },
  {
   "cell_type": "code",
   "execution_count": 2,
   "metadata": {
    "application/vnd.databricks.v1+cell": {
     "inputWidgets": {},
     "nuid": "3c916923-8bb1-4e74-b8e3-d2ce3c35bfc3",
     "showTitle": false,
     "title": ""
    },
    "colab": {
     "base_uri": "https://localhost:8080/",
     "height": 35
    },
    "id": "YCTtP0nZ5OJw",
    "outputId": "4f595449-dd61-4a03-dece-028dbf21e8a9"
   },
   "outputs": [
    {
     "data": {
      "application/vnd.google.colaboratory.intrinsic+json": {
       "type": "string"
      },
      "text/plain": [
       "'2.6.0'"
      ]
     },
     "execution_count": 2,
     "metadata": {},
     "output_type": "execute_result"
    }
   ],
   "source": [
    "tf.__version__"
   ]
  },
  {
   "cell_type": "markdown",
   "metadata": {
    "application/vnd.databricks.v1+cell": {
     "inputWidgets": {},
     "nuid": "a5d3e45e-2d31-41d9-9429-d2bbcc14b96b",
     "showTitle": false,
     "title": ""
    },
    "id": "WHJBUf5g5OJx"
   },
   "source": [
    "## What is TensorFlow?\n",
    "\n",
    "TensorFlow is an open-source end-to-end platform for creating Machine Learning applications. It is a symbolic math library that uses dataflow and differentiable programming to perform various tasks focused on training and inference of deep neural networks.\n",
    "\n",
    "## How TensorFlow Works\n",
    "TensorFlow enables you to build dataflow graphs and structures to define how data moves through a graph by taking inputs as a multi-dimensional array called **Tensor**. It allows you to construct a flowchart of operations that can be performed on these inputs, which goes at one end and comes at the other end as output.\n",
    "\n",
    "## Tensor\n",
    "\n",
    "In TensorFlow, a tensor is a collection of feature vectors (i.e., array) of n-dimensions. For instance, if we have a 2x3 matrix with values from 1 to 6, we write:\n",
    "\n",
    "\n",
    "\n",
    "\\begin{bmatrix}\n",
    "    1 & 2 & 3 \\\\\n",
    "    4 & 5 & 6\n",
    "  \\end{bmatrix}\n",
    "  \n",
    "TensorFlow represents this matrix as\n",
    "\n",
    "[[1, 2, 3],\n",
    "   [4, 5, 6]]\n",
    "   \n",
    "## Types of Tensor\n",
    "In TensorFlow, all the computations pass through one or more tensors. A tf.tensor is an object with three properties:\n",
    "\n",
    "- A unique label (name)\n",
    "- A dimension (shape)\n",
    "- A data type (dtype)\n",
    "\n",
    "Each operation you will do with TensorFlow involves the manipulation of a tensor. There are two main tensor types:\n",
    "\n",
    "- tf.Variable\n",
    "- tf.constant"
   ]
  },
  {
   "cell_type": "markdown",
   "metadata": {
    "application/vnd.databricks.v1+cell": {
     "inputWidgets": {},
     "nuid": "1e6a7e8c-ba71-4d01-a07e-40364453c993",
     "showTitle": false,
     "title": ""
    },
    "id": "jOvVPu8o5OJx"
   },
   "source": [
    "### Constant\n",
    "Creating constant tensors i.e. their values cant change.\n",
    "\n",
    "- can be used to create bais in image processing\n",
    "- can be used to constant matrices"
   ]
  },
  {
   "cell_type": "code",
   "execution_count": 3,
   "metadata": {
    "application/vnd.databricks.v1+cell": {
     "inputWidgets": {},
     "nuid": "7e905bd9-debe-48f3-a0ef-bbabcbd1a2d0",
     "showTitle": false,
     "title": ""
    },
    "colab": {
     "base_uri": "https://localhost:8080/"
    },
    "id": "4Xsvc85j5OJy",
    "outputId": "5a544c23-0ee8-4658-86e2-89e95443de16"
   },
   "outputs": [
    {
     "name": "stdout",
     "output_type": "stream",
     "text": [
      "b'Hello TensorFlow!!'\n",
      " tf.Tensor(b'Hello TensorFlow!!', shape=(), dtype=string)\n",
      "b'Hello TensorFlow!!'\n"
     ]
    }
   ],
   "source": [
    "# Tensor with string values\n",
    "hello = tf.constant('Hello TensorFlow!!')\n",
    "print (f'{hello}\\n',hello)\n",
    "print (hello.numpy())\n"
   ]
  },
  {
   "cell_type": "code",
   "execution_count": 4,
   "metadata": {
    "application/vnd.databricks.v1+cell": {
     "inputWidgets": {},
     "nuid": "efb3cecb-7c24-4522-a669-ce95598e1bf4",
     "showTitle": false,
     "title": ""
    },
    "colab": {
     "base_uri": "https://localhost:8080/"
    },
    "id": "cY4Hf05t5OJz",
    "outputId": "18b77648-6b02-4ae0-f218-6d7fbf872cde"
   },
   "outputs": [
    {
     "name": "stdout",
     "output_type": "stream",
     "text": [
      "tf.Tensor(1, shape=(), dtype=int32)\n",
      "1\n"
     ]
    }
   ],
   "source": [
    "# Tensor with integer values\n",
    "num = tf.constant(1)\n",
    "print(num)\n",
    "print(f'{num}')"
   ]
  },
  {
   "cell_type": "code",
   "execution_count": 5,
   "metadata": {
    "application/vnd.databricks.v1+cell": {
     "inputWidgets": {},
     "nuid": "7871ccae-3501-48c4-ae5e-cb83a669637a",
     "showTitle": false,
     "title": ""
    },
    "colab": {
     "base_uri": "https://localhost:8080/"
    },
    "id": "oJZ8aGFo5OJz",
    "outputId": "be100e9b-774d-41f7-db96-20fd86438bc4"
   },
   "outputs": [
    {
     "name": "stdout",
     "output_type": "stream",
     "text": [
      "tf.Tensor(1.12345, shape=(), dtype=float32)\n"
     ]
    }
   ],
   "source": [
    "# Tensor with decimal values\n",
    "decimal = tf.constant(1.12345, tf.float32)\n",
    "print(decimal)"
   ]
  },
  {
   "cell_type": "code",
   "execution_count": 6,
   "metadata": {
    "application/vnd.databricks.v1+cell": {
     "inputWidgets": {},
     "nuid": "a8293980-82a6-48ba-918e-550cfb2d035e",
     "showTitle": false,
     "title": ""
    },
    "colab": {
     "base_uri": "https://localhost:8080/"
    },
    "id": "UjZ2XzQF5OJ0",
    "outputId": "b07a26c1-364c-4916-ece2-4a36ecd4e598"
   },
   "outputs": [
    {
     "name": "stdout",
     "output_type": "stream",
     "text": [
      "tf.Tensor([1 3 5], shape=(3,), dtype=int16)\n",
      "tf.Tensor([ True  True False], shape=(3,), dtype=bool)\n",
      "tf.Tensor(\n",
      "[[1 2]\n",
      " [3 4]], shape=(2, 2), dtype=int32)\n",
      "tf.Tensor(\n",
      "[[[1 2]\n",
      "  [3 4]\n",
      "  [5 6]]], shape=(1, 3, 2), dtype=int16)\n"
     ]
    }
   ],
   "source": [
    "# Tensor of dimension 1\n",
    "r1_vector = tf.constant([1,3,5], tf.int16)\n",
    "print(r1_vector)\n",
    "r2_boolean = tf.constant([True, True, False], tf.bool)\n",
    "print(r2_boolean)\n",
    "\n",
    "# Tensor of dimension 2\n",
    "r2_matrix = tf.constant([ [1, 2],\n",
    "                          [3, 4] ],tf.int32)\n",
    "print(r2_matrix)\n",
    "\n",
    "# Tensor of dimension 3\n",
    "r3_matrix = tf.constant([ [[1, 2],\n",
    "                           [3, 4], \n",
    "                           [5, 6]] ], tf.int16)\n",
    "print(r3_matrix)"
   ]
  },
  {
   "cell_type": "code",
   "execution_count": 7,
   "metadata": {
    "application/vnd.databricks.v1+cell": {
     "inputWidgets": {},
     "nuid": "8538e4de-8c4d-4c83-a4fb-131efc30a996",
     "showTitle": false,
     "title": ""
    },
    "colab": {
     "base_uri": "https://localhost:8080/"
    },
    "id": "O_DgorKs5OJ0",
    "outputId": "d9a9760e-07ce-47d2-c606-160ccaaf3b2e"
   },
   "outputs": [
    {
     "name": "stdout",
     "output_type": "stream",
     "text": [
      "tf.Tensor(\n",
      "[[50 50]\n",
      " [50 50]\n",
      " [50 50]\n",
      " [50 50]\n",
      " [50 50]\n",
      " [50 50]], shape=(6, 2), dtype=int32)\n"
     ]
    }
   ],
   "source": [
    "D = tf.constant(50,shape=(6,2))\n",
    "print (D)"
   ]
  },
  {
   "cell_type": "markdown",
   "metadata": {
    "application/vnd.databricks.v1+cell": {
     "inputWidgets": {},
     "nuid": "3ef2baa1-befb-4014-b057-91164db21fe2",
     "showTitle": false,
     "title": ""
    },
    "id": "-gsPaWAI5OJ1"
   },
   "source": [
    "### Variable\n",
    "To create a variable, you can use tf.Variable() method\n",
    "\n",
    "- all the weights in neural network are defined as variables"
   ]
  },
  {
   "cell_type": "code",
   "execution_count": 8,
   "metadata": {
    "application/vnd.databricks.v1+cell": {
     "inputWidgets": {},
     "nuid": "c4978d92-e819-4672-847b-050911746e86",
     "showTitle": false,
     "title": ""
    },
    "colab": {
     "base_uri": "https://localhost:8080/"
    },
    "id": "lyaQ7V5t5OJ1",
    "outputId": "bb2621b4-c0bc-4d3d-e15d-f7adbd9fb18b"
   },
   "outputs": [
    {
     "name": "stdout",
     "output_type": "stream",
     "text": [
      "[[0 1 2 3]\n",
      " [5 6 7 8]]\n",
      "(2, 4)\n",
      "tf.Tensor(2, shape=(), dtype=int32)\n"
     ]
    }
   ],
   "source": [
    "A = tf.Variable(initial_value = ([[0,1,2,3],[5,6,7,8]]))\n",
    "print (A.numpy())\n",
    "#shape of the variable\n",
    "print (A.shape)\n",
    "#dimension of a matrix\n",
    "print (tf.rank(A))"
   ]
  },
  {
   "cell_type": "code",
   "execution_count": 9,
   "metadata": {
    "application/vnd.databricks.v1+cell": {
     "inputWidgets": {},
     "nuid": "382c49de-1b07-44f6-923e-304b39ea2f51",
     "showTitle": false,
     "title": ""
    },
    "colab": {
     "base_uri": "https://localhost:8080/"
    },
    "id": "rNrgviJe5OJ1",
    "outputId": "7c8ed70c-0a5f-4a6e-a262-86cb19443c92"
   },
   "outputs": [
    {
     "name": "stdout",
     "output_type": "stream",
     "text": [
      "(4, 1)\n",
      "tf.Tensor(2, shape=(), dtype=int32)\n"
     ]
    }
   ],
   "source": [
    "b = tf.Variable([[1],[2],[3],[4]])\n",
    "print (b.shape)\n",
    "print (tf.rank(b))"
   ]
  },
  {
   "cell_type": "markdown",
   "metadata": {
    "application/vnd.databricks.v1+cell": {
     "inputWidgets": {},
     "nuid": "1d1ba03d-4657-4fd8-a442-d03645e451ed",
     "showTitle": false,
     "title": ""
    },
    "id": "jLodNqO85OJ2"
   },
   "source": [
    "**Using Eager Execution**\n",
    "\n",
    "With eager execution ([relased](!https://ai.googleblog.com/2017/10/eager-execution-imperative-define-by.html) in late 2017), TensorFlow's eager execution is an imperative programming environment that evaluates operations immediately, without building graphs: operations return concrete values instead of constructing a computational graph to run later. This makes it easy to get started with TensorFlow and debug models, and it reduces boilerplate as well. Operations execute immediately and return their values to Python without requiring a Session.run(). For example, to multiply two matrices together, we write this:"
   ]
  },
  {
   "cell_type": "code",
   "execution_count": 10,
   "metadata": {
    "application/vnd.databricks.v1+cell": {
     "inputWidgets": {},
     "nuid": "0598f0a3-3d56-48a1-94c3-15350add8020",
     "showTitle": false,
     "title": ""
    },
    "colab": {
     "base_uri": "https://localhost:8080/"
    },
    "id": "zegoYcX-5OJ2",
    "outputId": "2961c1c6-17f4-486d-a8db-7c2ee6176b41"
   },
   "outputs": [
    {
     "name": "stdout",
     "output_type": "stream",
     "text": [
      "w: <tf.Variable 'Variable:0' shape=(1,) dtype=float32, numpy=array([0.5], dtype=float32)>\n",
      "b: <tf.Variable 'Variable:0' shape=(1,) dtype=float32, numpy=array([-0.5], dtype=float32)>\n",
      "x: <tf.Variable 'Variable:0' shape=(1,) dtype=float32, numpy=array([5.], dtype=float32)>\n",
      "y: tf.Tensor([2.], shape=(1,), dtype=float32)\n"
     ]
    }
   ],
   "source": [
    "w = tf.Variable([.5],tf.float32)\n",
    "b = tf.Variable([-.5],tf.float32)\n",
    "\n",
    "x = tf.Variable([5.0],tf.float32)\n",
    "y=w*x +b\n",
    "print('w:',w)\n",
    "print('b:',b)\n",
    "print('x:',x)\n",
    "print('y:',y)"
   ]
  },
  {
   "cell_type": "code",
   "execution_count": 11,
   "metadata": {
    "application/vnd.databricks.v1+cell": {
     "inputWidgets": {},
     "nuid": "136e3787-b74d-48f7-bc00-ea74d53c7e5b",
     "showTitle": false,
     "title": ""
    },
    "colab": {
     "base_uri": "https://localhost:8080/"
    },
    "id": "tDjfmEiE5OJ2",
    "outputId": "3c7623d7-413f-406f-a4f4-2deaeeadf33a"
   },
   "outputs": [
    {
     "data": {
      "text/plain": [
       "array([2.], dtype=float32)"
      ]
     },
     "execution_count": 11,
     "metadata": {},
     "output_type": "execute_result"
    }
   ],
   "source": [
    "y.numpy()"
   ]
  },
  {
   "cell_type": "markdown",
   "metadata": {
    "application/vnd.databricks.v1+cell": {
     "inputWidgets": {},
     "nuid": "f3e0b23b-ab64-4830-b152-acec2cd68a94",
     "showTitle": false,
     "title": ""
    },
    "id": "bI81KPnc5OJ2"
   },
   "source": [
    "## Creating tensors from Existing Objects"
   ]
  },
  {
   "cell_type": "code",
   "execution_count": 12,
   "metadata": {
    "application/vnd.databricks.v1+cell": {
     "inputWidgets": {},
     "nuid": "71be292f-9478-4852-a305-9df71b44d3e4",
     "showTitle": false,
     "title": ""
    },
    "colab": {
     "base_uri": "https://localhost:8080/"
    },
    "id": "OHNs7TuA5OJ7",
    "outputId": "d85f7df9-71dd-4f56-9258-97608c0b8bb8"
   },
   "outputs": [
    {
     "data": {
      "text/plain": [
       "<tf.Tensor: shape=(), dtype=float64, numpy=9.0>"
      ]
     },
     "execution_count": 12,
     "metadata": {},
     "output_type": "execute_result"
    }
   ],
   "source": [
    "t = tf.convert_to_tensor(9, dtype=tf.float64)\n",
    "t"
   ]
  },
  {
   "cell_type": "markdown",
   "metadata": {
    "application/vnd.databricks.v1+cell": {
     "inputWidgets": {},
     "nuid": "fd9e5a2c-128b-4e8a-9acb-64e78c686955",
     "showTitle": false,
     "title": ""
    },
    "id": "5pNDMomf5OJ7"
   },
   "source": [
    "**Creating tensors from an array**"
   ]
  },
  {
   "cell_type": "code",
   "execution_count": 13,
   "metadata": {
    "application/vnd.databricks.v1+cell": {
     "inputWidgets": {},
     "nuid": "c3092921-4cd0-45ba-971b-98e8be9e0ea3",
     "showTitle": false,
     "title": ""
    },
    "colab": {
     "base_uri": "https://localhost:8080/"
    },
    "id": "t9kPWH0s5OJ8",
    "outputId": "4a528ff7-4c17-43c3-d7be-ec6bd43e7be2"
   },
   "outputs": [
    {
     "name": "stdout",
     "output_type": "stream",
     "text": [
      "one_dim_array Shape :  ([1], [2], [3], [4], [5])\n",
      "\n",
      "\n",
      "tf.Tensor(\n",
      "[[1.]\n",
      " [2.]\n",
      " [3.]\n",
      " [4.]\n",
      " [5.]], shape=(5, 1), dtype=float64)\n",
      "rank of tf_t :  tf.Tensor(2, shape=(), dtype=int32)\n",
      "shape of tf_t:  tf.Tensor([5 1], shape=(2,), dtype=int32)\n",
      "\n",
      "\n",
      "tf_t[0] :  tf.Tensor([1.], shape=(1,), dtype=float64)\n",
      "tf_t[2] :  tf.Tensor([3.], shape=(1,), dtype=float64)\n",
      "\n",
      "\n",
      "run(tf_t) : \n",
      " tf.Tensor(\n",
      "[[1.]\n",
      " [2.]\n",
      " [3.]\n",
      " [4.]\n",
      " [5.]], shape=(5, 1), dtype=float64)\n"
     ]
    }
   ],
   "source": [
    "one_dim_array = ([1], [2], [3], [4], [5])\n",
    "print(\"one_dim_array Shape : \", one_dim_array)\n",
    "\n",
    "tf_t = tf.convert_to_tensor(one_dim_array, dtype=tf.float64)\n",
    "print('\\n')\n",
    "print(tf_t)\n",
    "print('rank of tf_t : ', tf.rank(tf_t))     #Note: if we do not use tfs.run(), the tf.rank will only describe the node\n",
    "print('shape of tf_t: ', tf.shape(tf_t))\n",
    "print('\\n')\n",
    "print('tf_t[0] : ', tf_t[0])\n",
    "print('tf_t[2] : ', tf_t[2])\n",
    "print('\\n')\n",
    "print('run(tf_t) : \\n', tf_t)"
   ]
  },
  {
   "cell_type": "markdown",
   "metadata": {
    "application/vnd.databricks.v1+cell": {
     "inputWidgets": {},
     "nuid": "8587dd80-130e-4fc3-93c0-edc6ac48a513",
     "showTitle": false,
     "title": ""
    },
    "id": "q4GmnSHe5OJ8"
   },
   "source": [
    "## Creating tensors with tf.zeros and tf.ones"
   ]
  },
  {
   "cell_type": "code",
   "execution_count": 14,
   "metadata": {
    "application/vnd.databricks.v1+cell": {
     "inputWidgets": {},
     "nuid": "60b27cf4-2bb4-46e8-afa4-0afe7a908365",
     "showTitle": false,
     "title": ""
    },
    "colab": {
     "base_uri": "https://localhost:8080/"
    },
    "id": "6EjBxn0w5OJ8",
    "outputId": "5bdcb1f7-b021-45ca-ac80-037de7747c10"
   },
   "outputs": [
    {
     "name": "stdout",
     "output_type": "stream",
     "text": [
      "Tensor full of zeros as int32, 3 rows and 4 columns:\n",
      "[[0 0 0 0]\n",
      " [0 0 0 0]\n",
      " [0 0 0 0]]\n"
     ]
    }
   ],
   "source": [
    "# Making a tensor filled with zeros. shape=[rows, columns]\n",
    "tensor = tf.zeros(shape=[3, 4], dtype=tf.int32)\n",
    "print(('Tensor full of zeros as int32, 3 rows and 4 columns:\\n{0}').format(\n",
    "    tensor.numpy()\n",
    "))"
   ]
  },
  {
   "cell_type": "code",
   "execution_count": 15,
   "metadata": {
    "application/vnd.databricks.v1+cell": {
     "inputWidgets": {},
     "nuid": "7dc0f385-a7c5-408a-85b5-04867df31ae0",
     "showTitle": false,
     "title": ""
    },
    "colab": {
     "base_uri": "https://localhost:8080/"
    },
    "id": "iGdJOrET5OJ9",
    "outputId": "878aca3a-ad4f-481e-953d-7a3d99ce5995"
   },
   "outputs": [
    {
     "name": "stdout",
     "output_type": "stream",
     "text": [
      "\n",
      "Tensor full of ones as float32, 5 rows and 3 columns:\n",
      "[[1. 1. 1.]\n",
      " [1. 1. 1.]\n",
      " [1. 1. 1.]\n",
      " [1. 1. 1.]\n",
      " [1. 1. 1.]]\n"
     ]
    }
   ],
   "source": [
    "# Making a tensor filled with zeros with data type of float32\n",
    "tensor = tf.ones(shape=[5, 3], dtype=tf.float32)\n",
    "print(('\\nTensor full of ones as float32, 5 rows and 3 columns:\\n{0}').format(\n",
    "    tensor.numpy()\n",
    "))"
   ]
  },
  {
   "cell_type": "markdown",
   "metadata": {
    "application/vnd.databricks.v1+cell": {
     "inputWidgets": {},
     "nuid": "a692fdc5-7e12-46f6-a885-2c428d611625",
     "showTitle": false,
     "title": ""
    },
    "id": "IQs1Twgt5OJ-"
   },
   "source": [
    "## Reshape data with tf.reshape"
   ]
  },
  {
   "cell_type": "code",
   "execution_count": 16,
   "metadata": {
    "application/vnd.databricks.v1+cell": {
     "inputWidgets": {},
     "nuid": "e3881acd-b3fd-41b5-a177-1c22cfd6ab30",
     "showTitle": false,
     "title": ""
    },
    "colab": {
     "base_uri": "https://localhost:8080/"
    },
    "id": "ww3aSLFK5OJ-",
    "outputId": "296397d5-cb64-41aa-fd84-a6345aace93a"
   },
   "outputs": [
    {
     "name": "stdout",
     "output_type": "stream",
     "text": [
      "Tensor BEFORE reshape:\n",
      "[[3 2]\n",
      " [5 2]\n",
      " [9 5]\n",
      " [1 3]]\n",
      "Tensor AFTER reshape:\n",
      "[[3 2 5 2 9 5 1 3]]\n"
     ]
    }
   ],
   "source": [
    "# Making a tensor for reshaping\n",
    "tensor = tf.constant([[3, 2],\n",
    "                      [5, 2],\n",
    "                      [9, 5],\n",
    "                      [1, 3]])\n",
    "\n",
    "# Reshaping the tensor into a shape of: shape = [rows, columns]\n",
    "reshaped_tensor = tf.reshape(tensor = tensor,\n",
    "                             shape = [1, 8])\n",
    "\n",
    "print(f'Tensor BEFORE reshape:\\n{tensor.numpy()}')\n",
    "print(f'Tensor AFTER reshape:\\n{reshaped_tensor.numpy()}')"
   ]
  },
  {
   "cell_type": "markdown",
   "metadata": {
    "application/vnd.databricks.v1+cell": {
     "inputWidgets": {},
     "nuid": "4da4fa2b-16d1-4bc9-81f1-e58873de255f",
     "showTitle": false,
     "title": ""
    },
    "id": "gY4xx_Rd5OJ-"
   },
   "source": [
    "##  Cast tensors to other data types with tf.cast"
   ]
  },
  {
   "cell_type": "code",
   "execution_count": 17,
   "metadata": {
    "application/vnd.databricks.v1+cell": {
     "inputWidgets": {},
     "nuid": "8538bbfc-0b2e-4bf4-8933-0050a53e218b",
     "showTitle": false,
     "title": ""
    },
    "colab": {
     "base_uri": "https://localhost:8080/"
    },
    "id": "2VSQsJSq5OJ_",
    "outputId": "e033c099-0f55-486c-d22f-acfbf7a8666f"
   },
   "outputs": [
    {
     "name": "stdout",
     "output_type": "stream",
     "text": [
      "Tensor with floats:\n",
      "[[3.1 2.8]\n",
      " [5.2 2.3]\n",
      " [9.7 5.5]\n",
      " [1.1 3.4]]\n",
      "Tensor cast from float to int :\n",
      "[[3 2]\n",
      " [5 2]\n",
      " [9 5]\n",
      " [1 3]]\n"
     ]
    }
   ],
   "source": [
    "# Making a tensor\n",
    "t = tf.constant([[3.1, 2.8],\n",
    "                      [5.2, 2.3],\n",
    "                      [9.7, 5.5],\n",
    "                      [1.1, 3.4]], \n",
    "                      dtype=tf.float32)\n",
    "t_int = tf.cast(tensor, tf.int32)\n",
    "\n",
    "print(f'Tensor with floats:\\n{t.numpy()}')\n",
    "print(f'Tensor cast from float to int :\\n{t_int.numpy()}')"
   ]
  },
  {
   "cell_type": "markdown",
   "metadata": {
    "application/vnd.databricks.v1+cell": {
     "inputWidgets": {},
     "nuid": "c3d049b4-7625-44a7-a656-ce0b9a784edc",
     "showTitle": false,
     "title": ""
    },
    "id": "2bpxfteL5OJ_"
   },
   "source": [
    "## Linear Algebra Operations\n",
    "\n",
    "1. Transponse tensor with `tf.transpose`\n",
    "2. Matrix multiplication with `tf.matmul`\n",
    "3. Element-wise multiplication with `tf.multiply`\n",
    "4. Identity matrix with tf.eye\n",
    "5. Determinant with tf.linalg.det\n",
    "6. Dot product with tf.tensordot"
   ]
  },
  {
   "cell_type": "markdown",
   "metadata": {
    "application/vnd.databricks.v1+cell": {
     "inputWidgets": {},
     "nuid": "e985cd90-125a-4442-9ce5-5427ed5433ed",
     "showTitle": false,
     "title": ""
    },
    "id": "4adJF-z55OJ_"
   },
   "source": [
    "### Transpose a tensor with tf.transpose"
   ]
  },
  {
   "cell_type": "code",
   "execution_count": 18,
   "metadata": {
    "application/vnd.databricks.v1+cell": {
     "inputWidgets": {},
     "nuid": "637c5dd7-39f5-4f31-9f2e-033bbbc03d05",
     "showTitle": false,
     "title": ""
    },
    "colab": {
     "base_uri": "https://localhost:8080/"
    },
    "id": "hlIDDDba5OKA",
    "outputId": "53f5b50b-d097-4f57-d9a2-0950fa2917ce"
   },
   "outputs": [
    {
     "name": "stdout",
     "output_type": "stream",
     "text": [
      "The transposed matrix A:\n",
      "[[3 1]\n",
      " [7 9]]\n"
     ]
    }
   ],
   "source": [
    "A = tf.constant([[3, 7],\n",
    "                 [1, 9]])\n",
    "\n",
    "A_T = tf.transpose(A)\n",
    "\n",
    "print(f'The transposed matrix A:\\n{A_T}')"
   ]
  },
  {
   "cell_type": "markdown",
   "metadata": {
    "application/vnd.databricks.v1+cell": {
     "inputWidgets": {},
     "nuid": "5ba2c917-9341-49b3-a04b-a5f17d88120a",
     "showTitle": false,
     "title": ""
    },
    "id": "0DC6asW85OKA"
   },
   "source": [
    "### Matrix multiplication with tf.matmul"
   ]
  },
  {
   "cell_type": "code",
   "execution_count": 19,
   "metadata": {
    "application/vnd.databricks.v1+cell": {
     "inputWidgets": {},
     "nuid": "6ff9da11-8c28-4e8b-9d03-3279a08adc5a",
     "showTitle": false,
     "title": ""
    },
    "colab": {
     "base_uri": "https://localhost:8080/"
    },
    "id": "ITb5DtHY5OKA",
    "outputId": "7d6ac416-95d1-45af-b1a9-33e8848d0a3c"
   },
   "outputs": [
    {
     "name": "stdout",
     "output_type": "stream",
     "text": [
      "Matrix Multiplication of A and v results in a new Tensor:\n",
      "[[29]\n",
      " [23]]\n"
     ]
    }
   ],
   "source": [
    "# Some Matrix A\n",
    "A = tf.constant([[3, 7],\n",
    "                 [1, 9]])\n",
    "\n",
    "# Some vector v\n",
    "v = tf.constant([[5],\n",
    "                 [2]])\n",
    "\n",
    "# Matrix multiplication of A.v^T\n",
    "Av = tf.matmul(A, v)\n",
    "\n",
    "print(f'Matrix Multiplication of A and v results in a new Tensor:\\n{Av}')"
   ]
  },
  {
   "cell_type": "markdown",
   "metadata": {
    "application/vnd.databricks.v1+cell": {
     "inputWidgets": {},
     "nuid": "e4de0381-623b-44c7-bf7d-b71ca2692fcf",
     "showTitle": false,
     "title": ""
    },
    "id": "qjcr9Wr45OKA"
   },
   "source": [
    "### Element-wise multiplication with tf.multiply"
   ]
  },
  {
   "cell_type": "code",
   "execution_count": 20,
   "metadata": {
    "application/vnd.databricks.v1+cell": {
     "inputWidgets": {},
     "nuid": "4376daef-7eb5-44b2-8cf7-a0177a9f5a86",
     "showTitle": false,
     "title": ""
    },
    "colab": {
     "base_uri": "https://localhost:8080/"
    },
    "id": "yPZeGBMU5OKA",
    "outputId": "4a51cb65-a800-4abe-d3d6-98c8458e9ed1"
   },
   "outputs": [
    {
     "name": "stdout",
     "output_type": "stream",
     "text": [
      "Element-wise multiplication of A and v results in a new Tensor:\n",
      "[[15 35]\n",
      " [ 2 18]]\n"
     ]
    }
   ],
   "source": [
    "# Element-wise multiplication\n",
    "Av = tf.multiply(A, v)\n",
    "print(f'Element-wise multiplication of A and v results in a new Tensor:\\n{Av}')"
   ]
  },
  {
   "cell_type": "markdown",
   "metadata": {
    "application/vnd.databricks.v1+cell": {
     "inputWidgets": {},
     "nuid": "64b768ad-8570-44f5-8095-1e4a1fb402c2",
     "showTitle": false,
     "title": ""
    },
    "id": "_m1LVlKF5OKB"
   },
   "source": [
    "### Identity matrix with tf.eye"
   ]
  },
  {
   "cell_type": "code",
   "execution_count": 21,
   "metadata": {
    "application/vnd.databricks.v1+cell": {
     "inputWidgets": {},
     "nuid": "46876a43-4b44-4469-a2ce-4988f571e182",
     "showTitle": false,
     "title": ""
    },
    "colab": {
     "base_uri": "https://localhost:8080/"
    },
    "id": "U2xWlkfE5OKB",
    "outputId": "8810416a-1d74-4b70-a31e-7879b3bc8b6b"
   },
   "outputs": [
    {
     "name": "stdout",
     "output_type": "stream",
     "text": [
      "Get rows and columns in tensor A:\n",
      "3 rows\n",
      " 2 columns\n",
      "\n",
      "The identity matrix of A:\n",
      "[[1 0]\n",
      " [0 1]\n",
      " [0 0]]\n",
      "\n",
      "The identity matrix B:\n",
      "[[1 0 0 0]\n",
      " [0 1 0 0]\n",
      " [0 0 1 0]]\n"
     ]
    }
   ],
   "source": [
    "A = tf.constant([[3, 7],\n",
    "                 [1, 9],\n",
    "                 [2, 5]])\n",
    "\n",
    "# Get number of dimensions\n",
    "rows, columns = A.shape\n",
    "print(f'Get rows and columns in tensor A:\\n{rows} rows\\n {columns} columns')\n",
    "\n",
    "# Making identity matrix\n",
    "A_identity = tf.eye(num_rows = rows,\n",
    "                    num_columns = columns,\n",
    "                    dtype = tf.int32)\n",
    "\n",
    "print(f'\\nThe identity matrix of A:\\n{A_identity}')\n",
    "\n",
    "# Making identity matrix\n",
    "B_identity = tf.eye(num_rows = 3,\n",
    "                    num_columns = 4,\n",
    "                    dtype = tf.int32)\n",
    "\n",
    "print(f'\\nThe identity matrix B:\\n{B_identity}')"
   ]
  },
  {
   "cell_type": "markdown",
   "metadata": {
    "application/vnd.databricks.v1+cell": {
     "inputWidgets": {},
     "nuid": "7b9e1052-7a05-42b2-8e82-152b28b507c1",
     "showTitle": false,
     "title": ""
    },
    "id": "3mF2_dtR5OKB"
   },
   "source": [
    "### Determinant with tf.linalg.det"
   ]
  },
  {
   "cell_type": "code",
   "execution_count": 22,
   "metadata": {
    "application/vnd.databricks.v1+cell": {
     "inputWidgets": {},
     "nuid": "e439d451-8fec-41e3-a094-9212e3ae5875",
     "showTitle": false,
     "title": ""
    },
    "colab": {
     "base_uri": "https://localhost:8080/"
    },
    "id": "2msStOno5OKB",
    "outputId": "8354e8bd-facd-4916-93a7-fc116e4e7bb3"
   },
   "outputs": [
    {
     "name": "stdout",
     "output_type": "stream",
     "text": [
      "The determinant of A:\n",
      "20.0\n"
     ]
    }
   ],
   "source": [
    "# Reusing Matrix A\n",
    "A = tf.constant([[3, 7],\n",
    "                 [1, 9]])\n",
    "\n",
    "# Determinant must be: half, float32, float64, complex64, complex128\n",
    "# Thus, we cast A to the data type float32\n",
    "A = tf.dtypes.cast(A, tf.float32)\n",
    "\n",
    "# Finding the determinant of A\n",
    "det_A = tf.linalg.det(A)\n",
    "\n",
    "print(f'The determinant of A:\\n{det_A}')"
   ]
  },
  {
   "cell_type": "markdown",
   "metadata": {
    "application/vnd.databricks.v1+cell": {
     "inputWidgets": {},
     "nuid": "d247a58a-60cf-4c3b-a48f-84b36192f748",
     "showTitle": false,
     "title": ""
    },
    "id": "ab2fBbzN5OKB"
   },
   "source": [
    "### Dot product with tf.tensordot"
   ]
  },
  {
   "cell_type": "code",
   "execution_count": 23,
   "metadata": {
    "application/vnd.databricks.v1+cell": {
     "inputWidgets": {},
     "nuid": "9835e182-593e-4c24-857e-01983c8c7e22",
     "showTitle": false,
     "title": ""
    },
    "colab": {
     "base_uri": "https://localhost:8080/"
    },
    "id": "ujWJkdLy5OKC",
    "outputId": "6d9534a4-8be7-4513-d07d-8da593400748"
   },
   "outputs": [
    {
     "name": "stdout",
     "output_type": "stream",
     "text": [
      "Dot product of A and B results in a new Tensor:\n",
      "[[8634 2719]\n",
      " [2939 1329]\n",
      " [7573 5341]]\n"
     ]
    }
   ],
   "source": [
    "# Defining a 3x3 matrix\n",
    "A = tf.constant([[32, 83, 5],\n",
    "                 [17, 23, 10],\n",
    "                 [75, 39, 52]])\n",
    "\n",
    "# Defining another 3x3 matrix\n",
    "B = tf.constant([[28, 57],\n",
    "                 [91, 10],\n",
    "                 [37, 13]])\n",
    "\n",
    "# Finding the dot product\n",
    "dot_AB = tf.tensordot(a=A, b=B, axes=1).numpy()\n",
    "\n",
    "print(f'Dot product of A and B results in a new Tensor:\\n{dot_AB}')"
   ]
  },
  {
   "cell_type": "markdown",
   "metadata": {
    "application/vnd.databricks.v1+cell": {
     "inputWidgets": {},
     "nuid": "b7932862-1e28-4d50-9a2e-3a1c617f9d88",
     "showTitle": false,
     "title": ""
    },
    "id": "_Y716b5e5OKC"
   },
   "source": [
    "# Linear regression using TensorFlow"
   ]
  },
  {
   "cell_type": "code",
   "execution_count": 24,
   "metadata": {
    "application/vnd.databricks.v1+cell": {
     "inputWidgets": {},
     "nuid": "a03cba3d-69e2-4489-ab6f-9bf9f25e8653",
     "showTitle": false,
     "title": ""
    },
    "colab": {
     "base_uri": "https://localhost:8080/"
    },
    "id": "JBg6nQUY5OKC",
    "outputId": "78e038cd-389a-4806-b4d4-fbe9a8b7c83b"
   },
   "outputs": [
    {
     "name": "stdout",
     "output_type": "stream",
     "text": [
      "Loss at step 000: 6.100\n",
      "Loss at step 020: 0.217\n",
      "Loss at step 040: 0.211\n",
      "Loss at step 060: 0.206\n",
      "Loss at step 080: 0.201\n",
      "W : 0.3344224691390991 , b  = 0.2118747979402542 \n"
     ]
    }
   ],
   "source": [
    "train_X = [3.3, 4.4, 5.5, 6.71, 6.93, 4.168, 9.779, 6.182, 7.59, 2.167,\n",
    "           7.042, 10.791, 5.313, 7.997, 5.654, 9.27, 3.1]\n",
    "train_Y = [1.7, 2.76, 2.09, 3.19, 1.694, 1.573, 3.366, 2.596, 2.53, 1.221,\n",
    "           2.827, 3.465, 1.65, 2.904, 2.42, 2.94, 1.3]\n",
    "NUM_EXAMPLES = len(train_X)\n",
    "\n",
    "\n",
    "#create model paramters with initial values \n",
    "W = tf.Variable(0.)\n",
    "b = tf.Variable(0.)\n",
    "\n",
    "#training info\n",
    "train_steps = 100\n",
    "learning_rate = 0.01\n",
    "\n",
    "for i in range(train_steps):\n",
    "    #watch the gradient flow \n",
    "    with tf.GradientTape() as tape:\n",
    "        \n",
    "        #forward pass \n",
    "        yhat = train_X * W + b\n",
    "        \n",
    "        #calcuate the loss (difference squared error)\n",
    "        error = yhat - train_Y\n",
    "        loss = tf.reduce_mean(tf.square(error))\n",
    "        \n",
    "    #evalute the gradient with the respect to the paramters\n",
    "    dW, db = tape.gradient(loss, [W, b])\n",
    "    \n",
    "    #update the paramters using Gradient Descent  \n",
    "    W.assign_sub(dW * learning_rate)\n",
    "    b.assign_sub(db* learning_rate)\n",
    "    \n",
    "    #print the loss every 20 iterations \n",
    "    if i % 20 == 0:\n",
    "        print(\"Loss at step {:03d}: {:.3f}\".format(i, loss))\n",
    "\n",
    "print(f'W : {W.numpy()} , b  = {b.numpy()} ')"
   ]
  },
  {
   "cell_type": "markdown",
   "metadata": {
    "application/vnd.databricks.v1+cell": {
     "inputWidgets": {},
     "nuid": "77fdbca0-f022-4824-a68f-4f9de21ba0b7",
     "showTitle": false,
     "title": ""
    },
    "id": "NH8joehd5OKD"
   },
   "source": [
    "# Functions in TensorFlow 2.0\n",
    "\n",
    "`tf.function` is a decorator function provided by Tensorflow 2.0 that converts regular python code to a callable Tensorflow graph function, which is usually more performant and python independent\n",
    "\n",
    "In other words, `tf.function` constructs a callable that executes a TensorFlow graph (`tf.Graph`) created by trace-compiling the TensorFlow operations in `func`, effectively executing `func` as a TensorFlow graph."
   ]
  },
  {
   "cell_type": "code",
   "execution_count": 25,
   "metadata": {
    "application/vnd.databricks.v1+cell": {
     "inputWidgets": {},
     "nuid": "1a4a029e-4610-462c-ad7f-9b9a3a517238",
     "showTitle": false,
     "title": ""
    },
    "colab": {
     "base_uri": "https://localhost:8080/"
    },
    "id": "84hq0Cko5OKE",
    "outputId": "ce580c1b-fae5-45bd-cbb7-7d1b885deac2"
   },
   "outputs": [
    {
     "data": {
      "text/plain": [
       "<tf.Tensor: shape=(2,), dtype=int32, numpy=array([7, 7], dtype=int32)>"
      ]
     },
     "execution_count": 25,
     "metadata": {},
     "output_type": "execute_result"
    }
   ],
   "source": [
    "@tf.function\n",
    "def f(x,y):\n",
    "    return x**2+y\n",
    "\n",
    "x = tf.constant([2,3])\n",
    "y = tf.constant([3,-2])\n",
    "\n",
    "f(x,y)"
   ]
  },
  {
   "cell_type": "markdown",
   "metadata": {
    "application/vnd.databricks.v1+cell": {
     "inputWidgets": {},
     "nuid": "fa357aab-8ad6-4b83-b077-f7234026b302",
     "showTitle": false,
     "title": ""
    },
    "id": "IayYudmY5OKE"
   },
   "source": [
    "TensorFlow Functions with `@tf.function` offer a significant speedup, because TensorFlow uses AutoGraph to convert functions to graphs, which in turn runs faster."
   ]
  },
  {
   "cell_type": "code",
   "execution_count": 26,
   "metadata": {
    "application/vnd.databricks.v1+cell": {
     "inputWidgets": {},
     "nuid": "ebd10d31-58fe-4a86-bca8-dbc9649e956a",
     "showTitle": false,
     "title": ""
    },
    "colab": {
     "base_uri": "https://localhost:8080/"
    },
    "id": "ypVSr-GC5OKE",
    "outputId": "284d9867-3bde-4a59-f98a-d886a4233b3a"
   },
   "outputs": [
    {
     "name": "stdout",
     "output_type": "stream",
     "text": [
      "Without tf.function:  2.643772231000014\n",
      "With tf.function:  2.201659479\n",
      "The difference:  0.4421127520000141\n"
     ]
    }
   ],
   "source": [
    "import timeit\n",
    "conv_layer = tf.keras.layers.Conv2D(100, 3)\n",
    "\n",
    "@tf.function\n",
    "def conv_fn(image):\n",
    "  return conv_layer(image)\n",
    "\n",
    "image = tf.zeros([1, 200, 200, 100])\n",
    "# warm up\n",
    "conv_layer(image); conv_fn(image)\n",
    "\n",
    "no_tf_fn = timeit.timeit(lambda: conv_layer(image), number=10)\n",
    "with_tf_fn = timeit.timeit(lambda: conv_fn(image), number=10)\n",
    "difference = no_tf_fn - with_tf_fn\n",
    "\n",
    "print(\"Without tf.function: \", no_tf_fn)\n",
    "print(\"With tf.function: \", with_tf_fn)\n",
    "print(\"The difference: \", difference)\n"
   ]
  },
  {
   "cell_type": "markdown",
   "metadata": {
    "id": "ZgU1g5NI6ohM"
   },
   "source": [
    "# CPU vs GPU"
   ]
  },
  {
   "cell_type": "code",
   "execution_count": 27,
   "metadata": {
    "colab": {
     "base_uri": "https://localhost:8080/"
    },
    "id": "dVXjqoMr58Oc",
    "outputId": "9e8c8282-a073-4588-e019-4f285b725308"
   },
   "outputs": [
    {
     "name": "stdout",
     "output_type": "stream",
     "text": [
      "tf.Tensor(\n",
      "[[1. 0.]\n",
      " [0. 1.]], shape=(2, 2), dtype=float32)\n",
      "0.0034093856811523438\n",
      "tf.Tensor(\n",
      "[[1. 0.]\n",
      " [0. 1.]], shape=(2, 2), dtype=float32)\n",
      "0.002518892288208008\n"
     ]
    }
   ],
   "source": [
    "import time\n",
    "\n",
    "cpu_slot = 0\n",
    "gpu_slot = 0\n",
    "\n",
    "# Using CPU at slot 0\n",
    "with tf.device('/CPU:' + str(cpu_slot)):\n",
    "    # Starting a timer\n",
    "    start = time.time()\n",
    "\n",
    "    # Doing operations on CPU\n",
    "    A = tf.constant([[3, 2], [5, 2]])\n",
    "    print(tf.eye(2,2))\n",
    "\n",
    "    # Printing how long it took with CPU\n",
    "    end = time.time() - start\n",
    "    print(end)\n",
    "\n",
    "# Using the GPU at slot 0\n",
    "with tf.device('/GPU:' + str(gpu_slot)):\n",
    "    # Starting a timer\n",
    "    start = time.time()\n",
    "\n",
    "    # Doing operations on GPU\n",
    "    A = tf.constant([[3, 2], [5, 2]])\n",
    "    print(tf.eye(2,2))\n",
    "\n",
    "    # Printing how long it took with GPU\n",
    "    end = time.time() - start\n",
    "    print(end)"
   ]
  },
  {
   "cell_type": "markdown",
   "metadata": {
    "application/vnd.databricks.v1+cell": {
     "inputWidgets": {},
     "nuid": "ed1e2997-5b23-4a42-93fe-f9b33a33eeb1",
     "showTitle": false,
     "title": ""
    },
    "id": "cClyBIXl5OKE"
   },
   "source": [
    "# Model subclassing using keras and tensorflow"
   ]
  },
  {
   "cell_type": "markdown",
   "metadata": {
    "application/vnd.databricks.v1+cell": {
     "inputWidgets": {},
     "nuid": "093d929c-9001-4dde-9ecc-db4240a310b1",
     "showTitle": false,
     "title": ""
    },
    "id": "H47l7Gu35OKE"
   },
   "source": [
    "## Load and prepare the MNIST data"
   ]
  },
  {
   "cell_type": "code",
   "execution_count": 30,
   "metadata": {
    "application/vnd.databricks.v1+cell": {
     "inputWidgets": {},
     "nuid": "e484a97e-57c3-4d4b-a6a1-74affe0c220c",
     "showTitle": false,
     "title": ""
    },
    "colab": {
     "base_uri": "https://localhost:8080/"
    },
    "id": "K33LPKY95OKF",
    "outputId": "f3f2c409-83de-4da1-ccdf-4f5830b75c5a"
   },
   "outputs": [
    {
     "name": "stdout",
     "output_type": "stream",
     "text": [
      "Downloading data from https://storage.googleapis.com/tensorflow/tf-keras-datasets/mnist.npz\n",
      "11493376/11490434 [==============================] - 0s 0us/step\n",
      "11501568/11490434 [==============================] - 0s 0us/step\n"
     ]
    }
   ],
   "source": [
    "from tensorflow.keras.layers import Dense, Flatten, Conv2D\n",
    "from tensorflow.keras import Model\n",
    "mnist = tf.keras.datasets.mnist\n",
    "\n",
    "# Load mnist data and split into train and test sets\n",
    "(x_train, y_train), (x_test, y_test) = mnist.load_data(path=os.getcwd()+'/mnist.npz')\n",
    "x_train, x_test = x_train / 255.0, x_test / 255.0"
   ]
  },
  {
   "cell_type": "code",
   "execution_count": 31,
   "metadata": {
    "application/vnd.databricks.v1+cell": {
     "inputWidgets": {},
     "nuid": "af4a9368-e712-4e1a-b55d-097cbd28e01a",
     "showTitle": false,
     "title": ""
    },
    "colab": {
     "base_uri": "https://localhost:8080/"
    },
    "id": "UJ28-bMu5OKF",
    "outputId": "78147f8c-87de-4ad7-d8b2-e897f457bc00"
   },
   "outputs": [
    {
     "name": "stdout",
     "output_type": "stream",
     "text": [
      "MNIST Dataset Shape:\n",
      "x_train: (60000, 28, 28)\n",
      "y_train: (60000,)\n",
      "x_test:  (10000, 28, 28)\n",
      "y_test:  (10000,)\n"
     ]
    }
   ],
   "source": [
    "# Check shape of data\n",
    "print('MNIST Dataset Shape:')\n",
    "print(f'x_train: {x_train.shape}')\n",
    "print(f'y_train: {y_train.shape}')\n",
    "print(f'x_test:  {x_test.shape}')\n",
    "print(f'y_test:  {y_test.shape}')"
   ]
  },
  {
   "cell_type": "code",
   "execution_count": 32,
   "metadata": {
    "application/vnd.databricks.v1+cell": {
     "inputWidgets": {},
     "nuid": "6060afcb-1fe1-4c3a-9a2a-e05a8bb9d98d",
     "showTitle": false,
     "title": ""
    },
    "id": "JzWfwVsl5OKF"
   },
   "outputs": [],
   "source": [
    "# Add a channels dimension\n",
    "x_train = x_train[..., tf.newaxis].astype(\"float32\")\n",
    "x_test = x_test[..., tf.newaxis].astype(\"float32\")"
   ]
  },
  {
   "cell_type": "code",
   "execution_count": 33,
   "metadata": {
    "application/vnd.databricks.v1+cell": {
     "inputWidgets": {},
     "nuid": "55153aa3-9737-40c1-96d8-f580b31c4b17",
     "showTitle": false,
     "title": ""
    },
    "colab": {
     "base_uri": "https://localhost:8080/"
    },
    "id": "J1pzjQ2T5OKF",
    "outputId": "9c69e658-5c7d-4fe7-d455-ad88abc4beeb"
   },
   "outputs": [
    {
     "name": "stdout",
     "output_type": "stream",
     "text": [
      "MNIST Dataset Shape:\n",
      "x_train: (60000, 28, 28, 1)\n",
      "y_train: (60000,)\n",
      "x_test:  (10000, 28, 28, 1)\n",
      "y_test:  (10000,)\n"
     ]
    }
   ],
   "source": [
    "# Check shape of data\n",
    "print('MNIST Dataset Shape:')\n",
    "print(f'x_train: {x_train.shape}')\n",
    "print(f'y_train: {y_train.shape}')\n",
    "print(f'x_test:  {x_test.shape}')\n",
    "print(f'y_test:  {y_test.shape}')"
   ]
  },
  {
   "cell_type": "markdown",
   "metadata": {
    "application/vnd.databricks.v1+cell": {
     "inputWidgets": {},
     "nuid": "03441645-e1b7-4c13-8477-38a8686692bc",
     "showTitle": false,
     "title": ""
    },
    "id": "FU8QQAcT5OKF"
   },
   "source": [
    "Use tf.data to batch and shuffle the dataset:"
   ]
  },
  {
   "cell_type": "code",
   "execution_count": 34,
   "metadata": {
    "application/vnd.databricks.v1+cell": {
     "inputWidgets": {},
     "nuid": "2778138a-f6de-4b88-add9-5c85ac024603",
     "showTitle": false,
     "title": ""
    },
    "id": "zAW5ZKRT5OKF"
   },
   "outputs": [],
   "source": [
    "train_ds = tf.data.Dataset.from_tensor_slices(\n",
    "    (x_train, y_train)).shuffle(10000).batch(32)\n",
    "\n",
    "test_ds = tf.data.Dataset.from_tensor_slices((x_test, y_test)).batch(32)"
   ]
  },
  {
   "cell_type": "markdown",
   "metadata": {
    "application/vnd.databricks.v1+cell": {
     "inputWidgets": {},
     "nuid": "298850a7-a018-4d66-b3a5-cf31cf8dc71f",
     "showTitle": false,
     "title": ""
    },
    "id": "FQYcmCev5OKF"
   },
   "source": [
    "## Build the tf.keras model using the Keras model subclassing API:\n",
    "- Create a subclass `MyModel` using keras `Model` class which groups layers into an object with training and inference features.\n",
    "\n",
    "- The `super()` function is used to run the superclass (i.e.`Model`) of the current subclass. \n",
    "\n",
    "- The layers are defined in `__init__` as instance attributes and the model's forward pass is implemented in `call` function."
   ]
  },
  {
   "cell_type": "code",
   "execution_count": 35,
   "metadata": {
    "application/vnd.databricks.v1+cell": {
     "inputWidgets": {},
     "nuid": "323970b2-7c82-4ea7-bbc7-835051f8bcfb",
     "showTitle": false,
     "title": ""
    },
    "id": "M7CQ9sI35OKG"
   },
   "outputs": [],
   "source": [
    "class MyModel(Model):\n",
    "    def __init__(self):\n",
    "        super().__init__()\n",
    "        self.conv1 = Conv2D(32,2)\n",
    "        self.flatten = Flatten()\n",
    "        self.d1 = Dense(128,activation='relu')\n",
    "        self.d2 = Dense(10)\n",
    "        \n",
    "    def call(self, x):\n",
    "        x = self.conv1(x)\n",
    "        x = self.flatten(x)\n",
    "        x = self.d1(x)\n",
    "        return self.d2(x)\n",
    "    \n",
    "# Create an instance of the model\n",
    "model = MyModel()\n",
    "        "
   ]
  },
  {
   "cell_type": "markdown",
   "metadata": {
    "application/vnd.databricks.v1+cell": {
     "inputWidgets": {},
     "nuid": "1d07b598-e468-4034-ad97-d92d87a0eef1",
     "showTitle": false,
     "title": ""
    },
    "id": "Ad4lKZYo5OKG"
   },
   "source": [
    "Choose an optimizer and loss function for training:"
   ]
  },
  {
   "cell_type": "code",
   "execution_count": 36,
   "metadata": {
    "application/vnd.databricks.v1+cell": {
     "inputWidgets": {},
     "nuid": "84ed2b9b-2e3f-41ed-8d04-6d9be693988b",
     "showTitle": false,
     "title": ""
    },
    "id": "zduY0YUy5OKG"
   },
   "outputs": [],
   "source": [
    "loss_object = tf.keras.losses.SparseCategoricalCrossentropy(from_logits=True)\n",
    "optimizer = tf.keras.optimizers.Adam()"
   ]
  },
  {
   "cell_type": "code",
   "execution_count": 37,
   "metadata": {
    "application/vnd.databricks.v1+cell": {
     "inputWidgets": {},
     "nuid": "52394a03-7fde-41e4-b96a-1e5e9804d737",
     "showTitle": false,
     "title": ""
    },
    "id": "TxOjhbLG5OKG"
   },
   "outputs": [],
   "source": [
    "train_loss = tf.keras.metrics.Mean(name='train_loss')\n",
    "train_accuracy = tf.keras.metrics.SparseCategoricalAccuracy(name='train_accuracy')\n",
    "\n",
    "test_loss = tf.keras.metrics.Mean(name='test_loss')\n",
    "test_accuracy = tf.keras.metrics.SparseCategoricalAccuracy(name='test_accuracy')"
   ]
  },
  {
   "cell_type": "markdown",
   "metadata": {
    "application/vnd.databricks.v1+cell": {
     "inputWidgets": {},
     "nuid": "a212db36-3c0b-4b29-9ddd-2808b5f16219",
     "showTitle": false,
     "title": ""
    },
    "id": "E2Nd-EF35OKH"
   },
   "source": [
    "## Train the model\n",
    "In the next step:\n",
    "\n",
    "- annotate the function with @tf.function for as much of a speedup as possible. \n",
    "- the `tf.GradientTape()` records gradients onto a variable tape, which we can access afterwards\n",
    "- make predictions using `model` object\n",
    "- call the object holding the loss function with the labels and predictions\n",
    "- get the gradient from the gradient tape and apply them using the update rule from the optimizer picked"
   ]
  },
  {
   "cell_type": "code",
   "execution_count": 38,
   "metadata": {
    "application/vnd.databricks.v1+cell": {
     "inputWidgets": {},
     "nuid": "edb2e81a-c45e-49f7-858d-66dc5af1f8a2",
     "showTitle": false,
     "title": ""
    },
    "id": "EhtwdbGG5OKH"
   },
   "outputs": [],
   "source": [
    "@tf.function\n",
    "def train_step(images, labels):\n",
    "    with tf.GradientTape() as tape:\n",
    "        # training=True is only needed if there are layers with different\n",
    "        # behavior during training versus inference (e.g. Dropout).\n",
    "        predictions = model(images, training=True)\n",
    "        loss = loss_object(labels, predictions)\n",
    "    gradients = tape.gradient(loss, model.trainable_variables)\n",
    "    optimizer.apply_gradients(zip(gradients, model.trainable_variables))\n",
    "    \n",
    "    train_loss(loss)\n",
    "    train_accuracy(labels, predictions)"
   ]
  },
  {
   "cell_type": "markdown",
   "metadata": {
    "application/vnd.databricks.v1+cell": {
     "inputWidgets": {},
     "nuid": "fc76e864-9cd8-4fc9-9f06-860ef7618ee9",
     "showTitle": false,
     "title": ""
    },
    "id": "-qJJgvUD5OKH"
   },
   "source": [
    "## Test the model\n",
    "\n",
    "The next function is just a test step, used to test the last training step. This function is almost identical to the`train_step` function, except there are no gradients and updates."
   ]
  },
  {
   "cell_type": "code",
   "execution_count": 39,
   "metadata": {
    "application/vnd.databricks.v1+cell": {
     "inputWidgets": {},
     "nuid": "85ee0404-5b3a-4196-bb1c-bf9721422321",
     "showTitle": false,
     "title": ""
    },
    "id": "Wd6qUb2t5OKH"
   },
   "outputs": [],
   "source": [
    "@tf.function\n",
    "def test_step(images, labels):\n",
    "    # training=False is only needed if there are layers with different\n",
    "    # behavior during training versus inference (e.g. Dropout).\n",
    "    predictions = model(images, training=False)\n",
    "    t_loss = loss_object(labels, predictions)\n",
    "    \n",
    "    test_loss(t_loss)\n",
    "    test_accuracy(labels, predictions)"
   ]
  },
  {
   "cell_type": "markdown",
   "metadata": {
    "application/vnd.databricks.v1+cell": {
     "inputWidgets": {},
     "nuid": "4d778140-5747-45b3-8f81-5094b52d0135",
     "showTitle": false,
     "title": ""
    },
    "id": "AbmTWo575OKH"
   },
   "source": [
    "The next step ties all the previous steps together and trains and tests the network for the number of epochs defined."
   ]
  },
  {
   "cell_type": "code",
   "execution_count": 40,
   "metadata": {
    "application/vnd.databricks.v1+cell": {
     "inputWidgets": {},
     "nuid": "58fe23de-0266-42a1-b351-da5db9c07874",
     "showTitle": false,
     "title": ""
    },
    "colab": {
     "base_uri": "https://localhost:8080/"
    },
    "id": "U9UM1WAw5OKH",
    "outputId": "cd617584-e4f2-4cc8-8f35-5ffc93e988ed"
   },
   "outputs": [
    {
     "name": "stdout",
     "output_type": "stream",
     "text": [
      "Epoch 1, Loss: 0.21552862226963043, Accuracy: 93.56666564941406\n",
      "Epoch 2, Loss: 0.09783831983804703, Accuracy: 96.95500183105469\n",
      "Epoch 3, Loss: 0.06611628830432892, Accuracy: 97.84667205810547\n",
      "Epoch 4, Loss: 0.048738982528448105, Accuracy: 98.42166900634766\n",
      "Epoch 5, Loss: 0.036590006202459335, Accuracy: 98.79833221435547\n"
     ]
    }
   ],
   "source": [
    "EPOCHS = 5\n",
    "\n",
    "for epoch in range(EPOCHS):\n",
    "    # Reset the metrics at the start of the next epoch\n",
    "    train_loss.reset_states()\n",
    "    train_accuracy.reset_states()\n",
    "    test_loss.reset_states()\n",
    "    test_accuracy.reset_states()\n",
    "    \n",
    "    for images, labels in train_ds:\n",
    "        train_step(images, labels)\n",
    "    print(\n",
    "        f'Epoch {epoch + 1}, '\n",
    "        f'Loss: {train_loss.result()}, '\n",
    "        f'Accuracy: {train_accuracy.result() * 100}')"
   ]
  }
 ],
 "metadata": {
  "accelerator": "GPU",
  "anaconda-cloud": {},
  "application/vnd.databricks.v1+notebook": {
   "dashboards": [],
   "language": "python",
   "notebookMetadata": {
    "pythonIndentUnit": 2
   },
   "notebookName": "Tensorflow_Basics",
   "notebookOrigID": 4221164394896057,
   "widgets": {}
  },
  "colab": {
   "name": "Tensorflow_2.0_Tutorial.ipynb",
   "provenance": []
  },
  "kernelspec": {
   "display_name": "Python 3",
   "language": "python",
   "name": "python3"
  },
  "language_info": {
   "codemirror_mode": {
    "name": "ipython",
    "version": 3
   },
   "file_extension": ".py",
   "mimetype": "text/x-python",
   "name": "python",
   "nbconvert_exporter": "python",
   "pygments_lexer": "ipython3",
   "version": "3.7.3"
  }
 },
 "nbformat": 4,
 "nbformat_minor": 1
}
