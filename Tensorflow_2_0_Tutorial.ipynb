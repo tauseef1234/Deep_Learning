{
  "nbformat": 4,
  "nbformat_minor": 0,
  "metadata": {
    "anaconda-cloud": {},
    "application/vnd.databricks.v1+notebook": {
      "dashboards": [],
      "language": "python",
      "notebookMetadata": {
        "pythonIndentUnit": 2
      },
      "notebookName": "Tensorflow_Basics",
      "notebookOrigID": 4221164394896057,
      "widgets": {}
    },
    "kernelspec": {
      "display_name": "Python 3",
      "language": "python",
      "name": "python3"
    },
    "language_info": {
      "codemirror_mode": {
        "name": "ipython",
        "version": 3
      },
      "file_extension": ".py",
      "mimetype": "text/x-python",
      "name": "python",
      "nbconvert_exporter": "python",
      "pygments_lexer": "ipython3",
      "version": "3.7.3"
    },
    "colab": {
      "name": "Tensorflow_2.0_Tutorial.ipynb",
      "provenance": [],
      "toc_visible": true
    }
  },
  "cells": [
    {
      "cell_type": "markdown",
      "metadata": {
        "application/vnd.databricks.v1+cell": {
          "inputWidgets": {},
          "nuid": "f7d5b1ca-1f64-452a-a14f-d58a78c75a78",
          "showTitle": false,
          "title": ""
        },
        "id": "G6IR3m2w5OJo"
      },
      "source": [
        "# TensorFlow"
      ]
    },
    {
      "cell_type": "markdown",
      "metadata": {
        "application/vnd.databricks.v1+cell": {
          "inputWidgets": {},
          "nuid": "2263c5b4-202c-4772-9a99-872533926e8f",
          "showTitle": false,
          "title": ""
        },
        "id": "80lirDf75OJu"
      },
      "source": [
        "Import packages"
      ]
    },
    {
      "cell_type": "code",
      "metadata": {
        "application/vnd.databricks.v1+cell": {
          "inputWidgets": {},
          "nuid": "f6bbe87c-51cb-41d6-8b6a-27c796c3938a",
          "showTitle": false,
          "title": ""
        },
        "id": "MG8i0l_K5OJv"
      },
      "source": [
        "import os\n",
        "import numpy as np\n",
        "import tensorflow as tf"
      ],
      "execution_count": 1,
      "outputs": []
    },
    {
      "cell_type": "markdown",
      "metadata": {
        "application/vnd.databricks.v1+cell": {
          "inputWidgets": {},
          "nuid": "9b4ccd18-1c17-4d83-ae8e-7e699698ec78",
          "showTitle": false,
          "title": ""
        },
        "id": "va5-1vSw5OJw"
      },
      "source": [
        "Check tensorflow version"
      ]
    },
    {
      "cell_type": "code",
      "metadata": {
        "application/vnd.databricks.v1+cell": {
          "inputWidgets": {},
          "nuid": "3c916923-8bb1-4e74-b8e3-d2ce3c35bfc3",
          "showTitle": false,
          "title": ""
        },
        "colab": {
          "base_uri": "https://localhost:8080/",
          "height": 35
        },
        "id": "YCTtP0nZ5OJw",
        "outputId": "baaf9206-5369-406b-e9ab-aa497ea2d1a4"
      },
      "source": [
        "tf.__version__"
      ],
      "execution_count": 2,
      "outputs": [
        {
          "output_type": "execute_result",
          "data": {
            "application/vnd.google.colaboratory.intrinsic+json": {
              "type": "string"
            },
            "text/plain": [
              "'2.5.0'"
            ]
          },
          "metadata": {
            "tags": []
          },
          "execution_count": 2
        }
      ]
    },
    {
      "cell_type": "markdown",
      "metadata": {
        "application/vnd.databricks.v1+cell": {
          "inputWidgets": {},
          "nuid": "a5d3e45e-2d31-41d9-9429-d2bbcc14b96b",
          "showTitle": false,
          "title": ""
        },
        "id": "WHJBUf5g5OJx"
      },
      "source": [
        "## What is TensorFlow?\n",
        "\n",
        "TensorFlow is an open-source end-to-end platform for creating Machine Learning applications. It is a symbolic math library that uses dataflow and differentiable programming to perform various tasks focused on training and inference of deep neural networks.\n",
        "\n",
        "## How TensorFlow Works\n",
        "TensorFlow enables you to build dataflow graphs and structures to define how data moves through a graph by taking inputs as a multi-dimensional array called **Tensor**. It allows you to construct a flowchart of operations that can be performed on these inputs, which goes at one end and comes at the other end as output.\n",
        "\n",
        "## Tensor\n",
        "\n",
        "In TensorFlow, a tensor is a collection of feature vectors (i.e., array) of n-dimensions. For instance, if we have a 2x3 matrix with values from 1 to 6, we write:\n",
        "\n",
        "\n",
        "\n",
        "\\begin{bmatrix}\n",
        "    1 & 2 & 3 \\\\\n",
        "    4 & 5 & 6\n",
        "  \\end{bmatrix}\n",
        "  \n",
        "TensorFlow represents this matrix as\n",
        "\n",
        "[[1, 2, 3],\n",
        "   [4, 5, 6]]\n",
        "   \n",
        "## Types of Tensor\n",
        "In TensorFlow, all the computations pass through one or more tensors. A tf.tensor is an object with three properties:\n",
        "\n",
        "- A unique label (name)\n",
        "- A dimension (shape)\n",
        "- A data type (dtype)\n",
        "\n",
        "Each operation you will do with TensorFlow involves the manipulation of a tensor. There are two main tensor types:\n",
        "\n",
        "- tf.Variable\n",
        "- tf.constant"
      ]
    },
    {
      "cell_type": "markdown",
      "metadata": {
        "application/vnd.databricks.v1+cell": {
          "inputWidgets": {},
          "nuid": "1e6a7e8c-ba71-4d01-a07e-40364453c993",
          "showTitle": false,
          "title": ""
        },
        "id": "jOvVPu8o5OJx"
      },
      "source": [
        "### Constant\n",
        "Creating constant tensors i.e. their values cant change.\n",
        "\n",
        "- can be used to create bais in image processing\n",
        "- can be used to constant matrices"
      ]
    },
    {
      "cell_type": "code",
      "metadata": {
        "application/vnd.databricks.v1+cell": {
          "inputWidgets": {},
          "nuid": "7e905bd9-debe-48f3-a0ef-bbabcbd1a2d0",
          "showTitle": false,
          "title": ""
        },
        "colab": {
          "base_uri": "https://localhost:8080/"
        },
        "id": "4Xsvc85j5OJy",
        "outputId": "b9b79ed3-10d2-4a00-be42-fa07eb99843e"
      },
      "source": [
        "# Tensor with string values\n",
        "hello = tf.constant('Hello TensorFlow!!')\n",
        "print (f'{hello}\\n',hello)\n",
        "print (hello.numpy())\n"
      ],
      "execution_count": 3,
      "outputs": [
        {
          "output_type": "stream",
          "text": [
            "b'Hello TensorFlow!!'\n",
            " tf.Tensor(b'Hello TensorFlow!!', shape=(), dtype=string)\n",
            "b'Hello TensorFlow!!'\n"
          ],
          "name": "stdout"
        }
      ]
    },
    {
      "cell_type": "code",
      "metadata": {
        "application/vnd.databricks.v1+cell": {
          "inputWidgets": {},
          "nuid": "efb3cecb-7c24-4522-a669-ce95598e1bf4",
          "showTitle": false,
          "title": ""
        },
        "colab": {
          "base_uri": "https://localhost:8080/"
        },
        "id": "cY4Hf05t5OJz",
        "outputId": "37235912-2e42-420f-e271-2c3e2250d74c"
      },
      "source": [
        "# Tensor with integer values\n",
        "num = tf.constant(1)\n",
        "print(num)\n",
        "print(f'{num}')"
      ],
      "execution_count": 4,
      "outputs": [
        {
          "output_type": "stream",
          "text": [
            "tf.Tensor(1, shape=(), dtype=int32)\n",
            "1\n"
          ],
          "name": "stdout"
        }
      ]
    },
    {
      "cell_type": "code",
      "metadata": {
        "application/vnd.databricks.v1+cell": {
          "inputWidgets": {},
          "nuid": "7871ccae-3501-48c4-ae5e-cb83a669637a",
          "showTitle": false,
          "title": ""
        },
        "colab": {
          "base_uri": "https://localhost:8080/"
        },
        "id": "oJZ8aGFo5OJz",
        "outputId": "8c62e2f7-aa80-4d1b-b780-2f69b9dc91a9"
      },
      "source": [
        "# Tensor with decimal values\n",
        "decimal = tf.constant(1.12345, tf.float32)\n",
        "print(decimal)"
      ],
      "execution_count": 5,
      "outputs": [
        {
          "output_type": "stream",
          "text": [
            "tf.Tensor(1.12345, shape=(), dtype=float32)\n"
          ],
          "name": "stdout"
        }
      ]
    },
    {
      "cell_type": "code",
      "metadata": {
        "application/vnd.databricks.v1+cell": {
          "inputWidgets": {},
          "nuid": "a8293980-82a6-48ba-918e-550cfb2d035e",
          "showTitle": false,
          "title": ""
        },
        "colab": {
          "base_uri": "https://localhost:8080/"
        },
        "id": "UjZ2XzQF5OJ0",
        "outputId": "ed6caf4d-e066-4a16-94d2-ee1679c12c41"
      },
      "source": [
        "# Tensor of dimension 1\n",
        "r1_vector = tf.constant([1,3,5], tf.int16)\n",
        "print(r1_vector)\n",
        "r2_boolean = tf.constant([True, True, False], tf.bool)\n",
        "print(r2_boolean)\n",
        "\n",
        "# Tensor of dimension 2\n",
        "r2_matrix = tf.constant([ [1, 2],\n",
        "                          [3, 4] ],tf.int32)\n",
        "print(r2_matrix)\n",
        "\n",
        "# Tensor of dimension 3\n",
        "r3_matrix = tf.constant([ [[1, 2],\n",
        "                           [3, 4], \n",
        "                           [5, 6]] ], tf.int16)\n",
        "print(r3_matrix)"
      ],
      "execution_count": 6,
      "outputs": [
        {
          "output_type": "stream",
          "text": [
            "tf.Tensor([1 3 5], shape=(3,), dtype=int16)\n",
            "tf.Tensor([ True  True False], shape=(3,), dtype=bool)\n",
            "tf.Tensor(\n",
            "[[1 2]\n",
            " [3 4]], shape=(2, 2), dtype=int32)\n",
            "tf.Tensor(\n",
            "[[[1 2]\n",
            "  [3 4]\n",
            "  [5 6]]], shape=(1, 3, 2), dtype=int16)\n"
          ],
          "name": "stdout"
        }
      ]
    },
    {
      "cell_type": "code",
      "metadata": {
        "application/vnd.databricks.v1+cell": {
          "inputWidgets": {},
          "nuid": "8538e4de-8c4d-4c83-a4fb-131efc30a996",
          "showTitle": false,
          "title": ""
        },
        "colab": {
          "base_uri": "https://localhost:8080/"
        },
        "id": "O_DgorKs5OJ0",
        "outputId": "0a5c4c62-18c7-4e36-8cc8-34dcc1518150"
      },
      "source": [
        "D = tf.constant(50,shape=(6,2))\n",
        "print (D)"
      ],
      "execution_count": 7,
      "outputs": [
        {
          "output_type": "stream",
          "text": [
            "tf.Tensor(\n",
            "[[50 50]\n",
            " [50 50]\n",
            " [50 50]\n",
            " [50 50]\n",
            " [50 50]\n",
            " [50 50]], shape=(6, 2), dtype=int32)\n"
          ],
          "name": "stdout"
        }
      ]
    },
    {
      "cell_type": "markdown",
      "metadata": {
        "application/vnd.databricks.v1+cell": {
          "inputWidgets": {},
          "nuid": "3ef2baa1-befb-4014-b057-91164db21fe2",
          "showTitle": false,
          "title": ""
        },
        "id": "-gsPaWAI5OJ1"
      },
      "source": [
        "### Variable\n",
        "To create a variable, you can use tf.Variable() method\n",
        "\n",
        "- all the weights in neural network are defined as variables"
      ]
    },
    {
      "cell_type": "code",
      "metadata": {
        "application/vnd.databricks.v1+cell": {
          "inputWidgets": {},
          "nuid": "c4978d92-e819-4672-847b-050911746e86",
          "showTitle": false,
          "title": ""
        },
        "colab": {
          "base_uri": "https://localhost:8080/"
        },
        "id": "lyaQ7V5t5OJ1",
        "outputId": "0d0de5e2-b316-4220-9978-3a90082af2c0"
      },
      "source": [
        "A = tf.Variable(initial_value = ([[0,1,2,3],[5,6,7,8]]))\n",
        "print (A.numpy())\n",
        "#shape of the variable\n",
        "print (A.shape)\n",
        "#dimension of a matrix\n",
        "print (tf.rank(A))"
      ],
      "execution_count": 8,
      "outputs": [
        {
          "output_type": "stream",
          "text": [
            "[[0 1 2 3]\n",
            " [5 6 7 8]]\n",
            "(2, 4)\n",
            "tf.Tensor(2, shape=(), dtype=int32)\n"
          ],
          "name": "stdout"
        }
      ]
    },
    {
      "cell_type": "code",
      "metadata": {
        "application/vnd.databricks.v1+cell": {
          "inputWidgets": {},
          "nuid": "382c49de-1b07-44f6-923e-304b39ea2f51",
          "showTitle": false,
          "title": ""
        },
        "colab": {
          "base_uri": "https://localhost:8080/"
        },
        "id": "rNrgviJe5OJ1",
        "outputId": "93f3aa64-a9a8-4a41-dfcf-44d5d56fc3ad"
      },
      "source": [
        "b = tf.Variable([[1],[2],[3],[4]])\n",
        "print (b.shape)\n",
        "print (tf.rank(b))"
      ],
      "execution_count": 9,
      "outputs": [
        {
          "output_type": "stream",
          "text": [
            "(4, 1)\n",
            "tf.Tensor(2, shape=(), dtype=int32)\n"
          ],
          "name": "stdout"
        }
      ]
    },
    {
      "cell_type": "markdown",
      "metadata": {
        "application/vnd.databricks.v1+cell": {
          "inputWidgets": {},
          "nuid": "1d1ba03d-4657-4fd8-a442-d03645e451ed",
          "showTitle": false,
          "title": ""
        },
        "id": "jLodNqO85OJ2"
      },
      "source": [
        "**Using Eager Execution**\n",
        "\n",
        "With eager execution ([relased](!https://ai.googleblog.com/2017/10/eager-execution-imperative-define-by.html) in late 2017), TensorFlow's eager execution is an imperative programming environment that evaluates operations immediately, without building graphs: operations return concrete values instead of constructing a computational graph to run later. This makes it easy to get started with TensorFlow and debug models, and it reduces boilerplate as well. Operations execute immediately and return their values to Python without requiring a Session.run(). For example, to multiply two matrices together, we write this:"
      ]
    },
    {
      "cell_type": "code",
      "metadata": {
        "application/vnd.databricks.v1+cell": {
          "inputWidgets": {},
          "nuid": "0598f0a3-3d56-48a1-94c3-15350add8020",
          "showTitle": false,
          "title": ""
        },
        "colab": {
          "base_uri": "https://localhost:8080/"
        },
        "id": "zegoYcX-5OJ2",
        "outputId": "e31c62d3-40e7-4238-c65d-401f15a201f4"
      },
      "source": [
        "w = tf.Variable([.5],tf.float32)\n",
        "b = tf.Variable([-.5],tf.float32)\n",
        "\n",
        "x = tf.Variable([5.0],tf.float32)\n",
        "y=w*x +b\n",
        "print('w:',w)\n",
        "print('b:',b)\n",
        "print('x:',x)\n",
        "print('y:',y)"
      ],
      "execution_count": 10,
      "outputs": [
        {
          "output_type": "stream",
          "text": [
            "w: <tf.Variable 'Variable:0' shape=(1,) dtype=float32, numpy=array([0.5], dtype=float32)>\n",
            "b: <tf.Variable 'Variable:0' shape=(1,) dtype=float32, numpy=array([-0.5], dtype=float32)>\n",
            "x: <tf.Variable 'Variable:0' shape=(1,) dtype=float32, numpy=array([5.], dtype=float32)>\n",
            "y: tf.Tensor([2.], shape=(1,), dtype=float32)\n"
          ],
          "name": "stdout"
        }
      ]
    },
    {
      "cell_type": "code",
      "metadata": {
        "application/vnd.databricks.v1+cell": {
          "inputWidgets": {},
          "nuid": "136e3787-b74d-48f7-bc00-ea74d53c7e5b",
          "showTitle": false,
          "title": ""
        },
        "colab": {
          "base_uri": "https://localhost:8080/"
        },
        "id": "tDjfmEiE5OJ2",
        "outputId": "f189c061-ebc0-4eae-8cc3-4b3137af61f2"
      },
      "source": [
        "y.numpy()"
      ],
      "execution_count": 11,
      "outputs": [
        {
          "output_type": "execute_result",
          "data": {
            "text/plain": [
              "array([2.], dtype=float32)"
            ]
          },
          "metadata": {
            "tags": []
          },
          "execution_count": 11
        }
      ]
    },
    {
      "cell_type": "markdown",
      "metadata": {
        "application/vnd.databricks.v1+cell": {
          "inputWidgets": {},
          "nuid": "f3e0b23b-ab64-4830-b152-acec2cd68a94",
          "showTitle": false,
          "title": ""
        },
        "id": "bI81KPnc5OJ2"
      },
      "source": [
        "## Creating tensors from Existing Objects"
      ]
    },
    {
      "cell_type": "code",
      "metadata": {
        "application/vnd.databricks.v1+cell": {
          "inputWidgets": {},
          "nuid": "71be292f-9478-4852-a305-9df71b44d3e4",
          "showTitle": false,
          "title": ""
        },
        "colab": {
          "base_uri": "https://localhost:8080/"
        },
        "id": "OHNs7TuA5OJ7",
        "outputId": "3cf61623-c906-48a4-b741-254b87fabff6"
      },
      "source": [
        "t = tf.convert_to_tensor(9, dtype=tf.float64)\n",
        "t"
      ],
      "execution_count": 12,
      "outputs": [
        {
          "output_type": "execute_result",
          "data": {
            "text/plain": [
              "<tf.Tensor: shape=(), dtype=float64, numpy=9.0>"
            ]
          },
          "metadata": {
            "tags": []
          },
          "execution_count": 12
        }
      ]
    },
    {
      "cell_type": "markdown",
      "metadata": {
        "application/vnd.databricks.v1+cell": {
          "inputWidgets": {},
          "nuid": "fd9e5a2c-128b-4e8a-9acb-64e78c686955",
          "showTitle": false,
          "title": ""
        },
        "id": "5pNDMomf5OJ7"
      },
      "source": [
        "**Creating tensors from an array**"
      ]
    },
    {
      "cell_type": "code",
      "metadata": {
        "application/vnd.databricks.v1+cell": {
          "inputWidgets": {},
          "nuid": "c3092921-4cd0-45ba-971b-98e8be9e0ea3",
          "showTitle": false,
          "title": ""
        },
        "colab": {
          "base_uri": "https://localhost:8080/"
        },
        "id": "t9kPWH0s5OJ8",
        "outputId": "05d6abae-2120-4b91-e973-0a7dcc4d40f9"
      },
      "source": [
        "one_dim_array = ([1], [2], [3], [4], [5])\n",
        "print(\"one_dim_array Shape : \", one_dim_array)\n",
        "\n",
        "tf_t = tf.convert_to_tensor(one_dim_array, dtype=tf.float64)\n",
        "print('\\n')\n",
        "print(tf_t)\n",
        "print('rank of tf_t : ', tf.rank(tf_t))     #Note: if we do not use tfs.run(), the tf.rank will only describe the node\n",
        "print('shape of tf_t: ', tf.shape(tf_t))\n",
        "print('\\n')\n",
        "print('tf_t[0] : ', tf_t[0])\n",
        "print('tf_t[2] : ', tf_t[2])\n",
        "print('\\n')\n",
        "print('run(tf_t) : \\n', tf_t)"
      ],
      "execution_count": 13,
      "outputs": [
        {
          "output_type": "stream",
          "text": [
            "one_dim_array Shape :  ([1], [2], [3], [4], [5])\n",
            "\n",
            "\n",
            "tf.Tensor(\n",
            "[[1.]\n",
            " [2.]\n",
            " [3.]\n",
            " [4.]\n",
            " [5.]], shape=(5, 1), dtype=float64)\n",
            "rank of tf_t :  tf.Tensor(2, shape=(), dtype=int32)\n",
            "shape of tf_t:  tf.Tensor([5 1], shape=(2,), dtype=int32)\n",
            "\n",
            "\n",
            "tf_t[0] :  tf.Tensor([1.], shape=(1,), dtype=float64)\n",
            "tf_t[2] :  tf.Tensor([3.], shape=(1,), dtype=float64)\n",
            "\n",
            "\n",
            "run(tf_t) : \n",
            " tf.Tensor(\n",
            "[[1.]\n",
            " [2.]\n",
            " [3.]\n",
            " [4.]\n",
            " [5.]], shape=(5, 1), dtype=float64)\n"
          ],
          "name": "stdout"
        }
      ]
    },
    {
      "cell_type": "markdown",
      "metadata": {
        "application/vnd.databricks.v1+cell": {
          "inputWidgets": {},
          "nuid": "8587dd80-130e-4fc3-93c0-edc6ac48a513",
          "showTitle": false,
          "title": ""
        },
        "id": "q4GmnSHe5OJ8"
      },
      "source": [
        "## Creating tensors with tf.zeros and tf.ones"
      ]
    },
    {
      "cell_type": "code",
      "metadata": {
        "application/vnd.databricks.v1+cell": {
          "inputWidgets": {},
          "nuid": "60b27cf4-2bb4-46e8-afa4-0afe7a908365",
          "showTitle": false,
          "title": ""
        },
        "colab": {
          "base_uri": "https://localhost:8080/"
        },
        "id": "6EjBxn0w5OJ8",
        "outputId": "6c2c4ac1-3e6c-41a5-cae1-d1cf8443cb49"
      },
      "source": [
        "# Making a tensor filled with zeros. shape=[rows, columns]\n",
        "tensor = tf.zeros(shape=[3, 4], dtype=tf.int32)\n",
        "print(('Tensor full of zeros as int32, 3 rows and 4 columns:\\n{0}').format(\n",
        "    tensor.numpy()\n",
        "))"
      ],
      "execution_count": 14,
      "outputs": [
        {
          "output_type": "stream",
          "text": [
            "Tensor full of zeros as int32, 3 rows and 4 columns:\n",
            "[[0 0 0 0]\n",
            " [0 0 0 0]\n",
            " [0 0 0 0]]\n"
          ],
          "name": "stdout"
        }
      ]
    },
    {
      "cell_type": "code",
      "metadata": {
        "application/vnd.databricks.v1+cell": {
          "inputWidgets": {},
          "nuid": "7dc0f385-a7c5-408a-85b5-04867df31ae0",
          "showTitle": false,
          "title": ""
        },
        "colab": {
          "base_uri": "https://localhost:8080/"
        },
        "id": "iGdJOrET5OJ9",
        "outputId": "c4508f14-22f3-43e2-b3a8-51cb02bbcf3b"
      },
      "source": [
        "# Making a tensor filled with zeros with data type of float32\n",
        "tensor = tf.ones(shape=[5, 3], dtype=tf.float32)\n",
        "print(('\\nTensor full of ones as float32, 5 rows and 3 columns:\\n{0}').format(\n",
        "    tensor.numpy()\n",
        "))"
      ],
      "execution_count": 15,
      "outputs": [
        {
          "output_type": "stream",
          "text": [
            "\n",
            "Tensor full of ones as float32, 5 rows and 3 columns:\n",
            "[[1. 1. 1.]\n",
            " [1. 1. 1.]\n",
            " [1. 1. 1.]\n",
            " [1. 1. 1.]\n",
            " [1. 1. 1.]]\n"
          ],
          "name": "stdout"
        }
      ]
    },
    {
      "cell_type": "markdown",
      "metadata": {
        "application/vnd.databricks.v1+cell": {
          "inputWidgets": {},
          "nuid": "a692fdc5-7e12-46f6-a885-2c428d611625",
          "showTitle": false,
          "title": ""
        },
        "id": "IQs1Twgt5OJ-"
      },
      "source": [
        "## Reshape data with tf.reshape"
      ]
    },
    {
      "cell_type": "code",
      "metadata": {
        "application/vnd.databricks.v1+cell": {
          "inputWidgets": {},
          "nuid": "e3881acd-b3fd-41b5-a177-1c22cfd6ab30",
          "showTitle": false,
          "title": ""
        },
        "colab": {
          "base_uri": "https://localhost:8080/"
        },
        "id": "ww3aSLFK5OJ-",
        "outputId": "c445b496-8e36-4d60-ae4e-589736ec363d"
      },
      "source": [
        "# Making a tensor for reshaping\n",
        "tensor = tf.constant([[3, 2],\n",
        "                      [5, 2],\n",
        "                      [9, 5],\n",
        "                      [1, 3]])\n",
        "\n",
        "# Reshaping the tensor into a shape of: shape = [rows, columns]\n",
        "reshaped_tensor = tf.reshape(tensor = tensor,\n",
        "                             shape = [1, 8])\n",
        "\n",
        "print(f'Tensor BEFORE reshape:\\n{tensor.numpy()}')\n",
        "print(f'Tensor AFTER reshape:\\n{reshaped_tensor.numpy()}')"
      ],
      "execution_count": 16,
      "outputs": [
        {
          "output_type": "stream",
          "text": [
            "Tensor BEFORE reshape:\n",
            "[[3 2]\n",
            " [5 2]\n",
            " [9 5]\n",
            " [1 3]]\n",
            "Tensor AFTER reshape:\n",
            "[[3 2 5 2 9 5 1 3]]\n"
          ],
          "name": "stdout"
        }
      ]
    },
    {
      "cell_type": "markdown",
      "metadata": {
        "application/vnd.databricks.v1+cell": {
          "inputWidgets": {},
          "nuid": "4da4fa2b-16d1-4bc9-81f1-e58873de255f",
          "showTitle": false,
          "title": ""
        },
        "id": "gY4xx_Rd5OJ-"
      },
      "source": [
        "##  Cast tensors to other data types with tf.cast"
      ]
    },
    {
      "cell_type": "code",
      "metadata": {
        "application/vnd.databricks.v1+cell": {
          "inputWidgets": {},
          "nuid": "8538bbfc-0b2e-4bf4-8933-0050a53e218b",
          "showTitle": false,
          "title": ""
        },
        "colab": {
          "base_uri": "https://localhost:8080/"
        },
        "id": "2VSQsJSq5OJ_",
        "outputId": "ce2b649c-b8b0-4bec-f8fc-8fc97c6cb137"
      },
      "source": [
        "# Making a tensor\n",
        "t = tf.constant([[3.1, 2.8],\n",
        "                      [5.2, 2.3],\n",
        "                      [9.7, 5.5],\n",
        "                      [1.1, 3.4]], \n",
        "                      dtype=tf.float32)\n",
        "t_int = tf.cast(tensor, tf.int32)\n",
        "\n",
        "print(f'Tensor with floats:\\n{t.numpy()}')\n",
        "print(f'Tensor cast from float to int :\\n{t_int.numpy()}')"
      ],
      "execution_count": 17,
      "outputs": [
        {
          "output_type": "stream",
          "text": [
            "Tensor with floats:\n",
            "[[3.1 2.8]\n",
            " [5.2 2.3]\n",
            " [9.7 5.5]\n",
            " [1.1 3.4]]\n",
            "Tensor cast from float to int :\n",
            "[[3 2]\n",
            " [5 2]\n",
            " [9 5]\n",
            " [1 3]]\n"
          ],
          "name": "stdout"
        }
      ]
    },
    {
      "cell_type": "markdown",
      "metadata": {
        "application/vnd.databricks.v1+cell": {
          "inputWidgets": {},
          "nuid": "c3d049b4-7625-44a7-a656-ce0b9a784edc",
          "showTitle": false,
          "title": ""
        },
        "id": "2bpxfteL5OJ_"
      },
      "source": [
        "## Linear Algebra Operations\n",
        "\n",
        "1. Transponse tensor with `tf.transpose`\n",
        "2. Matrix multiplication with `tf.matmul`\n",
        "3. Element-wise multiplication with `tf.multiply`\n",
        "4. Identity matrix with tf.eye\n",
        "5. Determinant with tf.linalg.det\n",
        "6. Dot product with tf.tensordot"
      ]
    },
    {
      "cell_type": "markdown",
      "metadata": {
        "application/vnd.databricks.v1+cell": {
          "inputWidgets": {},
          "nuid": "e985cd90-125a-4442-9ce5-5427ed5433ed",
          "showTitle": false,
          "title": ""
        },
        "id": "4adJF-z55OJ_"
      },
      "source": [
        "### Transpose a tensor with tf.transpose"
      ]
    },
    {
      "cell_type": "code",
      "metadata": {
        "application/vnd.databricks.v1+cell": {
          "inputWidgets": {},
          "nuid": "637c5dd7-39f5-4f31-9f2e-033bbbc03d05",
          "showTitle": false,
          "title": ""
        },
        "colab": {
          "base_uri": "https://localhost:8080/"
        },
        "id": "hlIDDDba5OKA",
        "outputId": "d9fd060d-e174-45bb-ed82-32f20ecce75d"
      },
      "source": [
        "A = tf.constant([[3, 7],\n",
        "                 [1, 9]])\n",
        "\n",
        "A_T = tf.transpose(A)\n",
        "\n",
        "print(f'The transposed matrix A:\\n{A_T}')"
      ],
      "execution_count": 18,
      "outputs": [
        {
          "output_type": "stream",
          "text": [
            "The transposed matrix A:\n",
            "[[3 1]\n",
            " [7 9]]\n"
          ],
          "name": "stdout"
        }
      ]
    },
    {
      "cell_type": "markdown",
      "metadata": {
        "application/vnd.databricks.v1+cell": {
          "inputWidgets": {},
          "nuid": "5ba2c917-9341-49b3-a04b-a5f17d88120a",
          "showTitle": false,
          "title": ""
        },
        "id": "0DC6asW85OKA"
      },
      "source": [
        "### Matrix multiplication with tf.matmul"
      ]
    },
    {
      "cell_type": "code",
      "metadata": {
        "application/vnd.databricks.v1+cell": {
          "inputWidgets": {},
          "nuid": "6ff9da11-8c28-4e8b-9d03-3279a08adc5a",
          "showTitle": false,
          "title": ""
        },
        "colab": {
          "base_uri": "https://localhost:8080/"
        },
        "id": "ITb5DtHY5OKA",
        "outputId": "a52898f6-a2a7-4efd-8b90-d040de744c59"
      },
      "source": [
        "# Some Matrix A\n",
        "A = tf.constant([[3, 7],\n",
        "                 [1, 9]])\n",
        "\n",
        "# Some vector v\n",
        "v = tf.constant([[5],\n",
        "                 [2]])\n",
        "\n",
        "# Matrix multiplication of A.v^T\n",
        "Av = tf.matmul(A, v)\n",
        "\n",
        "print(f'Matrix Multiplication of A and v results in a new Tensor:\\n{Av}')"
      ],
      "execution_count": 19,
      "outputs": [
        {
          "output_type": "stream",
          "text": [
            "Matrix Multiplication of A and v results in a new Tensor:\n",
            "[[29]\n",
            " [23]]\n"
          ],
          "name": "stdout"
        }
      ]
    },
    {
      "cell_type": "markdown",
      "metadata": {
        "application/vnd.databricks.v1+cell": {
          "inputWidgets": {},
          "nuid": "e4de0381-623b-44c7-bf7d-b71ca2692fcf",
          "showTitle": false,
          "title": ""
        },
        "id": "qjcr9Wr45OKA"
      },
      "source": [
        "### Element-wise multiplication with tf.multiply"
      ]
    },
    {
      "cell_type": "code",
      "metadata": {
        "application/vnd.databricks.v1+cell": {
          "inputWidgets": {},
          "nuid": "4376daef-7eb5-44b2-8cf7-a0177a9f5a86",
          "showTitle": false,
          "title": ""
        },
        "colab": {
          "base_uri": "https://localhost:8080/"
        },
        "id": "yPZeGBMU5OKA",
        "outputId": "8b2ed980-9520-4fd2-abde-3d5453b90d49"
      },
      "source": [
        "# Element-wise multiplication\n",
        "Av = tf.multiply(A, v)\n",
        "print(f'Element-wise multiplication of A and v results in a new Tensor:\\n{Av}')"
      ],
      "execution_count": 20,
      "outputs": [
        {
          "output_type": "stream",
          "text": [
            "Element-wise multiplication of A and v results in a new Tensor:\n",
            "[[15 35]\n",
            " [ 2 18]]\n"
          ],
          "name": "stdout"
        }
      ]
    },
    {
      "cell_type": "markdown",
      "metadata": {
        "application/vnd.databricks.v1+cell": {
          "inputWidgets": {},
          "nuid": "64b768ad-8570-44f5-8095-1e4a1fb402c2",
          "showTitle": false,
          "title": ""
        },
        "id": "_m1LVlKF5OKB"
      },
      "source": [
        "### Identity matrix with tf.eye"
      ]
    },
    {
      "cell_type": "code",
      "metadata": {
        "application/vnd.databricks.v1+cell": {
          "inputWidgets": {},
          "nuid": "46876a43-4b44-4469-a2ce-4988f571e182",
          "showTitle": false,
          "title": ""
        },
        "colab": {
          "base_uri": "https://localhost:8080/"
        },
        "id": "U2xWlkfE5OKB",
        "outputId": "d1825398-4a58-4a35-b7d6-9f5f19dfdca3"
      },
      "source": [
        "A = tf.constant([[3, 7],\n",
        "                 [1, 9],\n",
        "                 [2, 5]])\n",
        "\n",
        "# Get number of dimensions\n",
        "rows, columns = A.shape\n",
        "print(f'Get rows and columns in tensor A:\\n{rows} rows\\n {columns} columns')\n",
        "\n",
        "# Making identity matrix\n",
        "A_identity = tf.eye(num_rows = rows,\n",
        "                    num_columns = columns,\n",
        "                    dtype = tf.int32)\n",
        "\n",
        "print(f'\\nThe identity matrix of A:\\n{A_identity}')\n",
        "\n",
        "# Making identity matrix\n",
        "B_identity = tf.eye(num_rows = 3,\n",
        "                    num_columns = 4,\n",
        "                    dtype = tf.int32)\n",
        "\n",
        "print(f'\\nThe identity matrix B:\\n{B_identity}')"
      ],
      "execution_count": 21,
      "outputs": [
        {
          "output_type": "stream",
          "text": [
            "Get rows and columns in tensor A:\n",
            "3 rows\n",
            " 2 columns\n",
            "\n",
            "The identity matrix of A:\n",
            "[[1 0]\n",
            " [0 1]\n",
            " [0 0]]\n",
            "\n",
            "The identity matrix B:\n",
            "[[1 0 0 0]\n",
            " [0 1 0 0]\n",
            " [0 0 1 0]]\n"
          ],
          "name": "stdout"
        }
      ]
    },
    {
      "cell_type": "markdown",
      "metadata": {
        "application/vnd.databricks.v1+cell": {
          "inputWidgets": {},
          "nuid": "7b9e1052-7a05-42b2-8e82-152b28b507c1",
          "showTitle": false,
          "title": ""
        },
        "id": "3mF2_dtR5OKB"
      },
      "source": [
        "### Determinant with tf.linalg.det"
      ]
    },
    {
      "cell_type": "code",
      "metadata": {
        "application/vnd.databricks.v1+cell": {
          "inputWidgets": {},
          "nuid": "e439d451-8fec-41e3-a094-9212e3ae5875",
          "showTitle": false,
          "title": ""
        },
        "colab": {
          "base_uri": "https://localhost:8080/"
        },
        "id": "2msStOno5OKB",
        "outputId": "c0d877fe-951e-46e6-e599-1bf3db366a0c"
      },
      "source": [
        "# Reusing Matrix A\n",
        "A = tf.constant([[3, 7],\n",
        "                 [1, 9]])\n",
        "\n",
        "# Determinant must be: half, float32, float64, complex64, complex128\n",
        "# Thus, we cast A to the data type float32\n",
        "A = tf.dtypes.cast(A, tf.float32)\n",
        "\n",
        "# Finding the determinant of A\n",
        "det_A = tf.linalg.det(A)\n",
        "\n",
        "print(f'The determinant of A:\\n{det_A}')"
      ],
      "execution_count": 22,
      "outputs": [
        {
          "output_type": "stream",
          "text": [
            "The determinant of A:\n",
            "20.0\n"
          ],
          "name": "stdout"
        }
      ]
    },
    {
      "cell_type": "markdown",
      "metadata": {
        "application/vnd.databricks.v1+cell": {
          "inputWidgets": {},
          "nuid": "d247a58a-60cf-4c3b-a48f-84b36192f748",
          "showTitle": false,
          "title": ""
        },
        "id": "ab2fBbzN5OKB"
      },
      "source": [
        "### Dot product with tf.tensordot"
      ]
    },
    {
      "cell_type": "code",
      "metadata": {
        "application/vnd.databricks.v1+cell": {
          "inputWidgets": {},
          "nuid": "9835e182-593e-4c24-857e-01983c8c7e22",
          "showTitle": false,
          "title": ""
        },
        "colab": {
          "base_uri": "https://localhost:8080/"
        },
        "id": "ujWJkdLy5OKC",
        "outputId": "83dd8e1b-609e-4a73-9295-d1204d984c58"
      },
      "source": [
        "# Defining a 3x3 matrix\n",
        "A = tf.constant([[32, 83, 5],\n",
        "                 [17, 23, 10],\n",
        "                 [75, 39, 52]])\n",
        "\n",
        "# Defining another 3x3 matrix\n",
        "B = tf.constant([[28, 57],\n",
        "                 [91, 10],\n",
        "                 [37, 13]])\n",
        "\n",
        "# Finding the dot product\n",
        "dot_AB = tf.tensordot(a=A, b=B, axes=1).numpy()\n",
        "\n",
        "print(f'Dot product of A and B results in a new Tensor:\\n{dot_AB}')"
      ],
      "execution_count": 23,
      "outputs": [
        {
          "output_type": "stream",
          "text": [
            "Dot product of A and B results in a new Tensor:\n",
            "[[8634 2719]\n",
            " [2939 1329]\n",
            " [7573 5341]]\n"
          ],
          "name": "stdout"
        }
      ]
    },
    {
      "cell_type": "markdown",
      "metadata": {
        "application/vnd.databricks.v1+cell": {
          "inputWidgets": {},
          "nuid": "b7932862-1e28-4d50-9a2e-3a1c617f9d88",
          "showTitle": false,
          "title": ""
        },
        "id": "_Y716b5e5OKC"
      },
      "source": [
        "# Linear regression using TensorFlow"
      ]
    },
    {
      "cell_type": "code",
      "metadata": {
        "application/vnd.databricks.v1+cell": {
          "inputWidgets": {},
          "nuid": "a03cba3d-69e2-4489-ab6f-9bf9f25e8653",
          "showTitle": false,
          "title": ""
        },
        "colab": {
          "base_uri": "https://localhost:8080/"
        },
        "id": "JBg6nQUY5OKC",
        "outputId": "e067cd81-fdd1-4b8f-a6a1-812f81906030"
      },
      "source": [
        "train_X = [3.3, 4.4, 5.5, 6.71, 6.93, 4.168, 9.779, 6.182, 7.59, 2.167,\n",
        "           7.042, 10.791, 5.313, 7.997, 5.654, 9.27, 3.1]\n",
        "train_Y = [1.7, 2.76, 2.09, 3.19, 1.694, 1.573, 3.366, 2.596, 2.53, 1.221,\n",
        "           2.827, 3.465, 1.65, 2.904, 2.42, 2.94, 1.3]\n",
        "NUM_EXAMPLES = len(train_X)\n",
        "\n",
        "\n",
        "#create model paramters with initial values \n",
        "W = tf.Variable(0.)\n",
        "b = tf.Variable(0.)\n",
        "\n",
        "#training info\n",
        "train_steps = 100\n",
        "learning_rate = 0.01\n",
        "\n",
        "for i in range(train_steps):\n",
        "    #watch the gradient flow \n",
        "    with tf.GradientTape() as tape:\n",
        "        \n",
        "        #forward pass \n",
        "        yhat = train_X * W + b\n",
        "        \n",
        "        #calcuate the loss (difference squared error)\n",
        "        error = yhat - train_Y\n",
        "        loss = tf.reduce_mean(tf.square(error))\n",
        "        \n",
        "    #evalute the gradient with the respect to the paramters\n",
        "    dW, db = tape.gradient(loss, [W, b])\n",
        "    \n",
        "    #update the paramters using Gradient Descent  \n",
        "    W.assign_sub(dW * learning_rate)\n",
        "    b.assign_sub(db* learning_rate)\n",
        "    \n",
        "    #print the loss every 20 iterations \n",
        "    if i % 20 == 0:\n",
        "        print(\"Loss at step {:03d}: {:.3f}\".format(i, loss))\n",
        "\n",
        "print(f'W : {W.numpy()} , b  = {b.numpy()} ')"
      ],
      "execution_count": 24,
      "outputs": [
        {
          "output_type": "stream",
          "text": [
            "Loss at step 000: 6.100\n",
            "Loss at step 020: 0.217\n",
            "Loss at step 040: 0.211\n",
            "Loss at step 060: 0.206\n",
            "Loss at step 080: 0.201\n",
            "W : 0.3344224691390991 , b  = 0.2118747979402542 \n"
          ],
          "name": "stdout"
        }
      ]
    },
    {
      "cell_type": "markdown",
      "metadata": {
        "application/vnd.databricks.v1+cell": {
          "inputWidgets": {},
          "nuid": "77fdbca0-f022-4824-a68f-4f9de21ba0b7",
          "showTitle": false,
          "title": ""
        },
        "id": "NH8joehd5OKD"
      },
      "source": [
        "# Functions in TensorFlow 2.0\n",
        "\n",
        "`tf.function` constructs a callable that executes a TensorFlow graph (`tf.Graph`) created by trace-compiling the TensorFlow operations in `func`, effectively executing `func` as a TensorFlow graph."
      ]
    },
    {
      "cell_type": "code",
      "metadata": {
        "application/vnd.databricks.v1+cell": {
          "inputWidgets": {},
          "nuid": "1a4a029e-4610-462c-ad7f-9b9a3a517238",
          "showTitle": false,
          "title": ""
        },
        "colab": {
          "base_uri": "https://localhost:8080/"
        },
        "id": "84hq0Cko5OKE",
        "outputId": "aee16eb3-e0ee-4eaa-c9fc-e8bffa2faaf7"
      },
      "source": [
        "@tf.function\n",
        "def f(x,y):\n",
        "    return x**2+y\n",
        "\n",
        "x = tf.constant([2,3])\n",
        "y = tf.constant([3,-2])\n",
        "\n",
        "f(x,y)"
      ],
      "execution_count": 25,
      "outputs": [
        {
          "output_type": "execute_result",
          "data": {
            "text/plain": [
              "<tf.Tensor: shape=(2,), dtype=int32, numpy=array([7, 7], dtype=int32)>"
            ]
          },
          "metadata": {
            "tags": []
          },
          "execution_count": 25
        }
      ]
    },
    {
      "cell_type": "markdown",
      "metadata": {
        "application/vnd.databricks.v1+cell": {
          "inputWidgets": {},
          "nuid": "fa357aab-8ad6-4b83-b077-f7234026b302",
          "showTitle": false,
          "title": ""
        },
        "id": "IayYudmY5OKE"
      },
      "source": [
        "TensorFlow Functions with @tf.function offer a significant speedup, because TensorFlow uses AutoGraph to convert functions to graphs, which in turn runs faster."
      ]
    },
    {
      "cell_type": "code",
      "metadata": {
        "application/vnd.databricks.v1+cell": {
          "inputWidgets": {},
          "nuid": "ebd10d31-58fe-4a86-bca8-dbc9649e956a",
          "showTitle": false,
          "title": ""
        },
        "colab": {
          "base_uri": "https://localhost:8080/"
        },
        "id": "ypVSr-GC5OKE",
        "outputId": "eccd1353-3a61-4fb6-acba-9d99d0440168"
      },
      "source": [
        "import timeit\n",
        "conv_layer = tf.keras.layers.Conv2D(100, 3)\n",
        "\n",
        "@tf.function\n",
        "def conv_fn(image):\n",
        "  return conv_layer(image)\n",
        "\n",
        "image = tf.zeros([1, 200, 200, 100])\n",
        "# warm up\n",
        "conv_layer(image); conv_fn(image)\n",
        "\n",
        "no_tf_fn = timeit.timeit(lambda: conv_layer(image), number=10)\n",
        "with_tf_fn = timeit.timeit(lambda: conv_fn(image), number=10)\n",
        "difference = no_tf_fn - with_tf_fn\n",
        "\n",
        "print(\"Without tf.function: \", no_tf_fn)\n",
        "print(\"With tf.function: \", with_tf_fn)\n",
        "print(\"The difference: \", difference)\n"
      ],
      "execution_count": 26,
      "outputs": [
        {
          "output_type": "stream",
          "text": [
            "Without tf.function:  1.3708255009999988\n",
            "With tf.function:  1.3106305729999974\n",
            "The difference:  0.06019492800000137\n"
          ],
          "name": "stdout"
        }
      ]
    },
    {
      "cell_type": "markdown",
      "metadata": {
        "id": "ZgU1g5NI6ohM"
      },
      "source": [
        "# CPU vs GPU"
      ]
    },
    {
      "cell_type": "code",
      "metadata": {
        "colab": {
          "base_uri": "https://localhost:8080/"
        },
        "id": "dVXjqoMr58Oc",
        "outputId": "927165c2-1945-43ca-8806-9d9821a02e92"
      },
      "source": [
        "import time\n",
        "\n",
        "cpu_slot = 0\n",
        "gpu_slot = 0\n",
        "\n",
        "# Using CPU at slot 0\n",
        "with tf.device('/CPU:' + str(cpu_slot)):\n",
        "    # Starting a timer\n",
        "    start = time.time()\n",
        "\n",
        "    # Doing operations on CPU\n",
        "    A = tf.constant([[3, 2], [5, 2]])\n",
        "    print(tf.eye(2,2))\n",
        "\n",
        "    # Printing how long it took with CPU\n",
        "    end = time.time() - start\n",
        "    print(end)\n",
        "\n",
        "# Using the GPU at slot 0\n",
        "with tf.device('/GPU:' + str(gpu_slot)):\n",
        "    # Starting a timer\n",
        "    start = time.time()\n",
        "\n",
        "    # Doing operations on CPU\n",
        "    A = tf.constant([[3, 2], [5, 2]])\n",
        "    print(tf.eye(2,2))\n",
        "\n",
        "    # Printing how long it took with CPU\n",
        "    end = time.time() - start\n",
        "    print(end)"
      ],
      "execution_count": 27,
      "outputs": [
        {
          "output_type": "stream",
          "text": [
            "tf.Tensor(\n",
            "[[1. 0.]\n",
            " [0. 1.]], shape=(2, 2), dtype=float32)\n",
            "0.003385782241821289\n",
            "tf.Tensor(\n",
            "[[1. 0.]\n",
            " [0. 1.]], shape=(2, 2), dtype=float32)\n",
            "0.002148151397705078\n"
          ],
          "name": "stdout"
        }
      ]
    },
    {
      "cell_type": "markdown",
      "metadata": {
        "application/vnd.databricks.v1+cell": {
          "inputWidgets": {},
          "nuid": "ed1e2997-5b23-4a42-93fe-f9b33a33eeb1",
          "showTitle": false,
          "title": ""
        },
        "id": "cClyBIXl5OKE"
      },
      "source": [
        "# Model subclassing using keras and tensorflow"
      ]
    },
    {
      "cell_type": "markdown",
      "metadata": {
        "application/vnd.databricks.v1+cell": {
          "inputWidgets": {},
          "nuid": "093d929c-9001-4dde-9ecc-db4240a310b1",
          "showTitle": false,
          "title": ""
        },
        "id": "H47l7Gu35OKE"
      },
      "source": [
        "## Load and prepare the MNIST data"
      ]
    },
    {
      "cell_type": "code",
      "metadata": {
        "application/vnd.databricks.v1+cell": {
          "inputWidgets": {},
          "nuid": "e484a97e-57c3-4d4b-a6a1-74affe0c220c",
          "showTitle": false,
          "title": ""
        },
        "id": "K33LPKY95OKF"
      },
      "source": [
        "from tensorflow.keras.layers import Dense, Flatten, Conv2D\n",
        "from tensorflow.keras import Model\n",
        "mnist = tf.keras.datasets.mnist\n",
        "\n",
        "# Load mnist data and split into train and test sets\n",
        "(x_train, y_train), (x_test, y_test) = mnist.load_data(path=os.getcwd()+'/mnist.npz')\n",
        "x_train, x_test = x_train / 255.0, x_test / 255.0"
      ],
      "execution_count": null,
      "outputs": []
    },
    {
      "cell_type": "code",
      "metadata": {
        "application/vnd.databricks.v1+cell": {
          "inputWidgets": {},
          "nuid": "af4a9368-e712-4e1a-b55d-097cbd28e01a",
          "showTitle": false,
          "title": ""
        },
        "id": "UJ28-bMu5OKF"
      },
      "source": [
        "# Check shape of data\n",
        "print('MNIST Dataset Shape:')\n",
        "print(f'x_train: {x_train.shape}')\n",
        "print(f'y_train: {y_train.shape}')\n",
        "print(f'x_test:  {x_test.shape}')\n",
        "print(f'y_test:  {y_test.shape}')"
      ],
      "execution_count": null,
      "outputs": []
    },
    {
      "cell_type": "code",
      "metadata": {
        "application/vnd.databricks.v1+cell": {
          "inputWidgets": {},
          "nuid": "6060afcb-1fe1-4c3a-9a2a-e05a8bb9d98d",
          "showTitle": false,
          "title": ""
        },
        "id": "JzWfwVsl5OKF"
      },
      "source": [
        "# Add a channels dimension\n",
        "x_train = x_train[..., tf.newaxis].astype(\"float32\")\n",
        "x_test = x_test[..., tf.newaxis].astype(\"float32\")"
      ],
      "execution_count": null,
      "outputs": []
    },
    {
      "cell_type": "code",
      "metadata": {
        "application/vnd.databricks.v1+cell": {
          "inputWidgets": {},
          "nuid": "55153aa3-9737-40c1-96d8-f580b31c4b17",
          "showTitle": false,
          "title": ""
        },
        "id": "J1pzjQ2T5OKF"
      },
      "source": [
        "# Check shape of data\n",
        "print('MNIST Dataset Shape:')\n",
        "print(f'x_train: {x_train.shape}')\n",
        "print(f'y_train: {y_train.shape}')\n",
        "print(f'x_test:  {x_test.shape}')\n",
        "print(f'y_test:  {y_test.shape}')"
      ],
      "execution_count": null,
      "outputs": []
    },
    {
      "cell_type": "markdown",
      "metadata": {
        "application/vnd.databricks.v1+cell": {
          "inputWidgets": {},
          "nuid": "03441645-e1b7-4c13-8477-38a8686692bc",
          "showTitle": false,
          "title": ""
        },
        "id": "FU8QQAcT5OKF"
      },
      "source": [
        "Use tf.data to batch and shuffle the dataset:"
      ]
    },
    {
      "cell_type": "code",
      "metadata": {
        "application/vnd.databricks.v1+cell": {
          "inputWidgets": {},
          "nuid": "2778138a-f6de-4b88-add9-5c85ac024603",
          "showTitle": false,
          "title": ""
        },
        "id": "zAW5ZKRT5OKF"
      },
      "source": [
        "train_ds = tf.data.Dataset.from_tensor_slices(\n",
        "    (x_train, y_train)).shuffle(10000).batch(32)\n",
        "\n",
        "test_ds = tf.data.Dataset.from_tensor_slices((x_test, y_test)).batch(32)"
      ],
      "execution_count": null,
      "outputs": []
    },
    {
      "cell_type": "markdown",
      "metadata": {
        "application/vnd.databricks.v1+cell": {
          "inputWidgets": {},
          "nuid": "298850a7-a018-4d66-b3a5-cf31cf8dc71f",
          "showTitle": false,
          "title": ""
        },
        "id": "FQYcmCev5OKF"
      },
      "source": [
        "## Build the tf.keras model using the Keras model subclassing API:\n",
        "- Create a subclass `MyModel` using keras `Model` class which groups layers into an object with training and inference features.\n",
        "\n",
        "- The `super()` function is used to run the superclass (i.e.`Model`) of the current subclass. \n",
        "\n",
        "- The layers are defined in `__init__` as instance attributes and the model's forward pass is implemented in `call` function."
      ]
    },
    {
      "cell_type": "code",
      "metadata": {
        "application/vnd.databricks.v1+cell": {
          "inputWidgets": {},
          "nuid": "323970b2-7c82-4ea7-bbc7-835051f8bcfb",
          "showTitle": false,
          "title": ""
        },
        "id": "M7CQ9sI35OKG"
      },
      "source": [
        "class MyModel(Model):\n",
        "    def __init__(self):\n",
        "        super().__init__()\n",
        "        self.conv1 = Conv2D(32,2)\n",
        "        self.flatten = Flatten()\n",
        "        self.d1 = Dense(128,activation='relu')\n",
        "        self.d2 = Dense(10)\n",
        "        \n",
        "    def call(self, x):\n",
        "        x = self.conv1(x)\n",
        "        x = self.flatten(x)\n",
        "        x = self.d1(x)\n",
        "        return self.d2(x)\n",
        "    \n",
        "# Create an instance of the model\n",
        "model = MyModel()\n",
        "        "
      ],
      "execution_count": null,
      "outputs": []
    },
    {
      "cell_type": "markdown",
      "metadata": {
        "application/vnd.databricks.v1+cell": {
          "inputWidgets": {},
          "nuid": "1d07b598-e468-4034-ad97-d92d87a0eef1",
          "showTitle": false,
          "title": ""
        },
        "id": "Ad4lKZYo5OKG"
      },
      "source": [
        "Choose an optimizer and loss function for training:"
      ]
    },
    {
      "cell_type": "code",
      "metadata": {
        "application/vnd.databricks.v1+cell": {
          "inputWidgets": {},
          "nuid": "84ed2b9b-2e3f-41ed-8d04-6d9be693988b",
          "showTitle": false,
          "title": ""
        },
        "id": "zduY0YUy5OKG"
      },
      "source": [
        "loss_object = tf.keras.losses.SparseCategoricalCrossentropy(from_logits=True)\n",
        "optimizer = tf.keras.optimizers.Adam()"
      ],
      "execution_count": null,
      "outputs": []
    },
    {
      "cell_type": "code",
      "metadata": {
        "application/vnd.databricks.v1+cell": {
          "inputWidgets": {},
          "nuid": "52394a03-7fde-41e4-b96a-1e5e9804d737",
          "showTitle": false,
          "title": ""
        },
        "id": "TxOjhbLG5OKG"
      },
      "source": [
        "train_loss = tf.keras.metrics.Mean(name='train_loss')\n",
        "train_accuracy = tf.keras.metrics.SparseCategoricalAccuracy(name='train_accuracy')\n",
        "\n",
        "test_loss = tf.keras.metrics.Mean(name='test_loss')\n",
        "test_accuracy = tf.keras.metrics.SparseCategoricalAccuracy(name='test_accuracy')"
      ],
      "execution_count": null,
      "outputs": []
    },
    {
      "cell_type": "markdown",
      "metadata": {
        "application/vnd.databricks.v1+cell": {
          "inputWidgets": {},
          "nuid": "a212db36-3c0b-4b29-9ddd-2808b5f16219",
          "showTitle": false,
          "title": ""
        },
        "id": "E2Nd-EF35OKH"
      },
      "source": [
        "## Train the model\n",
        "In the next step:\n",
        "\n",
        "- annotate the function with @tf.function for as much of a speedup as possible. \n",
        "- the `tf.GradientTape()` records gradients onto a variable tape, which we can access afterwards\n",
        "- make predictions using `model` object\n",
        "- call the object holding the loss function with the labels and predictions\n",
        "- get the gradient from the gradient tape and apply them using the update rule from the optimizer picked"
      ]
    },
    {
      "cell_type": "code",
      "metadata": {
        "application/vnd.databricks.v1+cell": {
          "inputWidgets": {},
          "nuid": "edb2e81a-c45e-49f7-858d-66dc5af1f8a2",
          "showTitle": false,
          "title": ""
        },
        "id": "EhtwdbGG5OKH"
      },
      "source": [
        "@tf.function\n",
        "def train_step(images, labels):\n",
        "    with tf.GradientTape() as tape:\n",
        "        # training=True is only needed if there are layers with different\n",
        "        # behavior during training versus inference (e.g. Dropout).\n",
        "        predictions = model(images, training=True)\n",
        "        loss = loss_object(labels, predictions)\n",
        "    gradients = tape.gradient(loss, model.trainable_variables)\n",
        "    optimizer.apply_gradients(zip(gradients, model.trainable_variables))\n",
        "    \n",
        "    train_loss(loss)\n",
        "    train_accuracy(labels, predictions)"
      ],
      "execution_count": null,
      "outputs": []
    },
    {
      "cell_type": "markdown",
      "metadata": {
        "application/vnd.databricks.v1+cell": {
          "inputWidgets": {},
          "nuid": "fc76e864-9cd8-4fc9-9f06-860ef7618ee9",
          "showTitle": false,
          "title": ""
        },
        "id": "-qJJgvUD5OKH"
      },
      "source": [
        "## Test the model\n",
        "\n",
        "The next function is just a test step, used to test the last training step. This function is almost identical to the`train_step` function, except there are no gradients and updates."
      ]
    },
    {
      "cell_type": "code",
      "metadata": {
        "application/vnd.databricks.v1+cell": {
          "inputWidgets": {},
          "nuid": "85ee0404-5b3a-4196-bb1c-bf9721422321",
          "showTitle": false,
          "title": ""
        },
        "id": "Wd6qUb2t5OKH"
      },
      "source": [
        "@tf.function\n",
        "def test_step(images, labels):\n",
        "    # training=False is only needed if there are layers with different\n",
        "    # behavior during training versus inference (e.g. Dropout).\n",
        "    predictions = model(images, training=False)\n",
        "    t_loss = loss_object(labels, predictions)\n",
        "    \n",
        "    test_loss(t_loss)\n",
        "    test_accuracy(labels, predictions)"
      ],
      "execution_count": null,
      "outputs": []
    },
    {
      "cell_type": "markdown",
      "metadata": {
        "application/vnd.databricks.v1+cell": {
          "inputWidgets": {},
          "nuid": "4d778140-5747-45b3-8f81-5094b52d0135",
          "showTitle": false,
          "title": ""
        },
        "id": "AbmTWo575OKH"
      },
      "source": [
        "The next step ties all the previous steps together and trains and tests the network for the number of epochs defined."
      ]
    },
    {
      "cell_type": "code",
      "metadata": {
        "application/vnd.databricks.v1+cell": {
          "inputWidgets": {},
          "nuid": "58fe23de-0266-42a1-b351-da5db9c07874",
          "showTitle": false,
          "title": ""
        },
        "id": "U9UM1WAw5OKH"
      },
      "source": [
        "EPOCHS = 5\n",
        "\n",
        "for epoch in range(EPOCHS):\n",
        "    # Reset the metrics at the start of the next epoch\n",
        "    train_loss.reset_states()\n",
        "    train_accuracy.reset_states()\n",
        "    test_loss.reset_states()\n",
        "    test_accuracy.reset_states()\n",
        "    \n",
        "    for images, labels in train_ds:\n",
        "        train_step(images, labels)\n",
        "    print(\n",
        "        f'Epoch {epoch + 1}, '\n",
        "        f'Loss: {train_loss.result()}, '\n",
        "        f'Accuracy: {train_accuracy.result() * 100}')"
      ],
      "execution_count": null,
      "outputs": []
    }
  ]
}