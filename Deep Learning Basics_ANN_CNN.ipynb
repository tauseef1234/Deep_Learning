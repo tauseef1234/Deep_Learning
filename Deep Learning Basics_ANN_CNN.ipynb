{
 "cells": [
  {
   "cell_type": "markdown",
   "metadata": {
    "application/vnd.databricks.v1+cell": {
     "inputWidgets": {},
     "nuid": "f69bf3ff-0d5b-485f-a3f4-62ce7cde524e",
     "showTitle": false,
     "title": ""
    }
   },
   "source": [
    "# Deep Learning Models"
   ]
  },
  {
   "cell_type": "markdown",
   "metadata": {
    "application/vnd.databricks.v1+cell": {
     "inputWidgets": {},
     "nuid": "1007c308-bdfe-4413-a152-8c9677d73d5b",
     "showTitle": false,
     "title": ""
    }
   },
   "source": [
    "This notebooks gives a step by step explainer on how to build an artificial and convolution neural network using [keras](https://keras.io/about/) deep learning library on the MNIST dataset.\n",
    "\n",
    "**MNIST Dataset**\n",
    "\n",
    "The MNIST problem is a dataset developed by Yann LeCun, Corinna Cortes and Christopher Burges for evaluating machine learning models on the handwritten digit classification problem. The dataset was constructed from a number of scanned document dataset available from the National Institute of Standards and Technology (NIST). Images of digits were taken from a variety of scanned documents, normalized in size and centered. This makes it an excellent dataset for evaluating models, allowing the developer to focus on the machine learning with very little data cleaning or preparation required.\n",
    "\n",
    "Each image is a 28 by 28 pixel square (784 pixels total). A standard split of the dataset is used to evaluate and compare models, where 60,000 images are used to train a model and a separate set of 10,000 images are used to test it."
   ]
  },
  {
   "cell_type": "markdown",
   "metadata": {
    "application/vnd.databricks.v1+cell": {
     "inputWidgets": {},
     "nuid": "76ffd926-da32-4520-b741-5613bb266c43",
     "showTitle": false,
     "title": ""
    }
   },
   "source": [
    "## ANN Model\n",
    "\n",
    "The following section shows how to build a bsic deep learning model with keras."
   ]
  },
  {
   "cell_type": "markdown",
   "metadata": {
    "application/vnd.databricks.v1+cell": {
     "inputWidgets": {},
     "nuid": "9306daef-e568-413f-9137-713592d7d767",
     "showTitle": false,
     "title": ""
    }
   },
   "source": [
    "### I. Import Packages and Data"
   ]
  },
  {
   "cell_type": "code",
   "execution_count": 0,
   "metadata": {
    "application/vnd.databricks.v1+cell": {
     "inputWidgets": {},
     "nuid": "71dbdf9d-7966-405a-bb70-e927d2051519",
     "showTitle": false,
     "title": ""
    }
   },
   "outputs": [],
   "source": [
    "from keras.datasets import mnist\n",
    "import os\n",
    "import numpy as np\n",
    "import matplotlib.pyplot as plt\n",
    "from collections import Counter\n",
    "import tensorflow as tf\n",
    "from keras.utils import np_utils\n",
    "from keras.models import Sequential\n",
    "from keras.layers import Dense, Conv2D, Flatten, Dropout\n",
    "from keras.layers.convolutional import MaxPooling2D"
   ]
  },
  {
   "cell_type": "code",
   "execution_count": 0,
   "metadata": {
    "application/vnd.databricks.v1+cell": {
     "inputWidgets": {},
     "nuid": "3b89d130-2f49-41e2-8f4d-93ff2e77a478",
     "showTitle": false,
     "title": ""
    }
   },
   "outputs": [],
   "source": [
    "# Load mnist data and split into train and test sets\n",
    "(x_train, y_train), (x_test, y_test) = mnist.load_data(path=os.getcwd()+'/mnist.npz')"
   ]
  },
  {
   "cell_type": "code",
   "execution_count": 0,
   "metadata": {
    "application/vnd.databricks.v1+cell": {
     "inputWidgets": {},
     "nuid": "5274ceef-b58b-4678-aa69-b70c0d10d608",
     "showTitle": false,
     "title": ""
    }
   },
   "outputs": [
    {
     "data": {
      "text/html": [
       "<style scoped>\n",
       "  .ansiout {\n",
       "    display: block;\n",
       "    unicode-bidi: embed;\n",
       "    white-space: pre-wrap;\n",
       "    word-wrap: break-word;\n",
       "    word-break: break-all;\n",
       "    font-family: \"Source Code Pro\", \"Menlo\", monospace;;\n",
       "    font-size: 13px;\n",
       "    color: #555;\n",
       "    margin-left: 4px;\n",
       "    line-height: 19px;\n",
       "  }\n",
       "</style>\n",
       "<div class='ansiout'>MNIST Dataset Shape:\n",
       "x_train: (60000, 28, 28)\n",
       "y_train: (60000,)\n",
       "x_test:  (10000, 28, 28)\n",
       "y_test:  (10000,)\n",
       "</div>"
      ]
     },
     "metadata": {
      "application/vnd.databricks.v1+output": {
       "addedWidgets": {},
       "arguments": {},
       "data": "<div class='ansiout'>MNIST Dataset Shape:\nx_train: (60000, 28, 28)\ny_train: (60000,)\nx_test:  (10000, 28, 28)\ny_test:  (10000,)\n</div>",
       "datasetInfos": [],
       "removedWidgets": [],
       "type": "html"
      }
     },
     "output_type": "display_data"
    }
   ],
   "source": [
    "# Check shape of data\n",
    "print('MNIST Dataset Shape:')\n",
    "print('x_train: ' + str(x_train.shape))\n",
    "print('y_train: ' + str(y_train.shape))\n",
    "print('x_test:  '  + str(x_test.shape))\n",
    "print('y_test:  '  + str(y_test.shape))"
   ]
  },
  {
   "cell_type": "code",
   "execution_count": 0,
   "metadata": {
    "application/vnd.databricks.v1+cell": {
     "inputWidgets": {},
     "nuid": "182e4054-413d-45c8-92bf-4d6f356918da",
     "showTitle": false,
     "title": ""
    }
   },
   "outputs": [
    {
     "data": {
      "text/html": [
       "<style scoped>\n",
       "  .ansiout {\n",
       "    display: block;\n",
       "    unicode-bidi: embed;\n",
       "    white-space: pre-wrap;\n",
       "    word-wrap: break-word;\n",
       "    word-break: break-all;\n",
       "    font-family: \"Source Code Pro\", \"Menlo\", monospace;;\n",
       "    font-size: 13px;\n",
       "    color: #555;\n",
       "    margin-left: 4px;\n",
       "    line-height: 19px;\n",
       "  }\n",
       "</style>\n",
       "<div class='ansiout'>Unique count of digits in train data:\n",
       " [[   0 5923]\n",
       " [   1 6742]\n",
       " [   2 5958]\n",
       " [   3 6131]\n",
       " [   4 5842]\n",
       " [   5 5421]\n",
       " [   6 5918]\n",
       " [   7 6265]\n",
       " [   8 5851]\n",
       " [   9 5949]]\n",
       "</div>"
      ]
     },
     "metadata": {
      "application/vnd.databricks.v1+output": {
       "addedWidgets": {},
       "arguments": {},
       "data": "<div class='ansiout'>Unique count of digits in train data:\n [[   0 5923]\n [   1 6742]\n [   2 5958]\n [   3 6131]\n [   4 5842]\n [   5 5421]\n [   6 5918]\n [   7 6265]\n [   8 5851]\n [   9 5949]]\n</div>",
       "datasetInfos": [],
       "removedWidgets": [],
       "type": "html"
      }
     },
     "output_type": "display_data"
    }
   ],
   "source": [
    "# Check unique count of digits in training dataset\n",
    "unique, counts = np.unique(y_train, return_counts=True)\n",
    "print (\"Unique count of digits in train data:\\n\",np.asarray((unique, counts)).T)"
   ]
  },
  {
   "cell_type": "code",
   "execution_count": 0,
   "metadata": {
    "application/vnd.databricks.v1+cell": {
     "inputWidgets": {},
     "nuid": "3224823b-9350-4dda-9fdd-c0992c3d28ca",
     "showTitle": false,
     "title": ""
    },
    "scrolled": true
   },
   "outputs": [
    {
     "data": {
      "text/html": [
       "<style scoped>\n",
       "  .ansiout {\n",
       "    display: block;\n",
       "    unicode-bidi: embed;\n",
       "    white-space: pre-wrap;\n",
       "    word-wrap: break-word;\n",
       "    word-break: break-all;\n",
       "    font-family: \"Source Code Pro\", \"Menlo\", monospace;;\n",
       "    font-size: 13px;\n",
       "    color: #555;\n",
       "    margin-left: 4px;\n",
       "    line-height: 19px;\n",
       "  }\n",
       "</style>\n",
       "<div class='ansiout'>Unique count of digits in test data:\n",
       " [[   0  980]\n",
       " [   1 1135]\n",
       " [   2 1032]\n",
       " [   3 1010]\n",
       " [   4  982]\n",
       " [   5  892]\n",
       " [   6  958]\n",
       " [   7 1028]\n",
       " [   8  974]\n",
       " [   9 1009]]\n",
       "</div>"
      ]
     },
     "metadata": {
      "application/vnd.databricks.v1+output": {
       "addedWidgets": {},
       "arguments": {},
       "data": "<div class='ansiout'>Unique count of digits in test data:\n [[   0  980]\n [   1 1135]\n [   2 1032]\n [   3 1010]\n [   4  982]\n [   5  892]\n [   6  958]\n [   7 1028]\n [   8  974]\n [   9 1009]]\n</div>",
       "datasetInfos": [],
       "removedWidgets": [],
       "type": "html"
      }
     },
     "output_type": "display_data"
    }
   ],
   "source": [
    "# Check unique count of digits in test dataset\n",
    "unique, counts = np.unique(y_test, return_counts=True)\n",
    "print (\"Unique count of digits in test data:\\n\",np.asarray((unique, counts)).T)"
   ]
  },
  {
   "cell_type": "markdown",
   "metadata": {
    "application/vnd.databricks.v1+cell": {
     "inputWidgets": {},
     "nuid": "946c6e3a-d51a-4a8d-90df-6d7772c3353d",
     "showTitle": false,
     "title": ""
    }
   },
   "source": [
    "### II. Normalize Data"
   ]
  },
  {
   "cell_type": "code",
   "execution_count": 0,
   "metadata": {
    "application/vnd.databricks.v1+cell": {
     "inputWidgets": {},
     "nuid": "c0411fb7-8567-4447-b153-cdcdd795b9b0",
     "showTitle": false,
     "title": ""
    },
    "scrolled": false
   },
   "outputs": [
    {
     "data": {
      "text/html": [
       "<style scoped>\n",
       "  .ansiout {\n",
       "    display: block;\n",
       "    unicode-bidi: embed;\n",
       "    white-space: pre-wrap;\n",
       "    word-wrap: break-word;\n",
       "    word-break: break-all;\n",
       "    font-family: \"Source Code Pro\", \"Menlo\", monospace;;\n",
       "    font-size: 13px;\n",
       "    color: #555;\n",
       "    margin-left: 4px;\n",
       "    line-height: 19px;\n",
       "  }\n",
       "</style>\n",
       "<div class='ansiout'>&lt;matplotlib.image.AxesImage at 0x7ff0ee7d0350&gt;</div>"
      ]
     },
     "metadata": {
      "application/vnd.databricks.v1+output": {
       "addedWidgets": {},
       "arguments": {},
       "data": "<div class='ansiout'>&lt;matplotlib.image.AxesImage at 0x7ff0ee7d0350&gt;</div>",
       "datasetInfos": [],
       "removedWidgets": [],
       "type": "html"
      }
     },
     "output_type": "display_data"
    },
    {
     "data": {
      "image/png": "[encoded data removed]"
     },
     "metadata": {
      "application/vnd.databricks.v1+output": {
       "addedWidgets": {},
       "arguments": {},
       "data": "data:image/png;base64,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\n",
       "datasetInfos": [],
       "removedWidgets": [],
       "type": "image"
      }
     },
     "output_type": "display_data"
    }
   ],
   "source": [
    "#plot the first image in the dataset\n",
    "plt.imshow(x_train[0])"
   ]
  },
  {
   "cell_type": "code",
   "execution_count": 0,
   "metadata": {
    "application/vnd.databricks.v1+cell": {
     "inputWidgets": {},
     "nuid": "00cb5302-39d3-411c-a651-0112df019422",
     "showTitle": false,
     "title": ""
    },
    "scrolled": true
   },
   "outputs": [
    {
     "data": {
      "text/html": [
       "<style scoped>\n",
       "  .ansiout {\n",
       "    display: block;\n",
       "    unicode-bidi: embed;\n",
       "    white-space: pre-wrap;\n",
       "    word-wrap: break-word;\n",
       "    word-break: break-all;\n",
       "    font-family: \"Source Code Pro\", \"Menlo\", monospace;;\n",
       "    font-size: 13px;\n",
       "    color: #555;\n",
       "    margin-left: 4px;\n",
       "    line-height: 19px;\n",
       "  }\n",
       "</style>\n",
       "<div class='ansiout'>array([[  0,   0,   0,   0,   0,   0,   0,   0,   0,   0,   0,   0,   0,\n",
       "          0,   0,   0,   0,   0,   0,   0,   0,   0,   0,   0,   0,   0,\n",
       "          0,   0],\n",
       "       [  0,   0,   0,   0,   0,   0,   0,   0,   0,   0,   0,   0,   0,\n",
       "          0,   0,   0,   0,   0,   0,   0,   0,   0,   0,   0,   0,   0,\n",
       "          0,   0],\n",
       "       [  0,   0,   0,   0,   0,   0,   0,   0,   0,   0,   0,   0,   0,\n",
       "          0,   0,   0,   0,   0,   0,   0,   0,   0,   0,   0,   0,   0,\n",
       "          0,   0],\n",
       "       [  0,   0,   0,   0,   0,   0,   0,   0,   0,   0,   0,   0,   0,\n",
       "          0,   0,   0,   0,   0,   0,   0,   0,   0,   0,   0,   0,   0,\n",
       "          0,   0],\n",
       "       [  0,   0,   0,   0,   0,   0,   0,   0,   0,   0,   0,   0,   0,\n",
       "          0,   0,   0,   0,   0,   0,   0,   0,   0,   0,   0,   0,   0,\n",
       "          0,   0],\n",
       "       [  0,   0,   0,   0,   0,   0,   0,   0,   0,   0,   0,   0,   3,\n",
       "         18,  18,  18, 126, 136, 175,  26, 166, 255, 247, 127,   0,   0,\n",
       "          0,   0],\n",
       "       [  0,   0,   0,   0,   0,   0,   0,   0,  30,  36,  94, 154, 170,\n",
       "        253, 253, 253, 253, 253, 225, 172, 253, 242, 195,  64,   0,   0,\n",
       "          0,   0],\n",
       "       [  0,   0,   0,   0,   0,   0,   0,  49, 238, 253, 253, 253, 253,\n",
       "        253, 253, 253, 253, 251,  93,  82,  82,  56,  39,   0,   0,   0,\n",
       "          0,   0],\n",
       "       [  0,   0,   0,   0,   0,   0,   0,  18, 219, 253, 253, 253, 253,\n",
       "        253, 198, 182, 247, 241,   0,   0,   0,   0,   0,   0,   0,   0,\n",
       "          0,   0],\n",
       "       [  0,   0,   0,   0,   0,   0,   0,   0,  80, 156, 107, 253, 253,\n",
       "        205,  11,   0,  43, 154,   0,   0,   0,   0,   0,   0,   0,   0,\n",
       "          0,   0],\n",
       "       [  0,   0,   0,   0,   0,   0,   0,   0,   0,  14,   1, 154, 253,\n",
       "         90,   0,   0,   0,   0,   0,   0,   0,   0,   0,   0,   0,   0,\n",
       "          0,   0],\n",
       "       [  0,   0,   0,   0,   0,   0,   0,   0,   0,   0,   0, 139, 253,\n",
       "        190,   2,   0,   0,   0,   0,   0,   0,   0,   0,   0,   0,   0,\n",
       "          0,   0],\n",
       "       [  0,   0,   0,   0,   0,   0,   0,   0,   0,   0,   0,  11, 190,\n",
       "        253,  70,   0,   0,   0,   0,   0,   0,   0,   0,   0,   0,   0,\n",
       "          0,   0],\n",
       "       [  0,   0,   0,   0,   0,   0,   0,   0,   0,   0,   0,   0,  35,\n",
       "        241, 225, 160, 108,   1,   0,   0,   0,   0,   0,   0,   0,   0,\n",
       "          0,   0],\n",
       "       [  0,   0,   0,   0,   0,   0,   0,   0,   0,   0,   0,   0,   0,\n",
       "         81, 240, 253, 253, 119,  25,   0,   0,   0,   0,   0,   0,   0,\n",
       "          0,   0],\n",
       "       [  0,   0,   0,   0,   0,   0,   0,   0,   0,   0,   0,   0,   0,\n",
       "          0,  45, 186, 253, 253, 150,  27,   0,   0,   0,   0,   0,   0,\n",
       "          0,   0],\n",
       "       [  0,   0,   0,   0,   0,   0,   0,   0,   0,   0,   0,   0,   0,\n",
       "          0,   0,  16,  93, 252, 253, 187,   0,   0,   0,   0,   0,   0,\n",
       "          0,   0],\n",
       "       [  0,   0,   0,   0,   0,   0,   0,   0,   0,   0,   0,   0,   0,\n",
       "          0,   0,   0,   0, 249, 253, 249,  64,   0,   0,   0,   0,   0,\n",
       "          0,   0],\n",
       "       [  0,   0,   0,   0,   0,   0,   0,   0,   0,   0,   0,   0,   0,\n",
       "          0,  46, 130, 183, 253, 253, 207,   2,   0,   0,   0,   0,   0,\n",
       "          0,   0],\n",
       "       [  0,   0,   0,   0,   0,   0,   0,   0,   0,   0,   0,   0,  39,\n",
       "        148, 229, 253, 253, 253, 250, 182,   0,   0,   0,   0,   0,   0,\n",
       "          0,   0],\n",
       "       [  0,   0,   0,   0,   0,   0,   0,   0,   0,   0,  24, 114, 221,\n",
       "        253, 253, 253, 253, 201,  78,   0,   0,   0,   0,   0,   0,   0,\n",
       "          0,   0],\n",
       "       [  0,   0,   0,   0,   0,   0,   0,   0,  23,  66, 213, 253, 253,\n",
       "        253, 253, 198,  81,   2,   0,   0,   0,   0,   0,   0,   0,   0,\n",
       "          0,   0],\n",
       "       [  0,   0,   0,   0,   0,   0,  18, 171, 219, 253, 253, 253, 253,\n",
       "        195,  80,   9,   0,   0,   0,   0,   0,   0,   0,   0,   0,   0,\n",
       "          0,   0],\n",
       "       [  0,   0,   0,   0,  55, 172, 226, 253, 253, 253, 253, 244, 133,\n",
       "         11,   0,   0,   0,   0,   0,   0,   0,   0,   0,   0,   0,   0,\n",
       "          0,   0],\n",
       "       [  0,   0,   0,   0, 136, 253, 253, 253, 212, 135, 132,  16,   0,\n",
       "          0,   0,   0,   0,   0,   0,   0,   0,   0,   0,   0,   0,   0,\n",
       "          0,   0],\n",
       "       [  0,   0,   0,   0,   0,   0,   0,   0,   0,   0,   0,   0,   0,\n",
       "          0,   0,   0,   0,   0,   0,   0,   0,   0,   0,   0,   0,   0,\n",
       "          0,   0],\n",
       "       [  0,   0,   0,   0,   0,   0,   0,   0,   0,   0,   0,   0,   0,\n",
       "          0,   0,   0,   0,   0,   0,   0,   0,   0,   0,   0,   0,   0,\n",
       "          0,   0],\n",
       "       [  0,   0,   0,   0,   0,   0,   0,   0,   0,   0,   0,   0,   0,\n",
       "          0,   0,   0,   0,   0,   0,   0,   0,   0,   0,   0,   0,   0,\n",
       "          0,   0]], dtype=uint8)</div>"
      ]
     },
     "metadata": {
      "application/vnd.databricks.v1+output": {
       "addedWidgets": {},
       "arguments": {},
       "data": "<div class='ansiout'>array([[  0,   0,   0,   0,   0,   0,   0,   0,   0,   0,   0,   0,   0,\n          0,   0,   0,   0,   0,   0,   0,   0,   0,   0,   0,   0,   0,\n          0,   0],\n       [  0,   0,   0,   0,   0,   0,   0,   0,   0,   0,   0,   0,   0,\n          0,   0,   0,   0,   0,   0,   0,   0,   0,   0,   0,   0,   0,\n          0,   0],\n       [  0,   0,   0,   0,   0,   0,   0,   0,   0,   0,   0,   0,   0,\n          0,   0,   0,   0,   0,   0,   0,   0,   0,   0,   0,   0,   0,\n          0,   0],\n       [  0,   0,   0,   0,   0,   0,   0,   0,   0,   0,   0,   0,   0,\n          0,   0,   0,   0,   0,   0,   0,   0,   0,   0,   0,   0,   0,\n          0,   0],\n       [  0,   0,   0,   0,   0,   0,   0,   0,   0,   0,   0,   0,   0,\n          0,   0,   0,   0,   0,   0,   0,   0,   0,   0,   0,   0,   0,\n          0,   0],\n       [  0,   0,   0,   0,   0,   0,   0,   0,   0,   0,   0,   0,   3,\n         18,  18,  18, 126, 136, 175,  26, 166, 255, 247, 127,   0,   0,\n          0,   0],\n       [  0,   0,   0,   0,   0,   0,   0,   0,  30,  36,  94, 154, 170,\n        253, 253, 253, 253, 253, 225, 172, 253, 242, 195,  64,   0,   0,\n          0,   0],\n       [  0,   0,   0,   0,   0,   0,   0,  49, 238, 253, 253, 253, 253,\n        253, 253, 253, 253, 251,  93,  82,  82,  56,  39,   0,   0,   0,\n          0,   0],\n       [  0,   0,   0,   0,   0,   0,   0,  18, 219, 253, 253, 253, 253,\n        253, 198, 182, 247, 241,   0,   0,   0,   0,   0,   0,   0,   0,\n          0,   0],\n       [  0,   0,   0,   0,   0,   0,   0,   0,  80, 156, 107, 253, 253,\n        205,  11,   0,  43, 154,   0,   0,   0,   0,   0,   0,   0,   0,\n          0,   0],\n       [  0,   0,   0,   0,   0,   0,   0,   0,   0,  14,   1, 154, 253,\n         90,   0,   0,   0,   0,   0,   0,   0,   0,   0,   0,   0,   0,\n          0,   0],\n       [  0,   0,   0,   0,   0,   0,   0,   0,   0,   0,   0, 139, 253,\n        190,   2,   0,   0,   0,   0,   0,   0,   0,   0,   0,   0,   0,\n          0,   0],\n       [  0,   0,   0,   0,   0,   0,   0,   0,   0,   0,   0,  11, 190,\n        253,  70,   0,   0,   0,   0,   0,   0,   0,   0,   0,   0,   0,\n          0,   0],\n       [  0,   0,   0,   0,   0,   0,   0,   0,   0,   0,   0,   0,  35,\n        241, 225, 160, 108,   1,   0,   0,   0,   0,   0,   0,   0,   0,\n          0,   0],\n       [  0,   0,   0,   0,   0,   0,   0,   0,   0,   0,   0,   0,   0,\n         81, 240, 253, 253, 119,  25,   0,   0,   0,   0,   0,   0,   0,\n          0,   0],\n       [  0,   0,   0,   0,   0,   0,   0,   0,   0,   0,   0,   0,   0,\n          0,  45, 186, 253, 253, 150,  27,   0,   0,   0,   0,   0,   0,\n          0,   0],\n       [  0,   0,   0,   0,   0,   0,   0,   0,   0,   0,   0,   0,   0,\n          0,   0,  16,  93, 252, 253, 187,   0,   0,   0,   0,   0,   0,\n          0,   0],\n       [  0,   0,   0,   0,   0,   0,   0,   0,   0,   0,   0,   0,   0,\n          0,   0,   0,   0, 249, 253, 249,  64,   0,   0,   0,   0,   0,\n          0,   0],\n       [  0,   0,   0,   0,   0,   0,   0,   0,   0,   0,   0,   0,   0,\n          0,  46, 130, 183, 253, 253, 207,   2,   0,   0,   0,   0,   0,\n          0,   0],\n       [  0,   0,   0,   0,   0,   0,   0,   0,   0,   0,   0,   0,  39,\n        148, 229, 253, 253, 253, 250, 182,   0,   0,   0,   0,   0,   0,\n          0,   0],\n       [  0,   0,   0,   0,   0,   0,   0,   0,   0,   0,  24, 114, 221,\n        253, 253, 253, 253, 201,  78,   0,   0,   0,   0,   0,   0,   0,\n          0,   0],\n       [  0,   0,   0,   0,   0,   0,   0,   0,  23,  66, 213, 253, 253,\n        253, 253, 198,  81,   2,   0,   0,   0,   0,   0,   0,   0,   0,\n          0,   0],\n       [  0,   0,   0,   0,   0,   0,  18, 171, 219, 253, 253, 253, 253,\n        195,  80,   9,   0,   0,   0,   0,   0,   0,   0,   0,   0,   0,\n          0,   0],\n       [  0,   0,   0,   0,  55, 172, 226, 253, 253, 253, 253, 244, 133,\n         11,   0,   0,   0,   0,   0,   0,   0,   0,   0,   0,   0,   0,\n          0,   0],\n       [  0,   0,   0,   0, 136, 253, 253, 253, 212, 135, 132,  16,   0,\n          0,   0,   0,   0,   0,   0,   0,   0,   0,   0,   0,   0,   0,\n          0,   0],\n       [  0,   0,   0,   0,   0,   0,   0,   0,   0,   0,   0,   0,   0,\n          0,   0,   0,   0,   0,   0,   0,   0,   0,   0,   0,   0,   0,\n          0,   0],\n       [  0,   0,   0,   0,   0,   0,   0,   0,   0,   0,   0,   0,   0,\n          0,   0,   0,   0,   0,   0,   0,   0,   0,   0,   0,   0,   0,\n          0,   0],\n       [  0,   0,   0,   0,   0,   0,   0,   0,   0,   0,   0,   0,   0,\n          0,   0,   0,   0,   0,   0,   0,   0,   0,   0,   0,   0,   0,\n          0,   0]], dtype=uint8)</div>",
       "datasetInfos": [],
       "removedWidgets": [],
       "type": "html"
      }
     },
     "output_type": "display_data"
    }
   ],
   "source": [
    "#check values\n",
    "x_train[0]"
   ]
  },
  {
   "cell_type": "markdown",
   "metadata": {
    "application/vnd.databricks.v1+cell": {
     "inputWidgets": {},
     "nuid": "2ed04e90-cd08-4f01-9bdf-1bb0a110dc5b",
     "showTitle": false,
     "title": ""
    }
   },
   "source": [
    "Normalize - The pixel values are between 0 and 255. Scaling the data to range 0 and 1 in order to make it easier for the network to learn."
   ]
  },
  {
   "cell_type": "code",
   "execution_count": 0,
   "metadata": {
    "application/vnd.databricks.v1+cell": {
     "inputWidgets": {},
     "nuid": "d686c1fd-a566-474f-8d6c-1d3768bf6131",
     "showTitle": false,
     "title": ""
    }
   },
   "outputs": [],
   "source": [
    "x_train = tf.keras.utils.normalize(x_train,axis=1)\n",
    "x_test = tf.keras.utils.normalize(x_test,axis=1)"
   ]
  },
  {
   "cell_type": "code",
   "execution_count": 0,
   "metadata": {
    "application/vnd.databricks.v1+cell": {
     "inputWidgets": {},
     "nuid": "b2b1d722-10c6-439f-841e-d5cb51221b52",
     "showTitle": false,
     "title": ""
    }
   },
   "outputs": [
    {
     "data": {
      "text/html": [
       "<style scoped>\n",
       "  .ansiout {\n",
       "    display: block;\n",
       "    unicode-bidi: embed;\n",
       "    white-space: pre-wrap;\n",
       "    word-wrap: break-word;\n",
       "    word-break: break-all;\n",
       "    font-family: \"Source Code Pro\", \"Menlo\", monospace;;\n",
       "    font-size: 13px;\n",
       "    color: #555;\n",
       "    margin-left: 4px;\n",
       "    line-height: 19px;\n",
       "  }\n",
       "</style>\n",
       "<div class='ansiout'>&lt;matplotlib.image.AxesImage at 0x7ff0eaa70890&gt;</div>"
      ]
     },
     "metadata": {
      "application/vnd.databricks.v1+output": {
       "addedWidgets": {},
       "arguments": {},
       "data": "<div class='ansiout'>&lt;matplotlib.image.AxesImage at 0x7ff0eaa70890&gt;</div>",
       "datasetInfos": [],
       "removedWidgets": [],
       "type": "html"
      }
     },
     "output_type": "display_data"
    },
    {
     "data": {
      "image/png": "[encoded data removed]"
     },
     "metadata": {
      "application/vnd.databricks.v1+output": {
       "addedWidgets": {},
       "arguments": {},
       "data": "data:image/png;base64,iVBORw0KGgoAAAANSUhEUgAAAPsAAAD4CAYAAAAq5pAIAAAAOXRFWHRTb2Z0d2FyZQBNYXRwbG90bGliIHZlcnNpb24zLjMuNCwgaHR0cHM6Ly9tYXRwbG90bGliLm9yZy8QVMy6AAAACXBIWXMAAAsTAAALEwEAmpwYAAAOfklEQVR4nO3dXYxc9XnH8d9vl/ULtgG/YOMYEzvEgboUTLt1WlxVtCgJEKmQSInCBaIVqnMR1ETNRRG9gEtU5UW5aCM5xYpTpURpCQK1qJhaRJSooSzI2CZOwLwEbGwvL8YYzNrr9dOLPaAFdv6zzJx5wc/3I61m5jxz5jwM+/OZnf855++IEIBT30CvGwDQHYQdSIKwA0kQdiAJwg4kcVo3NzbLs2OO5nVzk0AqY3pLx+OYp6u1FXbbV0r6nqRBSf8cEbeXnj9H8/RpX9HOJgEUPBLbGtZa/hhve1DSP0q6StJaSdfZXtvq6wHorHb+Zl8vaU9EPBsRxyX9RNI19bQFoG7thH2FpBenPN5bLXsP2xttj9geGdexNjYHoB3thH26LwE+cOxtRGyKiOGIGB7S7DY2B6Ad7YR9r6SVUx6fK+ml9toB0CnthP1RSWtsr7Y9S9JXJN1bT1sA6tby0FtEnLB9k6T7NTn0tjkinqytMwC1amucPSLuk3RfTb0A6CAOlwWSIOxAEoQdSIKwA0kQdiAJwg4kQdiBJAg7kARhB5Ig7EAShB1IgrADSRB2IAnCDiRB2IEkCDuQBGEHkiDsQBKEHUiCsANJEHYgCcIOJEHYgSQIO5AEYQeSIOxAEoQdSIKwA0kQdiCJtmZxxUeAXSwPzJ5dXn+gvf3BiT+8oOV1D6+eU6wv+c89xfru2z/esPb5i3cW171o3t5i/YsLnirWr1+5oVjvhbbCbvt5SUckTUg6ERHDdTQFoH517Nn/LCJeqeF1AHQQf7MDSbQb9pC01fZjtjdO9wTbG22P2B4Z17E2NwegVe1+jN8QES/ZXirpAdu/joiHpj4hIjZJ2iRJZ3hRtLk9AC1qa88eES9Vt6OS7pa0vo6mANSv5bDbnmd7wTv3JX1W0q66GgNQr3Y+xi+TdLcnx3FPk/SvEfFftXR1ihk8++xi3acNFuvjq5cV62NnNx4r98niqnrjvPKvwIl55fWbGRgv1I6X12227RduXFOs37rh3xvW7nvl94rrbh69rFj/1q/+olg/X/9brPdCy2GPiGclXVJjLwA6iKE3IAnCDiRB2IEkCDuQBGEHkuAU1xoMXHRhsf7UX53V3usfL5+mOutw4/rQm01evJfHNDbZ9sceKjc/Maf867vpuS82rM1/4e3iuouPlA/tXrir/4bWmmHPDiRB2IEkCDuQBGEHkiDsQBKEHUiCsANJMM5eA+87WKwPvr2wWJ+Y278X8Jk7Wu5t8Hi5fvTsxvuTgRNN/rt/uaO87fLaWtCkXtLkzOCPJPbsQBKEHUiCsANJEHYgCcIOJEHYgSQIO5AE4+w1mDh0qFhf9R9vFeuHLihfM/mMF8rnVh/4dHlq45I5h8ojymf+2+PFeoyXrwe9cNnShrWxS84rrot6sWcHkiDsQBKEHUiCsANJEHYgCcIOJEHYgSQYZ++GJudlL95xerF+8ujRYn3RGesb1o6sLP8vXvhE+RiBiSbj6M1MHBxtWBva2riG+jXds9vebHvU9q4pyxbZfsD209Vt+eoMAHpuJh/jfyjpyvctu1nStohYI2lb9RhAH2sa9oh4SNJr71t8jaQt1f0tkq6tty0AdWv1C7plEbFfkqrbhgdA295oe8T2yLjKx3gD6JyOfxsfEZsiYjgihoc0u9ObA9BAq2E/aHu5JFW3fK0K9LlWw36vpBuq+zdIuqeedgB0StNxdtt3Srpc0hLbeyXdKul2ST+1faOkFyR9qZNNnuqajaM3M3is9evOH157VrE+/8mWXxp9pmnYI+K6BqUrau4FQAdxuCyQBGEHkiDsQBKEHUiCsANJcIrrKWD2tica1k5fcGlx3aNLyxMfn/mp84v1iaeeKdbRP9izA0kQdiAJwg4kQdiBJAg7kARhB5Ig7EASjLOfAkrTJp/5308V1x378oXF+v7PLCvW5//ukmL99H2F03f/b2dxXdSLPTuQBGEHkiDsQBKEHUiCsANJEHYgCcIOJME4+ylu4lB5SuZlD5bn99j3+fI4++tryufDv7FqQcPaOQMXF9cd/PVvi/WJ1w8X63gv9uxAEoQdSIKwA0kQdiAJwg4kQdiBJAg7kATj7Mk1u+77uUfeKtZf/fNVxfrbSxvvT0b/YH5x3Xnnls+1P+N/nivWJw6WjyHIpume3fZm26O2d01Zdpvtfba3Vz9Xd7ZNAO2aycf4H0q6cprl342IddXPffW2BaBuTcMeEQ9Jeq0LvQDooHa+oLvJ9o7qY/7CRk+yvdH2iO2RcR1rY3MA2tFq2L8v6XxJ6yTtl/TtRk+MiE0RMRwRw0Oa3eLmALSrpbBHxMGImIiIk5J+IGl9vW0BqFtLYbe9fMrDL0ja1ei5APpD03F223dKulzSEtt7Jd0q6XLb6ySFpOclfbVzLaKXTuw/UKwvvOv1cv2C1Q1rBzY0/KpHkvTKxeV90asXfbJYP+82xtmnahr2iLhumsV3dKAXAB3E4bJAEoQdSIKwA0kQdiAJwg4kwSmuaMvJsbHyE57Y3bDky/64rW0fP//tcv1zww1rs+4faWvbH0Xs2YEkCDuQBGEHkiDsQBKEHUiCsANJEHYgCcbZUXTa8nOK9bG1K8r1xUMNazHgJluPYtUH5hTrs7b+ssnr58KeHUiCsANJEHYgCcIOJEHYgSQIO5AEYQeSYJz9FDe4ZHGxfuySVcX6wbXlWXwm5pa3PzBeqB0vr+uT5XH4WW+U11eUx+mzYc8OJEHYgSQIO5AEYQeSIOxAEoQdSIKwA0kwzv4RMHjWmcX6+EWNp0U+9MnyQPj4vPJYdrNx9HbMffVksX7Ow4eL9ZOFa9Ljg5ru2W2vtP2g7d22n7T99Wr5ItsP2H66ui1Ptg2gp2byMf6EpG9GxO9I+iNJX7O9VtLNkrZFxBpJ26rHAPpU07BHxP6IeLy6f0TSbkkrJF0jaUv1tC2Sru1QjwBq8KG+oLO9StKlkh6RtCwi9kuT/yBIWtpgnY22R2yPjOtYm+0CaNWMw257vqS7JH0jIpqdgvCuiNgUEcMRMTyk8kkVADpnRmG3PaTJoP84In5WLT5oe3lVXy5ptDMtAqhD06E325Z0h6TdEfGdKaV7Jd0g6fbq9p6OdHgKGFxYHqiIFcuK9RevWlRef7BxbejN4qrNrtbc1NzR8gsseeSVhrWJ3U8X1y0PzOHDmsk4+wZJ10vaaXt7tewWTYb8p7ZvlPSCpC91pEMAtWga9oh4WFKjIy+uqLcdAJ3C4bJAEoQdSIKwA0kQdiAJwg4kwSmuM1S6JPOev/1UcV03GTCemFseqx44Xq7POtxs6uPGTn+53NyZPz9UrJ/8zTPF+sSJEx+6J3QGe3YgCcIOJEHYgSQIO5AEYQeSIOxAEoQdSCLNOPu+my8r1o+vK5/4feHyxtfmOGfsQHHdvXumvWLXuwbGWh8nlyQXhrKX7Hy7uO7gL3YW64yTnzrYswNJEHYgCcIOJEHYgSQIO5AEYQeSIOxAEmnG2Xf9zT8V61uPDhXrv3ir8TnrDx4on88+++XChd0lLd41UawPjJfPOZ93/46GtZNjY8V127xsPD5C2LMDSRB2IAnCDiRB2IEkCDuQBGEHkiDsQBIzmZ99paQfSTpHk1Nmb4qI79m+TdJfS3q5euotEXFfpxpt1+c+tq5jrz1XzxXr5zWpt4t5zDETMzmo5oSkb0bE47YXSHrM9gNV7bsR8a3OtQegLjOZn32/pP3V/SO2d0ta0enGANTrQ/3NbnuVpEslPVItusn2DtubbS9ssM5G2yO2R8Z1rL1uAbRsxmG3PV/SXZK+ERFvSPq+pPMlrdPknv/b060XEZsiYjgihoc0u/2OAbRkRmG3PaTJoP84In4mSRFxMCImIuKkpB9IWt+5NgG0q2nYbVvSHZJ2R8R3pixfPuVpX5C0q/72ANRlJt/Gb5B0vaSdtrdXy26RdJ3tdZo8S/J5SV/tQH8AajKTb+MfljTdhc37dkwdwAdxBB2QBGEHkiDsQBKEHUiCsANJEHYgCcIOJEHYgSQIO5AEYQeSIOxAEoQdSIKwA0kQdiAJR3Rv0l7bL0v67ZRFSyS90rUGPpx+7a1f+5LorVV19vbxiDh7ukJXw/6BjdsjETHcswYK+rW3fu1LordWdas3PsYDSRB2IIleh31Tj7df0q+99WtfEr21qiu99fRvdgDd0+s9O4AuIexAEj0Ju+0rbf/G9h7bN/eih0ZsP297p+3ttkd63Mtm26O2d01Ztsj2A7afrm6nnWOvR73dZntf9d5tt311j3pbaftB27ttP2n769Xynr53hb668r51/W9224OSnpL0GUl7JT0q6bqI+FVXG2nA9vOShiOi5wdg2P5TSW9K+lFEXFQt+wdJr0XE7dU/lAsj4u/6pLfbJL3Z62m8q9mKlk+dZlzStZL+Uj187wp9fVldeN96sWdfL2lPRDwbEccl/UTSNT3oo+9FxEOSXnvf4mskbanub9HkL0vXNeitL0TE/oh4vLp/RNI704z39L0r9NUVvQj7CkkvTnm8V/0133tI2mr7Mdsbe93MNJZFxH5p8pdH0tIe9/N+Tafx7qb3TTPeN+9dK9Oft6sXYZ9uKql+Gv/bEBG/L+kqSV+rPq5iZmY0jXe3TDPNeF9odfrzdvUi7HslrZzy+FxJL/Wgj2lFxEvV7aiku9V/U1EffGcG3ep2tMf9vKufpvGebppx9cF718vpz3sR9kclrbG92vYsSV+RdG8P+vgA2/OqL05ke56kz6r/pqK+V9IN1f0bJN3Tw17eo1+m8W40zbh6/N71fPrziOj6j6SrNfmN/DOS/r4XPTTo6xOSnqh+nux1b5Lu1OTHunFNfiK6UdJiSdskPV3dLuqj3v5F0k5JOzQZrOU96u1PNPmn4Q5J26ufq3v93hX66sr7xuGyQBIcQQckQdiBJAg7kARhB5Ig7EAShB1IgrADSfw/jiJD0U4k0LwAAAAASUVORK5CYII=\n",
       "datasetInfos": [],
       "removedWidgets": [],
       "type": "image"
      }
     },
     "output_type": "display_data"
    }
   ],
   "source": [
    "#plot the first image in the dataset\n",
    "plt.imshow(x_train[0])"
   ]
  },
  {
   "cell_type": "code",
   "execution_count": 0,
   "metadata": {
    "application/vnd.databricks.v1+cell": {
     "inputWidgets": {},
     "nuid": "b74ab619-f7c6-463d-898a-d2da4128aa7d",
     "showTitle": false,
     "title": ""
    }
   },
   "outputs": [
    {
     "data": {
      "text/html": [
       "<style scoped>\n",
       "  .ansiout {\n",
       "    display: block;\n",
       "    unicode-bidi: embed;\n",
       "    white-space: pre-wrap;\n",
       "    word-wrap: break-word;\n",
       "    word-break: break-all;\n",
       "    font-family: \"Source Code Pro\", \"Menlo\", monospace;;\n",
       "    font-size: 13px;\n",
       "    color: #555;\n",
       "    margin-left: 4px;\n",
       "    line-height: 19px;\n",
       "  }\n",
       "</style>\n",
       "<div class='ansiout'>array([[0.        , 0.        , 0.        , 0.        , 0.        ,\n",
       "        0.        , 0.        , 0.        , 0.        , 0.        ,\n",
       "        0.        , 0.        , 0.        , 0.        , 0.        ,\n",
       "        0.        , 0.        , 0.        , 0.        , 0.        ,\n",
       "        0.        , 0.        , 0.        , 0.        , 0.        ,\n",
       "        0.        , 0.        , 0.        ],\n",
       "       [0.        , 0.        , 0.        , 0.        , 0.        ,\n",
       "        0.        , 0.        , 0.        , 0.        , 0.        ,\n",
       "        0.        , 0.        , 0.        , 0.        , 0.        ,\n",
       "        0.        , 0.        , 0.        , 0.        , 0.        ,\n",
       "        0.        , 0.        , 0.        , 0.        , 0.        ,\n",
       "        0.        , 0.        , 0.        ],\n",
       "       [0.        , 0.        , 0.        , 0.        , 0.        ,\n",
       "        0.        , 0.        , 0.        , 0.        , 0.        ,\n",
       "        0.        , 0.        , 0.        , 0.        , 0.        ,\n",
       "        0.        , 0.        , 0.        , 0.        , 0.        ,\n",
       "        0.        , 0.        , 0.        , 0.        , 0.        ,\n",
       "        0.        , 0.        , 0.        ],\n",
       "       [0.        , 0.        , 0.        , 0.        , 0.        ,\n",
       "        0.        , 0.        , 0.        , 0.        , 0.        ,\n",
       "        0.        , 0.        , 0.        , 0.        , 0.        ,\n",
       "        0.        , 0.        , 0.        , 0.        , 0.        ,\n",
       "        0.        , 0.        , 0.        , 0.        , 0.        ,\n",
       "        0.        , 0.        , 0.        ],\n",
       "       [0.        , 0.        , 0.        , 0.        , 0.        ,\n",
       "        0.        , 0.        , 0.        , 0.        , 0.        ,\n",
       "        0.        , 0.        , 0.        , 0.        , 0.        ,\n",
       "        0.        , 0.        , 0.        , 0.        , 0.        ,\n",
       "        0.        , 0.        , 0.        , 0.        , 0.        ,\n",
       "        0.        , 0.        , 0.        ],\n",
       "       [0.        , 0.        , 0.        , 0.        , 0.        ,\n",
       "        0.        , 0.        , 0.        , 0.        , 0.        ,\n",
       "        0.        , 0.        , 0.00393124, 0.02332955, 0.02620568,\n",
       "        0.02625207, 0.17420356, 0.17566281, 0.28629534, 0.05664824,\n",
       "        0.51877786, 0.71632322, 0.77892406, 0.89301644, 0.        ,\n",
       "        0.        , 0.        , 0.        ],\n",
       "       [0.        , 0.        , 0.        , 0.        , 0.        ,\n",
       "        0.        , 0.        , 0.        , 0.05780486, 0.06524513,\n",
       "        0.16128198, 0.22713296, 0.22277047, 0.32790981, 0.36833534,\n",
       "        0.3689874 , 0.34978968, 0.32678448, 0.368094  , 0.3747499 ,\n",
       "        0.79066747, 0.67980478, 0.61494005, 0.45002403, 0.        ,\n",
       "        0.        , 0.        , 0.        ],\n",
       "       [0.        , 0.        , 0.        , 0.        , 0.        ,\n",
       "        0.        , 0.        , 0.12250613, 0.45858525, 0.45852825,\n",
       "        0.43408872, 0.37314701, 0.33153488, 0.32790981, 0.36833534,\n",
       "        0.3689874 , 0.34978968, 0.32420121, 0.15214552, 0.17865984,\n",
       "        0.25626376, 0.1573102 , 0.12298801, 0.        , 0.        ,\n",
       "        0.        , 0.        , 0.        ],\n",
       "       [0.        , 0.        , 0.        , 0.        , 0.        ,\n",
       "        0.        , 0.        , 0.04500225, 0.4219755 , 0.45852825,\n",
       "        0.43408872, 0.37314701, 0.33153488, 0.32790981, 0.28826244,\n",
       "        0.26543758, 0.34149427, 0.31128482, 0.        , 0.        ,\n",
       "        0.        , 0.        , 0.        , 0.        , 0.        ,\n",
       "        0.        , 0.        , 0.        ],\n",
       "       [0.        , 0.        , 0.        , 0.        , 0.        ,\n",
       "        0.        , 0.        , 0.        , 0.1541463 , 0.28272888,\n",
       "        0.18358693, 0.37314701, 0.33153488, 0.26569767, 0.01601458,\n",
       "        0.        , 0.05945042, 0.19891229, 0.        , 0.        ,\n",
       "        0.        , 0.        , 0.        , 0.        , 0.        ,\n",
       "        0.        , 0.        , 0.        ],\n",
       "       [0.        , 0.        , 0.        , 0.        , 0.        ,\n",
       "        0.        , 0.        , 0.        , 0.        , 0.0253731 ,\n",
       "        0.00171577, 0.22713296, 0.33153488, 0.11664776, 0.        ,\n",
       "        0.        , 0.        , 0.        , 0.        , 0.        ,\n",
       "        0.        , 0.        , 0.        , 0.        , 0.        ,\n",
       "        0.        , 0.        , 0.        ],\n",
       "       [0.        , 0.        , 0.        , 0.        , 0.        ,\n",
       "        0.        , 0.        , 0.        , 0.        , 0.        ,\n",
       "        0.        , 0.20500962, 0.33153488, 0.24625638, 0.00291174,\n",
       "        0.        , 0.        , 0.        , 0.        , 0.        ,\n",
       "        0.        , 0.        , 0.        , 0.        , 0.        ,\n",
       "        0.        , 0.        , 0.        ],\n",
       "       [0.        , 0.        , 0.        , 0.        , 0.        ,\n",
       "        0.        , 0.        , 0.        , 0.        , 0.        ,\n",
       "        0.        , 0.01622378, 0.24897876, 0.32790981, 0.10191096,\n",
       "        0.        , 0.        , 0.        , 0.        , 0.        ,\n",
       "        0.        , 0.        , 0.        , 0.        , 0.        ,\n",
       "        0.        , 0.        , 0.        ],\n",
       "       [0.        , 0.        , 0.        , 0.        , 0.        ,\n",
       "        0.        , 0.        , 0.        , 0.        , 0.        ,\n",
       "        0.        , 0.        , 0.04586451, 0.31235677, 0.32757096,\n",
       "        0.23335172, 0.14931733, 0.00129164, 0.        , 0.        ,\n",
       "        0.        , 0.        , 0.        , 0.        , 0.        ,\n",
       "        0.        , 0.        , 0.        ],\n",
       "       [0.        , 0.        , 0.        , 0.        , 0.        ,\n",
       "        0.        , 0.        , 0.        , 0.        , 0.        ,\n",
       "        0.        , 0.        , 0.        , 0.10498298, 0.34940902,\n",
       "        0.3689874 , 0.34978968, 0.15370495, 0.04089933, 0.        ,\n",
       "        0.        , 0.        , 0.        , 0.        , 0.        ,\n",
       "        0.        , 0.        , 0.        ],\n",
       "       [0.        , 0.        , 0.        , 0.        , 0.        ,\n",
       "        0.        , 0.        , 0.        , 0.        , 0.        ,\n",
       "        0.        , 0.        , 0.        , 0.        , 0.06551419,\n",
       "        0.27127137, 0.34978968, 0.32678448, 0.245396  , 0.05882702,\n",
       "        0.        , 0.        , 0.        , 0.        , 0.        ,\n",
       "        0.        , 0.        , 0.        ],\n",
       "       [0.        , 0.        , 0.        , 0.        , 0.        ,\n",
       "        0.        , 0.        , 0.        , 0.        , 0.        ,\n",
       "        0.        , 0.        , 0.        , 0.        , 0.        ,\n",
       "        0.02333517, 0.12857881, 0.32549285, 0.41390126, 0.40743158,\n",
       "        0.        , 0.        , 0.        , 0.        , 0.        ,\n",
       "        0.        , 0.        , 0.        ],\n",
       "       [0.        , 0.        , 0.        , 0.        , 0.        ,\n",
       "        0.        , 0.        , 0.        , 0.        , 0.        ,\n",
       "        0.        , 0.        , 0.        , 0.        , 0.        ,\n",
       "        0.        , 0.        , 0.32161793, 0.41390126, 0.54251585,\n",
       "        0.20001074, 0.        , 0.        , 0.        , 0.        ,\n",
       "        0.        , 0.        , 0.        ],\n",
       "       [0.        , 0.        , 0.        , 0.        , 0.        ,\n",
       "        0.        , 0.        , 0.        , 0.        , 0.        ,\n",
       "        0.        , 0.        , 0.        , 0.        , 0.06697006,\n",
       "        0.18959827, 0.25300993, 0.32678448, 0.41390126, 0.45100715,\n",
       "        0.00625034, 0.        , 0.        , 0.        , 0.        ,\n",
       "        0.        , 0.        , 0.        ],\n",
       "       [0.        , 0.        , 0.        , 0.        , 0.        ,\n",
       "        0.        , 0.        , 0.        , 0.        , 0.        ,\n",
       "        0.        , 0.        , 0.05110617, 0.19182076, 0.33339444,\n",
       "        0.3689874 , 0.34978968, 0.32678448, 0.40899334, 0.39653769,\n",
       "        0.        , 0.        , 0.        , 0.        , 0.        ,\n",
       "        0.        , 0.        , 0.        ],\n",
       "       [0.        , 0.        , 0.        , 0.        , 0.        ,\n",
       "        0.        , 0.        , 0.        , 0.        , 0.        ,\n",
       "        0.04117838, 0.16813739, 0.28960162, 0.32790981, 0.36833534,\n",
       "        0.3689874 , 0.34978968, 0.25961929, 0.12760592, 0.        ,\n",
       "        0.        , 0.        , 0.        , 0.        , 0.        ,\n",
       "        0.        , 0.        , 0.        ],\n",
       "       [0.        , 0.        , 0.        , 0.        , 0.        ,\n",
       "        0.        , 0.        , 0.        , 0.04431706, 0.11961607,\n",
       "        0.36545809, 0.37314701, 0.33153488, 0.32790981, 0.36833534,\n",
       "        0.28877275, 0.111988  , 0.00258328, 0.        , 0.        ,\n",
       "        0.        , 0.        , 0.        , 0.        , 0.        ,\n",
       "        0.        , 0.        , 0.        ],\n",
       "       [0.        , 0.        , 0.        , 0.        , 0.        ,\n",
       "        0.        , 0.05298497, 0.42752138, 0.4219755 , 0.45852825,\n",
       "        0.43408872, 0.37314701, 0.33153488, 0.25273681, 0.11646967,\n",
       "        0.01312603, 0.        , 0.        , 0.        , 0.        ,\n",
       "        0.        , 0.        , 0.        , 0.        , 0.        ,\n",
       "        0.        , 0.        , 0.        ],\n",
       "       [0.        , 0.        , 0.        , 0.        , 0.37491383,\n",
       "        0.56222061, 0.66525569, 0.63253163, 0.48748768, 0.45852825,\n",
       "        0.43408872, 0.359873  , 0.17428513, 0.01425695, 0.        ,\n",
       "        0.        , 0.        , 0.        , 0.        , 0.        ,\n",
       "        0.        , 0.        , 0.        , 0.        , 0.        ,\n",
       "        0.        , 0.        , 0.        ],\n",
       "       [0.        , 0.        , 0.        , 0.        , 0.92705966,\n",
       "        0.82698729, 0.74473314, 0.63253163, 0.4084877 , 0.24466922,\n",
       "        0.22648107, 0.02359823, 0.        , 0.        , 0.        ,\n",
       "        0.        , 0.        , 0.        , 0.        , 0.        ,\n",
       "        0.        , 0.        , 0.        , 0.        , 0.        ,\n",
       "        0.        , 0.        , 0.        ],\n",
       "       [0.        , 0.        , 0.        , 0.        , 0.        ,\n",
       "        0.        , 0.        , 0.        , 0.        , 0.        ,\n",
       "        0.        , 0.        , 0.        , 0.        , 0.        ,\n",
       "        0.        , 0.        , 0.        , 0.        , 0.        ,\n",
       "        0.        , 0.        , 0.        , 0.        , 0.        ,\n",
       "        0.        , 0.        , 0.        ],\n",
       "       [0.        , 0.        , 0.        , 0.        , 0.        ,\n",
       "        0.        , 0.        , 0.        , 0.        , 0.        ,\n",
       "        0.        , 0.        , 0.        , 0.        , 0.        ,\n",
       "        0.        , 0.        , 0.        , 0.        , 0.        ,\n",
       "        0.        , 0.        , 0.        , 0.        , 0.        ,\n",
       "        0.        , 0.        , 0.        ],\n",
       "       [0.        , 0.        , 0.        , 0.        , 0.        ,\n",
       "        0.        , 0.        , 0.        , 0.        , 0.        ,\n",
       "        0.        , 0.        , 0.        , 0.        , 0.        ,\n",
       "        0.        , 0.        , 0.        , 0.        , 0.        ,\n",
       "        0.        , 0.        , 0.        , 0.        , 0.        ,\n",
       "        0.        , 0.        , 0.        ]])</div>"
      ]
     },
     "metadata": {
      "application/vnd.databricks.v1+output": {
       "addedWidgets": {},
       "arguments": {},
       "data": "<div class='ansiout'>array([[0.        , 0.        , 0.        , 0.        , 0.        ,\n        0.        , 0.        , 0.        , 0.        , 0.        ,\n        0.        , 0.        , 0.        , 0.        , 0.        ,\n        0.        , 0.        , 0.        , 0.        , 0.        ,\n        0.        , 0.        , 0.        , 0.        , 0.        ,\n        0.        , 0.        , 0.        ],\n       [0.        , 0.        , 0.        , 0.        , 0.        ,\n        0.        , 0.        , 0.        , 0.        , 0.        ,\n        0.        , 0.        , 0.        , 0.        , 0.        ,\n        0.        , 0.        , 0.        , 0.        , 0.        ,\n        0.        , 0.        , 0.        , 0.        , 0.        ,\n        0.        , 0.        , 0.        ],\n       [0.        , 0.        , 0.        , 0.        , 0.        ,\n        0.        , 0.        , 0.        , 0.        , 0.        ,\n        0.        , 0.        , 0.        , 0.        , 0.        ,\n        0.        , 0.        , 0.        , 0.        , 0.        ,\n        0.        , 0.        , 0.        , 0.        , 0.        ,\n        0.        , 0.        , 0.        ],\n       [0.        , 0.        , 0.        , 0.        , 0.        ,\n        0.        , 0.        , 0.        , 0.        , 0.        ,\n        0.        , 0.        , 0.        , 0.        , 0.        ,\n        0.        , 0.        , 0.        , 0.        , 0.        ,\n        0.        , 0.        , 0.        , 0.        , 0.        ,\n        0.        , 0.        , 0.        ],\n       [0.        , 0.        , 0.        , 0.        , 0.        ,\n        0.        , 0.        , 0.        , 0.        , 0.        ,\n        0.        , 0.        , 0.        , 0.        , 0.        ,\n        0.        , 0.        , 0.        , 0.        , 0.        ,\n        0.        , 0.        , 0.        , 0.        , 0.        ,\n        0.        , 0.        , 0.        ],\n       [0.        , 0.        , 0.        , 0.        , 0.        ,\n        0.        , 0.        , 0.        , 0.        , 0.        ,\n        0.        , 0.        , 0.00393124, 0.02332955, 0.02620568,\n        0.02625207, 0.17420356, 0.17566281, 0.28629534, 0.05664824,\n        0.51877786, 0.71632322, 0.77892406, 0.89301644, 0.        ,\n        0.        , 0.        , 0.        ],\n       [0.        , 0.        , 0.        , 0.        , 0.        ,\n        0.        , 0.        , 0.        , 0.05780486, 0.06524513,\n        0.16128198, 0.22713296, 0.22277047, 0.32790981, 0.36833534,\n        0.3689874 , 0.34978968, 0.32678448, 0.368094  , 0.3747499 ,\n        0.79066747, 0.67980478, 0.61494005, 0.45002403, 0.        ,\n        0.        , 0.        , 0.        ],\n       [0.        , 0.        , 0.        , 0.        , 0.        ,\n        0.        , 0.        , 0.12250613, 0.45858525, 0.45852825,\n        0.43408872, 0.37314701, 0.33153488, 0.32790981, 0.36833534,\n        0.3689874 , 0.34978968, 0.32420121, 0.15214552, 0.17865984,\n        0.25626376, 0.1573102 , 0.12298801, 0.        , 0.        ,\n        0.        , 0.        , 0.        ],\n       [0.        , 0.        , 0.        , 0.        , 0.        ,\n        0.        , 0.        , 0.04500225, 0.4219755 , 0.45852825,\n        0.43408872, 0.37314701, 0.33153488, 0.32790981, 0.28826244,\n        0.26543758, 0.34149427, 0.31128482, 0.        , 0.        ,\n        0.        , 0.        , 0.        , 0.        , 0.        ,\n        0.        , 0.        , 0.        ],\n       [0.        , 0.        , 0.        , 0.        , 0.        ,\n        0.        , 0.        , 0.        , 0.1541463 , 0.28272888,\n        0.18358693, 0.37314701, 0.33153488, 0.26569767, 0.01601458,\n        0.        , 0.05945042, 0.19891229, 0.        , 0.        ,\n        0.        , 0.        , 0.        , 0.        , 0.        ,\n        0.        , 0.        , 0.        ],\n       [0.        , 0.        , 0.        , 0.        , 0.        ,\n        0.        , 0.        , 0.        , 0.        , 0.0253731 ,\n        0.00171577, 0.22713296, 0.33153488, 0.11664776, 0.        ,\n        0.        , 0.        , 0.        , 0.        , 0.        ,\n        0.        , 0.        , 0.        , 0.        , 0.        ,\n        0.        , 0.        , 0.        ],\n       [0.        , 0.        , 0.        , 0.        , 0.        ,\n        0.        , 0.        , 0.        , 0.        , 0.        ,\n        0.        , 0.20500962, 0.33153488, 0.24625638, 0.00291174,\n        0.        , 0.        , 0.        , 0.        , 0.        ,\n        0.        , 0.        , 0.        , 0.        , 0.        ,\n        0.        , 0.        , 0.        ],\n       [0.        , 0.        , 0.        , 0.        , 0.        ,\n        0.        , 0.        , 0.        , 0.        , 0.        ,\n        0.        , 0.01622378, 0.24897876, 0.32790981, 0.10191096,\n        0.        , 0.        , 0.        , 0.        , 0.        ,\n        0.        , 0.        , 0.        , 0.        , 0.        ,\n        0.        , 0.        , 0.        ],\n       [0.        , 0.        , 0.        , 0.        , 0.        ,\n        0.        , 0.        , 0.        , 0.        , 0.        ,\n        0.        , 0.        , 0.04586451, 0.31235677, 0.32757096,\n        0.23335172, 0.14931733, 0.00129164, 0.        , 0.        ,\n        0.        , 0.        , 0.        , 0.        , 0.        ,\n        0.        , 0.        , 0.        ],\n       [0.        , 0.        , 0.        , 0.        , 0.        ,\n        0.        , 0.        , 0.        , 0.        , 0.        ,\n        0.        , 0.        , 0.        , 0.10498298, 0.34940902,\n        0.3689874 , 0.34978968, 0.15370495, 0.04089933, 0.        ,\n        0.        , 0.        , 0.        , 0.        , 0.        ,\n        0.        , 0.        , 0.        ],\n       [0.        , 0.        , 0.        , 0.        , 0.        ,\n        0.        , 0.        , 0.        , 0.        , 0.        ,\n        0.        , 0.        , 0.        , 0.        , 0.06551419,\n        0.27127137, 0.34978968, 0.32678448, 0.245396  , 0.05882702,\n        0.        , 0.        , 0.        , 0.        , 0.        ,\n        0.        , 0.        , 0.        ],\n       [0.        , 0.        , 0.        , 0.        , 0.        ,\n        0.        , 0.        , 0.        , 0.        , 0.        ,\n        0.        , 0.        , 0.        , 0.        , 0.        ,\n        0.02333517, 0.12857881, 0.32549285, 0.41390126, 0.40743158,\n        0.        , 0.        , 0.        , 0.        , 0.        ,\n        0.        , 0.        , 0.        ],\n       [0.        , 0.        , 0.        , 0.        , 0.        ,\n        0.        , 0.        , 0.        , 0.        , 0.        ,\n        0.        , 0.        , 0.        , 0.        , 0.        ,\n        0.        , 0.        , 0.32161793, 0.41390126, 0.54251585,\n        0.20001074, 0.        , 0.        , 0.        , 0.        ,\n        0.        , 0.        , 0.        ],\n       [0.        , 0.        , 0.        , 0.        , 0.        ,\n        0.        , 0.        , 0.        , 0.        , 0.        ,\n        0.        , 0.        , 0.        , 0.        , 0.06697006,\n        0.18959827, 0.25300993, 0.32678448, 0.41390126, 0.45100715,\n        0.00625034, 0.        , 0.        , 0.        , 0.        ,\n        0.        , 0.        , 0.        ],\n       [0.        , 0.        , 0.        , 0.        , 0.        ,\n        0.        , 0.        , 0.        , 0.        , 0.        ,\n        0.        , 0.        , 0.05110617, 0.19182076, 0.33339444,\n        0.3689874 , 0.34978968, 0.32678448, 0.40899334, 0.39653769,\n        0.        , 0.        , 0.        , 0.        , 0.        ,\n        0.        , 0.        , 0.        ],\n       [0.        , 0.        , 0.        , 0.        , 0.        ,\n        0.        , 0.        , 0.        , 0.        , 0.        ,\n        0.04117838, 0.16813739, 0.28960162, 0.32790981, 0.36833534,\n        0.3689874 , 0.34978968, 0.25961929, 0.12760592, 0.        ,\n        0.        , 0.        , 0.        , 0.        , 0.        ,\n        0.        , 0.        , 0.        ],\n       [0.        , 0.        , 0.        , 0.        , 0.        ,\n        0.        , 0.        , 0.        , 0.04431706, 0.11961607,\n        0.36545809, 0.37314701, 0.33153488, 0.32790981, 0.36833534,\n        0.28877275, 0.111988  , 0.00258328, 0.        , 0.        ,\n        0.        , 0.        , 0.        , 0.        , 0.        ,\n        0.        , 0.        , 0.        ],\n       [0.        , 0.        , 0.        , 0.        , 0.        ,\n        0.        , 0.05298497, 0.42752138, 0.4219755 , 0.45852825,\n        0.43408872, 0.37314701, 0.33153488, 0.25273681, 0.11646967,\n        0.01312603, 0.        , 0.        , 0.        , 0.        ,\n        0.        , 0.        , 0.        , 0.        , 0.        ,\n        0.        , 0.        , 0.        ],\n       [0.        , 0.        , 0.        , 0.        , 0.37491383,\n        0.56222061, 0.66525569, 0.63253163, 0.48748768, 0.45852825,\n        0.43408872, 0.359873  , 0.17428513, 0.01425695, 0.        ,\n        0.        , 0.        , 0.        , 0.        , 0.        ,\n        0.        , 0.        , 0.        , 0.        , 0.        ,\n        0.        , 0.        , 0.        ],\n       [0.        , 0.        , 0.        , 0.        , 0.92705966,\n        0.82698729, 0.74473314, 0.63253163, 0.4084877 , 0.24466922,\n        0.22648107, 0.02359823, 0.        , 0.        , 0.        ,\n        0.        , 0.        , 0.        , 0.        , 0.        ,\n        0.        , 0.        , 0.        , 0.        , 0.        ,\n        0.        , 0.        , 0.        ],\n       [0.        , 0.        , 0.        , 0.        , 0.        ,\n        0.        , 0.        , 0.        , 0.        , 0.        ,\n        0.        , 0.        , 0.        , 0.        , 0.        ,\n        0.        , 0.        , 0.        , 0.        , 0.        ,\n        0.        , 0.        , 0.        , 0.        , 0.        ,\n        0.        , 0.        , 0.        ],\n       [0.        , 0.        , 0.        , 0.        , 0.        ,\n        0.        , 0.        , 0.        , 0.        , 0.        ,\n        0.        , 0.        , 0.        , 0.        , 0.        ,\n        0.        , 0.        , 0.        , 0.        , 0.        ,\n        0.        , 0.        , 0.        , 0.        , 0.        ,\n        0.        , 0.        , 0.        ],\n       [0.        , 0.        , 0.        , 0.        , 0.        ,\n        0.        , 0.        , 0.        , 0.        , 0.        ,\n        0.        , 0.        , 0.        , 0.        , 0.        ,\n        0.        , 0.        , 0.        , 0.        , 0.        ,\n        0.        , 0.        , 0.        , 0.        , 0.        ,\n        0.        , 0.        , 0.        ]])</div>",
       "datasetInfos": [],
       "removedWidgets": [],
       "type": "html"
      }
     },
     "output_type": "display_data"
    }
   ],
   "source": [
    "x_train[0]"
   ]
  },
  {
   "cell_type": "markdown",
   "metadata": {
    "application/vnd.databricks.v1+cell": {
     "inputWidgets": {},
     "nuid": "9dd3a6e5-e24f-46a5-9d92-754b4ff6bc8d",
     "showTitle": false,
     "title": ""
    }
   },
   "source": [
    "### III. Build an ANN Model"
   ]
  },
  {
   "cell_type": "markdown",
   "metadata": {
    "application/vnd.databricks.v1+cell": {
     "inputWidgets": {},
     "nuid": "b2aa1cb7-c8d7-41f0-b8a5-70a82d34adeb",
     "showTitle": false,
     "title": ""
    }
   },
   "source": [
    "Before building a deep learning model, lets look at the individual layers to used in the model and their purpose"
   ]
  },
  {
   "cell_type": "markdown",
   "metadata": {
    "application/vnd.databricks.v1+cell": {
     "inputWidgets": {},
     "nuid": "f2845420-3133-4040-8ed6-b632803339ab",
     "showTitle": false,
     "title": ""
    }
   },
   "source": [
    "**Flatten Layer**\n",
    "\n",
    "Flattens the input. This layer converts the data into a 1-dimensional array."
   ]
  },
  {
   "cell_type": "code",
   "execution_count": 0,
   "metadata": {
    "application/vnd.databricks.v1+cell": {
     "inputWidgets": {},
     "nuid": "7f415d2e-db90-45f3-b067-4d4171954e5b",
     "showTitle": false,
     "title": ""
    }
   },
   "outputs": [
    {
     "data": {
      "text/html": [
       "<style scoped>\n",
       "  .ansiout {\n",
       "    display: block;\n",
       "    unicode-bidi: embed;\n",
       "    white-space: pre-wrap;\n",
       "    word-wrap: break-word;\n",
       "    word-break: break-all;\n",
       "    font-family: \"Source Code Pro\", \"Menlo\", monospace;;\n",
       "    font-size: 13px;\n",
       "    color: #555;\n",
       "    margin-left: 4px;\n",
       "    line-height: 19px;\n",
       "  }\n",
       "</style>\n",
       "<div class='ansiout'>(None, 6)</div>"
      ]
     },
     "metadata": {
      "application/vnd.databricks.v1+output": {
       "addedWidgets": {},
       "arguments": {},
       "data": "<div class='ansiout'>(None, 6)</div>",
       "datasetInfos": [],
       "removedWidgets": [],
       "type": "html"
      }
     },
     "output_type": "display_data"
    }
   ],
   "source": [
    "# Create a `Sequential` model and add a Flatten layer as the first layer. \n",
    "# Convert a 3x2 input into a 1-dimensional array of length 6\n",
    "model = tf.keras.models.Sequential()\n",
    "model.add(tf.keras.layers.Flatten(input_shape=(3,2)))\n",
    "model.output_shape"
   ]
  },
  {
   "cell_type": "markdown",
   "metadata": {
    "application/vnd.databricks.v1+cell": {
     "inputWidgets": {},
     "nuid": "387f12fc-e48e-4984-97bc-1a3590faea3f",
     "showTitle": false,
     "title": ""
    }
   },
   "source": [
    "**Dense Layer**\n",
    "\n",
    "Dense class from keras is an implementation of the simplest neural network building block: the fully connected layer. In technical terms, dense layer is the implementation of the equation `output = activation(dot(input, kernel) + bias)`. This means that we take the dot product between our input tensor and whatever the weight kernel matrix is featured in our dense layer. Then, we add a bias vector (optional, if required) and take an element-wise activation of the output values (some function, linear or in most cases non-linear).\n",
    "\n",
    "*Activation function*\n",
    "\n",
    "An activation function is a function that is added into an artificial neural network in order to help the network learn complex patterns in the data. It takes in the output signal from the previous cell and converts it into some form that can be taken as input to the next cell."
   ]
  },
  {
   "cell_type": "code",
   "execution_count": 0,
   "metadata": {
    "application/vnd.databricks.v1+cell": {
     "inputWidgets": {},
     "nuid": "d82f4f02-929b-453f-9847-d09e1161998b",
     "showTitle": false,
     "title": ""
    }
   },
   "outputs": [
    {
     "data": {
      "text/html": [
       "<style scoped>\n",
       "  .ansiout {\n",
       "    display: block;\n",
       "    unicode-bidi: embed;\n",
       "    white-space: pre-wrap;\n",
       "    word-wrap: break-word;\n",
       "    word-break: break-all;\n",
       "    font-family: \"Source Code Pro\", \"Menlo\", monospace;;\n",
       "    font-size: 13px;\n",
       "    color: #555;\n",
       "    margin-left: 4px;\n",
       "    line-height: 19px;\n",
       "  }\n",
       "</style>\n",
       "<div class='ansiout'>(None, 128)</div>"
      ]
     },
     "metadata": {
      "application/vnd.databricks.v1+output": {
       "addedWidgets": {},
       "arguments": {},
       "data": "<div class='ansiout'>(None, 128)</div>",
       "datasetInfos": [],
       "removedWidgets": [],
       "type": "html"
      }
     },
     "output_type": "display_data"
    }
   ],
   "source": [
    "# Create a `Sequential` model and add a Dense layer as the first layer\n",
    "model = tf.keras.models.Sequential()\n",
    "model.add(tf.keras.Input(shape=(16,)))\n",
    "model.add(tf.keras.layers.Dense(128,activation=tf.nn.relu))\n",
    "model.output_shape"
   ]
  },
  {
   "cell_type": "markdown",
   "metadata": {
    "application/vnd.databricks.v1+cell": {
     "inputWidgets": {},
     "nuid": "143eb0d1-6ecb-4972-856d-1a559b8a3c75",
     "showTitle": false,
     "title": ""
    }
   },
   "source": [
    "**Dropout Layer**\n",
    "\n",
    "A fully connected layer occupies most of the parameters, and hence, neurons develop co-dependency amongst each other during training which curbs the individual power of each neuron leading to over-fitting of training data.\n",
    "\n",
    "Hence, a [Dropout Layer](https://towardsdatascience.com/machine-learning-part-20-dropout-keras-layers-explained-8c9f6dc4c9ab?gi=e79b5385b6ad) layer is added to avoid overfitting. In passing 0.5, every hidden unit (neuron) is set to 0 with a probability of 0.5. In other words, there’s a 50% chance that the output of a given neuron will be forced to 0."
   ]
  },
  {
   "cell_type": "markdown",
   "metadata": {
    "application/vnd.databricks.v1+cell": {
     "inputWidgets": {},
     "nuid": "240ca6f9-5ac3-4aba-a91a-45868bd10f58",
     "showTitle": false,
     "title": ""
    }
   },
   "source": [
    "**Complete ANN Model**\n",
    "\n",
    "Now, we build a complete deep learning model. We will be using a `Sequential` model which is the easiest way to build a  model in keras for a plain stack of layers. We use the `add()`function to add layers to the model.\n",
    "\n",
    "- Flatten Layer\n",
    "    - This layer converts the data into a 1-dimensional array for inputting it to the next layer.\n",
    "- Dense Layer\n",
    "    - Two dense layers with 128 nodes and `relu` activation function\n",
    "    - One dense layer with 128 nodes and `softmax` activation function. This activation function is used to turn the outputs into probability-like values"
   ]
  },
  {
   "cell_type": "code",
   "execution_count": 0,
   "metadata": {
    "application/vnd.databricks.v1+cell": {
     "inputWidgets": {},
     "nuid": "e6b9ef75-99c7-438f-86a0-fb313476245e",
     "showTitle": false,
     "title": ""
    },
    "scrolled": false
   },
   "outputs": [],
   "source": [
    "model = tf.keras.models.Sequential()\n",
    "model.add(tf.keras.layers.Flatten())\n",
    "model.add(tf.keras.layers.Dense(128,activation=tf.nn.relu))\n",
    "model.add(Dropout(0.5))\n",
    "model.add(tf.keras.layers.Dense(128,activation=tf.nn.relu))\n",
    "model.add(tf.keras.layers.Dense(128,activation=tf.nn.softmax))"
   ]
  },
  {
   "cell_type": "markdown",
   "metadata": {
    "application/vnd.databricks.v1+cell": {
     "inputWidgets": {},
     "nuid": "cf83be68-3d24-49be-99b7-5415518409b2",
     "showTitle": false,
     "title": ""
    }
   },
   "source": [
    "Next, the model is compiled with the categorical cross entropy loss function and the efficient ADAM gradient descent algorithm is used to learn the weights."
   ]
  },
  {
   "cell_type": "code",
   "execution_count": 0,
   "metadata": {
    "application/vnd.databricks.v1+cell": {
     "inputWidgets": {},
     "nuid": "bacd34c3-3fda-4ca7-87b4-e42582ea5136",
     "showTitle": false,
     "title": ""
    },
    "scrolled": true
   },
   "outputs": [
    {
     "data": {
      "text/html": [
       "<style scoped>\n",
       "  .ansiout {\n",
       "    display: block;\n",
       "    unicode-bidi: embed;\n",
       "    white-space: pre-wrap;\n",
       "    word-wrap: break-word;\n",
       "    word-break: break-all;\n",
       "    font-family: \"Source Code Pro\", \"Menlo\", monospace;;\n",
       "    font-size: 13px;\n",
       "    color: #555;\n",
       "    margin-left: 4px;\n",
       "    line-height: 19px;\n",
       "  }\n",
       "</style>\n",
       "<div class='ansiout'>Epoch 1/3\n",
       "1875/1875 [==============================] - 3s 2ms/step - loss: 0.8530 - accuracy: 0.7639\n",
       "Epoch 2/3\n",
       "1875/1875 [==============================] - 3s 2ms/step - loss: 0.2389 - accuracy: 0.9278\n",
       "Epoch 3/3\n",
       "1875/1875 [==============================] - 3s 2ms/step - loss: 0.1910 - accuracy: 0.9416\n",
       "</div>"
      ]
     },
     "metadata": {
      "application/vnd.databricks.v1+output": {
       "addedWidgets": {},
       "arguments": {},
       "data": "<div class='ansiout'>Epoch 1/3\n1875/1875 [==============================] - 3s 2ms/step - loss: 0.8530 - accuracy: 0.7639\nEpoch 2/3\n1875/1875 [==============================] - 3s 2ms/step - loss: 0.2389 - accuracy: 0.9278\nEpoch 3/3\n1875/1875 [==============================] - 3s 2ms/step - loss: 0.1910 - accuracy: 0.9416\n</div>",
       "datasetInfos": [],
       "removedWidgets": [],
       "type": "html"
      }
     },
     "output_type": "display_data"
    },
    {
     "data": {
      "text/html": [
       "<style scoped>\n",
       "  .ansiout {\n",
       "    display: block;\n",
       "    unicode-bidi: embed;\n",
       "    white-space: pre-wrap;\n",
       "    word-wrap: break-word;\n",
       "    word-break: break-all;\n",
       "    font-family: \"Source Code Pro\", \"Menlo\", monospace;;\n",
       "    font-size: 13px;\n",
       "    color: #555;\n",
       "    margin-left: 4px;\n",
       "    line-height: 19px;\n",
       "  }\n",
       "</style>\n",
       "<div class='ansiout'>&lt;tensorflow.python.keras.callbacks.History at 0x7ff0eb860d50&gt;</div>"
      ]
     },
     "metadata": {
      "application/vnd.databricks.v1+output": {
       "addedWidgets": {},
       "arguments": {},
       "data": "<div class='ansiout'>&lt;tensorflow.python.keras.callbacks.History at 0x7ff0eb860d50&gt;</div>",
       "datasetInfos": [],
       "removedWidgets": [],
       "type": "html"
      }
     },
     "output_type": "display_data"
    }
   ],
   "source": [
    "# Complie the model\n",
    "model.compile(optimizer= 'adam'\n",
    "             ,loss= 'sparse_categorical_crossentropy'\n",
    "             ,metrics= ['accuracy'])\n",
    "model.fit(x_train,y_train,epochs=3)"
   ]
  },
  {
   "cell_type": "code",
   "execution_count": 0,
   "metadata": {
    "application/vnd.databricks.v1+cell": {
     "inputWidgets": {},
     "nuid": "0ef4c5d8-5803-4545-810e-10eb69bcc5d4",
     "showTitle": false,
     "title": ""
    }
   },
   "outputs": [
    {
     "data": {
      "text/html": [
       "<style scoped>\n",
       "  .ansiout {\n",
       "    display: block;\n",
       "    unicode-bidi: embed;\n",
       "    white-space: pre-wrap;\n",
       "    word-wrap: break-word;\n",
       "    word-break: break-all;\n",
       "    font-family: \"Source Code Pro\", \"Menlo\", monospace;;\n",
       "    font-size: 13px;\n",
       "    color: #555;\n",
       "    margin-left: 4px;\n",
       "    line-height: 19px;\n",
       "  }\n",
       "</style>\n",
       "<div class='ansiout'>Model: &quot;sequential_2&quot;\n",
       "_________________________________________________________________\n",
       "Layer (type)                 Output Shape              Param #   \n",
       "=================================================================\n",
       "flatten_1 (Flatten)          (32, 784)                 0         \n",
       "_________________________________________________________________\n",
       "dense_1 (Dense)              (32, 128)                 100480    \n",
       "_________________________________________________________________\n",
       "dropout (Dropout)            (32, 128)                 0         \n",
       "_________________________________________________________________\n",
       "dense_2 (Dense)              (32, 128)                 16512     \n",
       "_________________________________________________________________\n",
       "dense_3 (Dense)              (32, 128)                 16512     \n",
       "=================================================================\n",
       "Total params: 133,504\n",
       "Trainable params: 133,504\n",
       "Non-trainable params: 0\n",
       "_________________________________________________________________\n",
       "</div>"
      ]
     },
     "metadata": {
      "application/vnd.databricks.v1+output": {
       "addedWidgets": {},
       "arguments": {},
       "data": "<div class='ansiout'>Model: &quot;sequential_2&quot;\n_________________________________________________________________\nLayer (type)                 Output Shape              Param #   \n=================================================================\nflatten_1 (Flatten)          (32, 784)                 0         \n_________________________________________________________________\ndense_1 (Dense)              (32, 128)                 100480    \n_________________________________________________________________\ndropout (Dropout)            (32, 128)                 0         \n_________________________________________________________________\ndense_2 (Dense)              (32, 128)                 16512     \n_________________________________________________________________\ndense_3 (Dense)              (32, 128)                 16512     \n=================================================================\nTotal params: 133,504\nTrainable params: 133,504\nNon-trainable params: 0\n_________________________________________________________________\n</div>",
       "datasetInfos": [],
       "removedWidgets": [],
       "type": "html"
      }
     },
     "output_type": "display_data"
    }
   ],
   "source": [
    "# Print model summary\n",
    "model.summary()"
   ]
  },
  {
   "cell_type": "markdown",
   "metadata": {
    "application/vnd.databricks.v1+cell": {
     "inputWidgets": {},
     "nuid": "1526711f-543b-4afb-a4cf-30bcbd185068",
     "showTitle": false,
     "title": ""
    }
   },
   "source": [
    "Evaluate the model"
   ]
  },
  {
   "cell_type": "code",
   "execution_count": 0,
   "metadata": {
    "application/vnd.databricks.v1+cell": {
     "inputWidgets": {},
     "nuid": "1326eeec-1255-4972-a305-dc430f8366bd",
     "showTitle": false,
     "title": ""
    },
    "scrolled": true
   },
   "outputs": [
    {
     "data": {
      "text/html": [
       "<style scoped>\n",
       "  .ansiout {\n",
       "    display: block;\n",
       "    unicode-bidi: embed;\n",
       "    white-space: pre-wrap;\n",
       "    word-wrap: break-word;\n",
       "    word-break: break-all;\n",
       "    font-family: \"Source Code Pro\", \"Menlo\", monospace;;\n",
       "    font-size: 13px;\n",
       "    color: #555;\n",
       "    margin-left: 4px;\n",
       "    line-height: 19px;\n",
       "  }\n",
       "</style>\n",
       "<div class='ansiout'>313/313 [==============================] - 0s 1ms/step - loss: 0.1227 - accuracy: 0.9637\n",
       "ANN Model evaluation \n",
       " Validation Loss: 0.1226649284362793\n",
       " Validation Accuracy: 0.963699996471405\n",
       "</div>"
      ]
     },
     "metadata": {
      "application/vnd.databricks.v1+output": {
       "addedWidgets": {},
       "arguments": {},
       "data": "<div class='ansiout'>313/313 [==============================] - 0s 1ms/step - loss: 0.1227 - accuracy: 0.9637\nANN Model evaluation \n Validation Loss: 0.1226649284362793\n Validation Accuracy: 0.963699996471405\n</div>",
       "datasetInfos": [],
       "removedWidgets": [],
       "type": "html"
      }
     },
     "output_type": "display_data"
    }
   ],
   "source": [
    "# Evaluate the model\n",
    "val_loss, val_acc = model.evaluate(x_test,y_test)\n",
    "print(\"ANN Model evaluation \\n\",\n",
    "      f\"Validation Loss: {val_loss}\\n\",\n",
    "      f\"Validation Accuracy: {val_acc}\")"
   ]
  },
  {
   "cell_type": "markdown",
   "metadata": {
    "application/vnd.databricks.v1+cell": {
     "inputWidgets": {},
     "nuid": "7af4516f-2cac-4a45-8c02-41b20a159e40",
     "showTitle": false,
     "title": ""
    }
   },
   "source": [
    "Prediction"
   ]
  },
  {
   "cell_type": "code",
   "execution_count": 0,
   "metadata": {
    "application/vnd.databricks.v1+cell": {
     "inputWidgets": {},
     "nuid": "0da58d9c-5a62-4fe6-b917-524f3af3050a",
     "showTitle": false,
     "title": ""
    }
   },
   "outputs": [
    {
     "data": {
      "text/html": [
       "<style scoped>\n",
       "  .ansiout {\n",
       "    display: block;\n",
       "    unicode-bidi: embed;\n",
       "    white-space: pre-wrap;\n",
       "    word-wrap: break-word;\n",
       "    word-break: break-all;\n",
       "    font-family: \"Source Code Pro\", \"Menlo\", monospace;;\n",
       "    font-size: 13px;\n",
       "    color: #555;\n",
       "    margin-left: 4px;\n",
       "    line-height: 19px;\n",
       "  }\n",
       "</style>\n",
       "<div class='ansiout'>INFO:tensorflow:Assets written to: num_reader_model/assets\n",
       "</div>"
      ]
     },
     "metadata": {
      "application/vnd.databricks.v1+output": {
       "addedWidgets": {},
       "arguments": {},
       "data": "<div class='ansiout'>INFO:tensorflow:Assets written to: num_reader_model/assets\n</div>",
       "datasetInfos": [],
       "removedWidgets": [],
       "type": "html"
      }
     },
     "output_type": "display_data"
    }
   ],
   "source": [
    "# Save the model\n",
    "model.save(\"num_reader_model\")"
   ]
  },
  {
   "cell_type": "code",
   "execution_count": 0,
   "metadata": {
    "application/vnd.databricks.v1+cell": {
     "inputWidgets": {},
     "nuid": "51bf9aeb-1c34-4060-ab33-a39e52742a11",
     "showTitle": false,
     "title": ""
    }
   },
   "outputs": [],
   "source": [
    "# Load the model\n",
    "new_model = tf.keras.models.load_model('num_reader_model')"
   ]
  },
  {
   "cell_type": "markdown",
   "metadata": {
    "application/vnd.databricks.v1+cell": {
     "inputWidgets": {},
     "nuid": "049b388a-e444-4a6f-9423-cb07aa05f7e9",
     "showTitle": false,
     "title": ""
    }
   },
   "source": [
    "Predict on the test dataset"
   ]
  },
  {
   "cell_type": "code",
   "execution_count": 0,
   "metadata": {
    "application/vnd.databricks.v1+cell": {
     "inputWidgets": {},
     "nuid": "9e59bc3e-3e7e-4336-a4b9-921cdecd6cdb",
     "showTitle": false,
     "title": ""
    }
   },
   "outputs": [],
   "source": [
    "pred_ann = new_model.predict(x_test)"
   ]
  },
  {
   "cell_type": "code",
   "execution_count": 0,
   "metadata": {
    "application/vnd.databricks.v1+cell": {
     "inputWidgets": {},
     "nuid": "ed1bdfc8-6ff0-443e-97b2-c719cf8bf2e4",
     "showTitle": false,
     "title": ""
    }
   },
   "outputs": [
    {
     "data": {
      "text/html": [
       "<style scoped>\n",
       "  .ansiout {\n",
       "    display: block;\n",
       "    unicode-bidi: embed;\n",
       "    white-space: pre-wrap;\n",
       "    word-wrap: break-word;\n",
       "    word-break: break-all;\n",
       "    font-family: \"Source Code Pro\", \"Menlo\", monospace;;\n",
       "    font-size: 13px;\n",
       "    color: #555;\n",
       "    margin-left: 4px;\n",
       "    line-height: 19px;\n",
       "  }\n",
       "</style>\n",
       "<div class='ansiout'>array([[1.09600435e-07, 4.80016773e-08, 1.32415429e-04, ...,\n",
       "        4.98283873e-17, 3.62230364e-17, 4.11517871e-15],\n",
       "       [5.44212186e-09, 9.42260143e-04, 9.99014139e-01, ...,\n",
       "        2.35862228e-19, 5.38634993e-19, 2.24606966e-17],\n",
       "       [4.43565362e-08, 9.99673605e-01, 1.10103021e-04, ...,\n",
       "        3.37302720e-11, 7.25678415e-12, 6.28691404e-11],\n",
       "       ...,\n",
       "       [6.51376979e-08, 3.81162454e-06, 7.16286513e-06, ...,\n",
       "        9.49035728e-12, 1.49610359e-12, 6.89245406e-12],\n",
       "       [1.79344880e-07, 6.98186568e-07, 2.00711995e-07, ...,\n",
       "        2.96661304e-15, 2.48156328e-16, 2.64559518e-15],\n",
       "       [3.22848155e-06, 6.19855367e-09, 4.44860007e-06, ...,\n",
       "        4.72973669e-16, 1.49339670e-15, 8.03521606e-16]], dtype=float32)</div>"
      ]
     },
     "metadata": {
      "application/vnd.databricks.v1+output": {
       "addedWidgets": {},
       "arguments": {},
       "data": "<div class='ansiout'>array([[1.09600435e-07, 4.80016773e-08, 1.32415429e-04, ...,\n        4.98283873e-17, 3.62230364e-17, 4.11517871e-15],\n       [5.44212186e-09, 9.42260143e-04, 9.99014139e-01, ...,\n        2.35862228e-19, 5.38634993e-19, 2.24606966e-17],\n       [4.43565362e-08, 9.99673605e-01, 1.10103021e-04, ...,\n        3.37302720e-11, 7.25678415e-12, 6.28691404e-11],\n       ...,\n       [6.51376979e-08, 3.81162454e-06, 7.16286513e-06, ...,\n        9.49035728e-12, 1.49610359e-12, 6.89245406e-12],\n       [1.79344880e-07, 6.98186568e-07, 2.00711995e-07, ...,\n        2.96661304e-15, 2.48156328e-16, 2.64559518e-15],\n       [3.22848155e-06, 6.19855367e-09, 4.44860007e-06, ...,\n        4.72973669e-16, 1.49339670e-15, 8.03521606e-16]], dtype=float32)</div>",
       "datasetInfos": [],
       "removedWidgets": [],
       "type": "html"
      }
     },
     "output_type": "display_data"
    }
   ],
   "source": [
    "pred_ann"
   ]
  },
  {
   "cell_type": "markdown",
   "metadata": {
    "application/vnd.databricks.v1+cell": {
     "inputWidgets": {},
     "nuid": "0e5a279f-0afc-490d-9db3-c316ab9a34f3",
     "showTitle": false,
     "title": ""
    }
   },
   "source": [
    "Use argmax function to select the index of an array that results in the largest value."
   ]
  },
  {
   "cell_type": "code",
   "execution_count": 0,
   "metadata": {
    "application/vnd.databricks.v1+cell": {
     "inputWidgets": {},
     "nuid": "ca6a97a1-b831-4120-a570-9db06967c611",
     "showTitle": false,
     "title": ""
    }
   },
   "outputs": [
    {
     "data": {
      "text/html": [
       "<style scoped>\n",
       "  .ansiout {\n",
       "    display: block;\n",
       "    unicode-bidi: embed;\n",
       "    white-space: pre-wrap;\n",
       "    word-wrap: break-word;\n",
       "    word-break: break-all;\n",
       "    font-family: \"Source Code Pro\", \"Menlo\", monospace;;\n",
       "    font-size: 13px;\n",
       "    color: #555;\n",
       "    margin-left: 4px;\n",
       "    line-height: 19px;\n",
       "  }\n",
       "</style>\n",
       "<div class='ansiout'>7\n",
       "</div>"
      ]
     },
     "metadata": {
      "application/vnd.databricks.v1+output": {
       "addedWidgets": {},
       "arguments": {},
       "data": "<div class='ansiout'>7\n</div>",
       "datasetInfos": [],
       "removedWidgets": [],
       "type": "html"
      }
     },
     "output_type": "display_data"
    }
   ],
   "source": [
    "print(np.argmax(pred_ann[0]))"
   ]
  },
  {
   "cell_type": "code",
   "execution_count": 0,
   "metadata": {
    "application/vnd.databricks.v1+cell": {
     "inputWidgets": {},
     "nuid": "ac669166-e8a7-4fbc-90b1-75fa514c4258",
     "showTitle": false,
     "title": ""
    },
    "scrolled": false
   },
   "outputs": [
    {
     "data": {
      "text/html": [
       "<style scoped>\n",
       "  .ansiout {\n",
       "    display: block;\n",
       "    unicode-bidi: embed;\n",
       "    white-space: pre-wrap;\n",
       "    word-wrap: break-word;\n",
       "    word-break: break-all;\n",
       "    font-family: \"Source Code Pro\", \"Menlo\", monospace;;\n",
       "    font-size: 13px;\n",
       "    color: #555;\n",
       "    margin-left: 4px;\n",
       "    line-height: 19px;\n",
       "  }\n",
       "</style>\n",
       "<div class='ansiout'>&lt;matplotlib.image.AxesImage at 0x7ff0eb7e56d0&gt;</div>"
      ]
     },
     "metadata": {
      "application/vnd.databricks.v1+output": {
       "addedWidgets": {},
       "arguments": {},
       "data": "<div class='ansiout'>&lt;matplotlib.image.AxesImage at 0x7ff0eb7e56d0&gt;</div>",
       "datasetInfos": [],
       "removedWidgets": [],
       "type": "html"
      }
     },
     "output_type": "display_data"
    },
    {
     "data": {
      "image/png": "[encoded data removed]"
     },
     "metadata": {
      "application/vnd.databricks.v1+output": {
       "addedWidgets": {},
       "arguments": {},
       "data": "data:image/png;base64,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\n",
       "datasetInfos": [],
       "removedWidgets": [],
       "type": "image"
      }
     },
     "output_type": "display_data"
    }
   ],
   "source": [
    "plt.imshow(x_test[0])"
   ]
  },
  {
   "cell_type": "markdown",
   "metadata": {
    "application/vnd.databricks.v1+cell": {
     "inputWidgets": {},
     "nuid": "fd6bd951-6068-43a4-aeac-554a90b39789",
     "showTitle": false,
     "title": ""
    }
   },
   "source": [
    "### Basic CNN Model\n",
    "\n",
    "The following section shows a step by step detail on how to a create simple convolutional neural network with keras library."
   ]
  },
  {
   "cell_type": "code",
   "execution_count": 0,
   "metadata": {
    "application/vnd.databricks.v1+cell": {
     "inputWidgets": {},
     "nuid": "43cc9c2d-b558-460b-91d8-f1462312e62e",
     "showTitle": false,
     "title": ""
    }
   },
   "outputs": [],
   "source": [
    "# Load mnist data and split into train and test sets\n",
    "(x_train, y_train), (x_test, y_test) = mnist.load_data(path=os.getcwd()+'/mnist.npz')"
   ]
  },
  {
   "cell_type": "code",
   "execution_count": 0,
   "metadata": {
    "application/vnd.databricks.v1+cell": {
     "inputWidgets": {},
     "nuid": "914fbb25-ee70-42e2-8b8c-1139ce856db0",
     "showTitle": false,
     "title": ""
    }
   },
   "outputs": [
    {
     "data": {
      "text/html": [
       "<style scoped>\n",
       "  .ansiout {\n",
       "    display: block;\n",
       "    unicode-bidi: embed;\n",
       "    white-space: pre-wrap;\n",
       "    word-wrap: break-word;\n",
       "    word-break: break-all;\n",
       "    font-family: \"Source Code Pro\", \"Menlo\", monospace;;\n",
       "    font-size: 13px;\n",
       "    color: #555;\n",
       "    margin-left: 4px;\n",
       "    line-height: 19px;\n",
       "  }\n",
       "</style>\n",
       "<div class='ansiout'>MNIST Dataset Shape:\n",
       "x_train: (60000, 28, 28)\n",
       "y_train: (60000,)\n",
       "x_test:  (10000, 28, 28)\n",
       "y_test:  (10000,)\n",
       "</div>"
      ]
     },
     "metadata": {
      "application/vnd.databricks.v1+output": {
       "addedWidgets": {},
       "arguments": {},
       "data": "<div class='ansiout'>MNIST Dataset Shape:\nx_train: (60000, 28, 28)\ny_train: (60000,)\nx_test:  (10000, 28, 28)\ny_test:  (10000,)\n</div>",
       "datasetInfos": [],
       "removedWidgets": [],
       "type": "html"
      }
     },
     "output_type": "display_data"
    }
   ],
   "source": [
    "# Check shape of data\n",
    "print('MNIST Dataset Shape:')\n",
    "print('x_train: ' + str(x_train.shape))\n",
    "print('y_train: ' + str(y_train.shape))\n",
    "print('x_test:  '  + str(x_test.shape))\n",
    "print('y_test:  '  + str(y_test.shape))"
   ]
  },
  {
   "cell_type": "code",
   "execution_count": 0,
   "metadata": {
    "application/vnd.databricks.v1+cell": {
     "inputWidgets": {},
     "nuid": "bdc5ac4e-2d0b-479a-8d8a-2d9ed0aae10f",
     "showTitle": false,
     "title": ""
    },
    "scrolled": true
   },
   "outputs": [
    {
     "data": {
      "text/html": [
       "<style scoped>\n",
       "  .ansiout {\n",
       "    display: block;\n",
       "    unicode-bidi: embed;\n",
       "    white-space: pre-wrap;\n",
       "    word-wrap: break-word;\n",
       "    word-break: break-all;\n",
       "    font-family: \"Source Code Pro\", \"Menlo\", monospace;;\n",
       "    font-size: 13px;\n",
       "    color: #555;\n",
       "    margin-left: 4px;\n",
       "    line-height: 19px;\n",
       "  }\n",
       "</style>\n",
       "<div class='ansiout'>&lt;matplotlib.image.AxesImage at 0x7ff0f5a07210&gt;</div>"
      ]
     },
     "metadata": {
      "application/vnd.databricks.v1+output": {
       "addedWidgets": {},
       "arguments": {},
       "data": "<div class='ansiout'>&lt;matplotlib.image.AxesImage at 0x7ff0f5a07210&gt;</div>",
       "datasetInfos": [],
       "removedWidgets": [],
       "type": "html"
      }
     },
     "output_type": "display_data"
    },
    {
     "data": {
      "image/png": "[encoded data removed]"
     },
     "metadata": {
      "application/vnd.databricks.v1+output": {
       "addedWidgets": {},
       "arguments": {},
       "data": "data:image/png;base64,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\n",
       "datasetInfos": [],
       "removedWidgets": [],
       "type": "image"
      }
     },
     "output_type": "display_data"
    }
   ],
   "source": [
    "#plot the first image in the dataset\n",
    "plt.imshow(x_train[0])"
   ]
  },
  {
   "cell_type": "markdown",
   "metadata": {
    "application/vnd.databricks.v1+cell": {
     "inputWidgets": {},
     "nuid": "d1b6f26e-d008-4496-b528-e6681982b4f5",
     "showTitle": false,
     "title": ""
    }
   },
   "source": [
    "In the case of MNIST where the pixel values are gray scale, the pixel dimension is set to 1."
   ]
  },
  {
   "cell_type": "code",
   "execution_count": 0,
   "metadata": {
    "application/vnd.databricks.v1+cell": {
     "inputWidgets": {},
     "nuid": "55134dab-f25e-45c5-8427-5cc89e134719",
     "showTitle": false,
     "title": ""
    }
   },
   "outputs": [],
   "source": [
    "x_train = x_train.reshape(x_train.shape[0], 28, 28, 1).astype('float32')\n",
    "x_test = x_test.reshape(x_test.shape[0], 28, 28, 1).astype('float32')"
   ]
  },
  {
   "cell_type": "code",
   "execution_count": 0,
   "metadata": {
    "application/vnd.databricks.v1+cell": {
     "inputWidgets": {},
     "nuid": "72763f6d-9d81-4e95-89b3-db145de28b2e",
     "showTitle": false,
     "title": ""
    }
   },
   "outputs": [
    {
     "data": {
      "text/html": [
       "<style scoped>\n",
       "  .ansiout {\n",
       "    display: block;\n",
       "    unicode-bidi: embed;\n",
       "    white-space: pre-wrap;\n",
       "    word-wrap: break-word;\n",
       "    word-break: break-all;\n",
       "    font-family: \"Source Code Pro\", \"Menlo\", monospace;;\n",
       "    font-size: 13px;\n",
       "    color: #555;\n",
       "    margin-left: 4px;\n",
       "    line-height: 19px;\n",
       "  }\n",
       "</style>\n",
       "<div class='ansiout'>&lt;matplotlib.image.AxesImage at 0x7ff0eb6bdc50&gt;</div>"
      ]
     },
     "metadata": {
      "application/vnd.databricks.v1+output": {
       "addedWidgets": {},
       "arguments": {},
       "data": "<div class='ansiout'>&lt;matplotlib.image.AxesImage at 0x7ff0eb6bdc50&gt;</div>",
       "datasetInfos": [],
       "removedWidgets": [],
       "type": "html"
      }
     },
     "output_type": "display_data"
    },
    {
     "data": {
      "image/png": "[encoded data removed]"
     },
     "metadata": {
      "application/vnd.databricks.v1+output": {
       "addedWidgets": {},
       "arguments": {},
       "data": "data:image/png;base64,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\n",
       "datasetInfos": [],
       "removedWidgets": [],
       "type": "image"
      }
     },
     "output_type": "display_data"
    }
   ],
   "source": [
    "#plot the first image in the dataset\n",
    "plt.imshow(x_train[0])"
   ]
  },
  {
   "cell_type": "markdown",
   "metadata": {
    "application/vnd.databricks.v1+cell": {
     "inputWidgets": {},
     "nuid": "cebd39b4-f411-411e-b760-229fabd6f17a",
     "showTitle": false,
     "title": ""
    }
   },
   "source": [
    "Normalize the pixel values to the range 0 and 1 and one hot encode the output variables."
   ]
  },
  {
   "cell_type": "code",
   "execution_count": 0,
   "metadata": {
    "application/vnd.databricks.v1+cell": {
     "inputWidgets": {},
     "nuid": "4e2e0a10-5ac4-4d17-988d-48e77ac15fff",
     "showTitle": false,
     "title": ""
    }
   },
   "outputs": [],
   "source": [
    "# Normalize train and test data\n",
    "x_train = tf.keras.utils.normalize(x_train,axis=1)\n",
    "x_test = tf.keras.utils.normalize(x_test,axis=1)"
   ]
  },
  {
   "cell_type": "code",
   "execution_count": 0,
   "metadata": {
    "application/vnd.databricks.v1+cell": {
     "inputWidgets": {},
     "nuid": "168b4f64-9abc-4273-b64c-4aa2a6f696ab",
     "showTitle": false,
     "title": ""
    }
   },
   "outputs": [],
   "source": [
    "# One hot encode outputs\n",
    "y_train = np_utils.to_categorical(y_train)\n",
    "y_test = np_utils.to_categorical(y_test)"
   ]
  },
  {
   "cell_type": "code",
   "execution_count": 0,
   "metadata": {
    "application/vnd.databricks.v1+cell": {
     "inputWidgets": {},
     "nuid": "cc72a23b-b11c-4601-ba11-97e534388f1c",
     "showTitle": false,
     "title": ""
    }
   },
   "outputs": [
    {
     "data": {
      "text/html": [
       "<style scoped>\n",
       "  .ansiout {\n",
       "    display: block;\n",
       "    unicode-bidi: embed;\n",
       "    white-space: pre-wrap;\n",
       "    word-wrap: break-word;\n",
       "    word-break: break-all;\n",
       "    font-family: \"Source Code Pro\", \"Menlo\", monospace;;\n",
       "    font-size: 13px;\n",
       "    color: #555;\n",
       "    margin-left: 4px;\n",
       "    line-height: 19px;\n",
       "  }\n",
       "</style>\n",
       "<div class='ansiout'>array([[0., 0., 0., ..., 1., 0., 0.],\n",
       "       [0., 0., 1., ..., 0., 0., 0.],\n",
       "       [0., 1., 0., ..., 0., 0., 0.],\n",
       "       ...,\n",
       "       [0., 0., 0., ..., 0., 0., 0.],\n",
       "       [0., 0., 0., ..., 0., 0., 0.],\n",
       "       [0., 0., 0., ..., 0., 0., 0.]], dtype=float32)</div>"
      ]
     },
     "metadata": {
      "application/vnd.databricks.v1+output": {
       "addedWidgets": {},
       "arguments": {},
       "data": "<div class='ansiout'>array([[0., 0., 0., ..., 1., 0., 0.],\n       [0., 0., 1., ..., 0., 0., 0.],\n       [0., 1., 0., ..., 0., 0., 0.],\n       ...,\n       [0., 0., 0., ..., 0., 0., 0.],\n       [0., 0., 0., ..., 0., 0., 0.],\n       [0., 0., 0., ..., 0., 0., 0.]], dtype=float32)</div>",
       "datasetInfos": [],
       "removedWidgets": [],
       "type": "html"
      }
     },
     "output_type": "display_data"
    }
   ],
   "source": [
    "y_test"
   ]
  },
  {
   "cell_type": "markdown",
   "metadata": {
    "application/vnd.databricks.v1+cell": {
     "inputWidgets": {},
     "nuid": "a847fc5f-3ea7-4261-92c9-e104c07359b1",
     "showTitle": false,
     "title": ""
    }
   },
   "source": [
    "### IV. Build a CNN Model"
   ]
  },
  {
   "cell_type": "markdown",
   "metadata": {
    "application/vnd.databricks.v1+cell": {
     "inputWidgets": {},
     "nuid": "13143bc3-c8f6-4cd9-bf77-73b6b9166e14",
     "showTitle": false,
     "title": ""
    }
   },
   "source": [
    "Before building a deep learning model, lets look at the individual layers to used in the model and their purpose\n",
    "\n",
    "**Conv2D layer**\n",
    "\n",
    "The fundamental difference between a densely connected layer and a specialized layer in the convolution operation, which we will call the convolutional layer, is that the dense layer learns global patterns in its global input space, while the convolutional layers learn local patterns in small windows of two dimensions. In an intuitive way, we could say that the main purpose of a convolutional layer is to detect features or visual features in images such as edges, lines, color drops, etc. This is a very interesting property because, once it has learned a characteristic at a specific point in the image, it can recognize it later in any part of it. Instead, in a densely connected neural network it has to learn the pattern again if it appears in a new location of the image.\n",
    "\n",
    "Keras `Conv2D` is a 2D Convolution Layer, this layer creates a convolution kernel that is convolved with the layer input to produce a tensor of outputs."
   ]
  },
  {
   "cell_type": "markdown",
   "metadata": {
    "application/vnd.databricks.v1+cell": {
     "inputWidgets": {},
     "nuid": "a18db311-024a-4183-959f-c87b95fa09e5",
     "showTitle": false,
     "title": ""
    }
   },
   "source": [
    "**Pooling Layer**\n",
    "\n",
    "Convolutional neural networks accompany the convolution layer with pooling layers, which are usually applied immediately after the convolutional layers. The pooling layers simplify the information collected by the convolutional layer and create a condensed version of the information contained in them. In technical terms, pooling layers reduce the dimension of the feature maps. Thus, it reduces the number of parameters to learn and the amount of computation performed in the network.\n",
    "\n",
    "As mentioned above, the result of using a pooling layer is a summarized version of the features detected in the input. So, further operations are performed on summarised features instead of precisely positioned features generated by the convolution layer. This makes the model more robust to variations in the position of the features in the input image."
   ]
  },
  {
   "cell_type": "markdown",
   "metadata": {
    "application/vnd.databricks.v1+cell": {
     "inputWidgets": {},
     "nuid": "91eb2a79-d075-4a0c-9f69-f36d0d924452",
     "showTitle": false,
     "title": ""
    }
   },
   "source": [
    "**Complete CNN model**\n",
    "\n",
    "1. The first hidden layer is a convolutional layer called a `Convolution2D`. The layer has 32 feature maps, which with a 3x3 kernel and a rectifier activation function\n",
    "2. Next we define a pooling layer `MaxPooling2D` layer that takes the max, configured with a pool size of 2×2.\n",
    "3. `Dropout` layer configured to randomly exclude 20% of neurons in the layer in order to reduce overfitting\n",
    "4. Next is the `Flatten` layer (same as used before in ANN model) that converts the 2D matrix data to a vector. It allows the output to be processed by standard fully connected layers.\n",
    "5. Next a fully connected layer with 128 neurons and rectifier activation function.\n",
    "6. Finally, the output layer has 10 neurons for the 10 classes and a `softmax` activation function to output probability-like predictions for each class."
   ]
  },
  {
   "cell_type": "code",
   "execution_count": 0,
   "metadata": {
    "application/vnd.databricks.v1+cell": {
     "inputWidgets": {},
     "nuid": "3c8d2deb-304a-4b48-9b56-7d2fb1dd8ef5",
     "showTitle": false,
     "title": ""
    }
   },
   "outputs": [],
   "source": [
    "model = Sequential()\n",
    "model.add(Conv2D(32, kernel_size=3, input_shape=(28, 28, 1), activation='relu'))\n",
    "model.add(MaxPooling2D(pool_size=(2, 2)))\n",
    "model.add(Dropout(0.2))\n",
    "model.add(Flatten())\n",
    "model.add(Dense(128, activation='relu'))\n",
    "model.add(Dense(10, activation='softmax'))"
   ]
  },
  {
   "cell_type": "markdown",
   "metadata": {
    "application/vnd.databricks.v1+cell": {
     "inputWidgets": {},
     "nuid": "0d54bf37-11ce-4d75-9b1a-2abb86cfcd73",
     "showTitle": false,
     "title": ""
    }
   },
   "source": [
    "As before, the model is trained using logarithmic loss and the ADAM gradient descent algorithm."
   ]
  },
  {
   "cell_type": "code",
   "execution_count": 0,
   "metadata": {
    "application/vnd.databricks.v1+cell": {
     "inputWidgets": {},
     "nuid": "a1402ecb-7f7a-4643-bf9e-6cbc998eee6d",
     "showTitle": false,
     "title": ""
    }
   },
   "outputs": [],
   "source": [
    "# Compile model using accuracy to measure model performance\n",
    "model.compile(optimizer='adam', loss='categorical_crossentropy', metrics=['accuracy'])"
   ]
  },
  {
   "cell_type": "code",
   "execution_count": 0,
   "metadata": {
    "application/vnd.databricks.v1+cell": {
     "inputWidgets": {},
     "nuid": "18a8a0f7-c95e-4236-98a2-50c63e25f863",
     "showTitle": false,
     "title": ""
    },
    "scrolled": true
   },
   "outputs": [
    {
     "data": {
      "text/html": [
       "<style scoped>\n",
       "  .ansiout {\n",
       "    display: block;\n",
       "    unicode-bidi: embed;\n",
       "    white-space: pre-wrap;\n",
       "    word-wrap: break-word;\n",
       "    word-break: break-all;\n",
       "    font-family: \"Source Code Pro\", \"Menlo\", monospace;;\n",
       "    font-size: 13px;\n",
       "    color: #555;\n",
       "    margin-left: 4px;\n",
       "    line-height: 19px;\n",
       "  }\n",
       "</style>\n",
       "<div class='ansiout'>Epoch 1/3\n",
       "1875/1875 [==============================] - 17s 9ms/step - loss: 0.3843 - accuracy: 0.8875 - val_loss: 0.0766 - val_accuracy: 0.9768\n",
       "Epoch 2/3\n",
       "1875/1875 [==============================] - 13s 7ms/step - loss: 0.0782 - accuracy: 0.9766 - val_loss: 0.0630 - val_accuracy: 0.9813\n",
       "Epoch 3/3\n",
       "1875/1875 [==============================] - 14s 7ms/step - loss: 0.0501 - accuracy: 0.9846 - val_loss: 0.0531 - val_accuracy: 0.9831\n",
       "</div>"
      ]
     },
     "metadata": {
      "application/vnd.databricks.v1+output": {
       "addedWidgets": {},
       "arguments": {},
       "data": "<div class='ansiout'>Epoch 1/3\n1875/1875 [==============================] - 17s 9ms/step - loss: 0.3843 - accuracy: 0.8875 - val_loss: 0.0766 - val_accuracy: 0.9768\nEpoch 2/3\n1875/1875 [==============================] - 13s 7ms/step - loss: 0.0782 - accuracy: 0.9766 - val_loss: 0.0630 - val_accuracy: 0.9813\nEpoch 3/3\n1875/1875 [==============================] - 14s 7ms/step - loss: 0.0501 - accuracy: 0.9846 - val_loss: 0.0531 - val_accuracy: 0.9831\n</div>",
       "datasetInfos": [],
       "removedWidgets": [],
       "type": "html"
      }
     },
     "output_type": "display_data"
    }
   ],
   "source": [
    "# Train the model\n",
    "history = model.fit(x_train, y_train,validation_data=(x_test, y_test), epochs=3)"
   ]
  },
  {
   "cell_type": "code",
   "execution_count": 0,
   "metadata": {
    "application/vnd.databricks.v1+cell": {
     "inputWidgets": {},
     "nuid": "72410c4c-eef8-47b5-8a5e-30c0eb18df66",
     "showTitle": false,
     "title": ""
    },
    "scrolled": true
   },
   "outputs": [
    {
     "data": {
      "image/png": "[encoded data removed]"
     },
     "metadata": {
      "application/vnd.databricks.v1+output": {
       "addedWidgets": {},
       "arguments": {},
       "data": "data:image/png;base64,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\n",
       "datasetInfos": [],
       "removedWidgets": [],
       "type": "image"
      }
     },
     "output_type": "display_data"
    }
   ],
   "source": [
    "# Plot training and validation loss over epochs\n",
    "loss = history.history['loss']\n",
    "val_loss = history.history['val_loss']\n",
    "epochs = range(1, len(loss) + 1)\n",
    "plt.plot(epochs, loss, 'y', label='Training loss')\n",
    "plt.plot(epochs, val_loss, 'r', label='Validation loss')\n",
    "plt.title('Training and validation loss')\n",
    "plt.xlabel('Epochs')\n",
    "plt.ylabel('Loss')\n",
    "plt.legend()\n",
    "plt.show()"
   ]
  },
  {
   "cell_type": "code",
   "execution_count": 0,
   "metadata": {
    "application/vnd.databricks.v1+cell": {
     "inputWidgets": {},
     "nuid": "655a605b-48a8-4548-915f-b6920d14a21d",
     "showTitle": false,
     "title": ""
    }
   },
   "outputs": [
    {
     "data": {
      "text/html": [
       "<style scoped>\n",
       "  .ansiout {\n",
       "    display: block;\n",
       "    unicode-bidi: embed;\n",
       "    white-space: pre-wrap;\n",
       "    word-wrap: break-word;\n",
       "    word-break: break-all;\n",
       "    font-family: \"Source Code Pro\", \"Menlo\", monospace;;\n",
       "    font-size: 13px;\n",
       "    color: #555;\n",
       "    margin-left: 4px;\n",
       "    line-height: 19px;\n",
       "  }\n",
       "</style>\n",
       "<div class='ansiout'>Model: &quot;sequential_3&quot;\n",
       "_________________________________________________________________\n",
       "Layer (type)                 Output Shape              Param #   \n",
       "=================================================================\n",
       "conv2d (Conv2D)              (None, 26, 26, 32)        320       \n",
       "_________________________________________________________________\n",
       "max_pooling2d (MaxPooling2D) (None, 13, 13, 32)        0         \n",
       "_________________________________________________________________\n",
       "dropout_1 (Dropout)          (None, 13, 13, 32)        0         \n",
       "_________________________________________________________________\n",
       "flatten_2 (Flatten)          (None, 5408)              0         \n",
       "_________________________________________________________________\n",
       "dense_4 (Dense)              (None, 128)               692352    \n",
       "_________________________________________________________________\n",
       "dense_5 (Dense)              (None, 10)                1290      \n",
       "=================================================================\n",
       "Total params: 693,962\n",
       "Trainable params: 693,962\n",
       "Non-trainable params: 0\n",
       "_________________________________________________________________\n",
       "</div>"
      ]
     },
     "metadata": {
      "application/vnd.databricks.v1+output": {
       "addedWidgets": {},
       "arguments": {},
       "data": "<div class='ansiout'>Model: &quot;sequential_3&quot;\n_________________________________________________________________\nLayer (type)                 Output Shape              Param #   \n=================================================================\nconv2d (Conv2D)              (None, 26, 26, 32)        320       \n_________________________________________________________________\nmax_pooling2d (MaxPooling2D) (None, 13, 13, 32)        0         \n_________________________________________________________________\ndropout_1 (Dropout)          (None, 13, 13, 32)        0         \n_________________________________________________________________\nflatten_2 (Flatten)          (None, 5408)              0         \n_________________________________________________________________\ndense_4 (Dense)              (None, 128)               692352    \n_________________________________________________________________\ndense_5 (Dense)              (None, 10)                1290      \n=================================================================\nTotal params: 693,962\nTrainable params: 693,962\nNon-trainable params: 0\n_________________________________________________________________\n</div>",
       "datasetInfos": [],
       "removedWidgets": [],
       "type": "html"
      }
     },
     "output_type": "display_data"
    }
   ],
   "source": [
    "# Print model summary\n",
    "model.summary()"
   ]
  },
  {
   "cell_type": "markdown",
   "metadata": {
    "application/vnd.databricks.v1+cell": {
     "inputWidgets": {},
     "nuid": "a9fdd283-2bb1-43cf-bf99-b2bc3782960b",
     "showTitle": false,
     "title": ""
    }
   },
   "source": [
    "Evaluate the CNN model"
   ]
  },
  {
   "cell_type": "code",
   "execution_count": 0,
   "metadata": {
    "application/vnd.databricks.v1+cell": {
     "inputWidgets": {},
     "nuid": "8297da48-7a0b-421e-a307-3ca91ec98dd3",
     "showTitle": false,
     "title": ""
    }
   },
   "outputs": [
    {
     "data": {
      "text/html": [
       "<style scoped>\n",
       "  .ansiout {\n",
       "    display: block;\n",
       "    unicode-bidi: embed;\n",
       "    white-space: pre-wrap;\n",
       "    word-wrap: break-word;\n",
       "    word-break: break-all;\n",
       "    font-family: \"Source Code Pro\", \"Menlo\", monospace;;\n",
       "    font-size: 13px;\n",
       "    color: #555;\n",
       "    margin-left: 4px;\n",
       "    line-height: 19px;\n",
       "  }\n",
       "</style>\n",
       "<div class='ansiout'>CNN Model evaluation \n",
       " Validation Loss: 0.05312395095825195\n",
       " Validation Accuracy: 0.9830999970436096\n",
       "</div>"
      ]
     },
     "metadata": {
      "application/vnd.databricks.v1+output": {
       "addedWidgets": {},
       "arguments": {},
       "data": "<div class='ansiout'>CNN Model evaluation \n Validation Loss: 0.05312395095825195\n Validation Accuracy: 0.9830999970436096\n</div>",
       "datasetInfos": [],
       "removedWidgets": [],
       "type": "html"
      }
     },
     "output_type": "display_data"
    }
   ],
   "source": [
    "# Evaluate the model\n",
    "val_loss, val_acc = model.evaluate(x_test,y_test,verbose=0)\n",
    "print(\"CNN Model evaluation \\n\",\n",
    "      f\"Validation Loss: {val_loss}\\n\",\n",
    "      f\"Validation Accuracy: {val_acc}\")"
   ]
  },
  {
   "cell_type": "markdown",
   "metadata": {
    "application/vnd.databricks.v1+cell": {
     "inputWidgets": {},
     "nuid": "385018af-b395-421e-92e9-4e84fd124587",
     "showTitle": false,
     "title": ""
    }
   },
   "source": [
    "Predict on the test dataset"
   ]
  },
  {
   "cell_type": "code",
   "execution_count": 0,
   "metadata": {
    "application/vnd.databricks.v1+cell": {
     "inputWidgets": {},
     "nuid": "24e284bf-99ca-4ac1-a7ec-87a73839ca3e",
     "showTitle": false,
     "title": ""
    }
   },
   "outputs": [],
   "source": [
    "pred_cnn = model.predict(x_test)"
   ]
  },
  {
   "cell_type": "markdown",
   "metadata": {
    "application/vnd.databricks.v1+cell": {
     "inputWidgets": {},
     "nuid": "75aa722d-9b4e-4ba9-bdbe-6cd96c34fc77",
     "showTitle": false,
     "title": ""
    }
   },
   "source": [
    "Use argmax function to select the index of an array that results in the largest value."
   ]
  },
  {
   "cell_type": "code",
   "execution_count": 0,
   "metadata": {
    "application/vnd.databricks.v1+cell": {
     "inputWidgets": {},
     "nuid": "02653b91-99a1-4793-98d2-5690a538672c",
     "showTitle": false,
     "title": ""
    },
    "scrolled": true
   },
   "outputs": [
    {
     "data": {
      "text/html": [
       "<style scoped>\n",
       "  .ansiout {\n",
       "    display: block;\n",
       "    unicode-bidi: embed;\n",
       "    white-space: pre-wrap;\n",
       "    word-wrap: break-word;\n",
       "    word-break: break-all;\n",
       "    font-family: \"Source Code Pro\", \"Menlo\", monospace;;\n",
       "    font-size: 13px;\n",
       "    color: #555;\n",
       "    margin-left: 4px;\n",
       "    line-height: 19px;\n",
       "  }\n",
       "</style>\n",
       "<div class='ansiout'>7\n",
       "</div>"
      ]
     },
     "metadata": {
      "application/vnd.databricks.v1+output": {
       "addedWidgets": {},
       "arguments": {},
       "data": "<div class='ansiout'>7\n</div>",
       "datasetInfos": [],
       "removedWidgets": [],
       "type": "html"
      }
     },
     "output_type": "display_data"
    }
   ],
   "source": [
    "print(np.argmax(pred_cnn[0]))"
   ]
  },
  {
   "cell_type": "code",
   "execution_count": 0,
   "metadata": {
    "application/vnd.databricks.v1+cell": {
     "inputWidgets": {},
     "nuid": "583d024e-0ec3-4e21-b0cf-168b30c13971",
     "showTitle": false,
     "title": ""
    }
   },
   "outputs": [
    {
     "data": {
      "text/html": [
       "<style scoped>\n",
       "  .ansiout {\n",
       "    display: block;\n",
       "    unicode-bidi: embed;\n",
       "    white-space: pre-wrap;\n",
       "    word-wrap: break-word;\n",
       "    word-break: break-all;\n",
       "    font-family: \"Source Code Pro\", \"Menlo\", monospace;;\n",
       "    font-size: 13px;\n",
       "    color: #555;\n",
       "    margin-left: 4px;\n",
       "    line-height: 19px;\n",
       "  }\n",
       "</style>\n",
       "<div class='ansiout'>&lt;matplotlib.image.AxesImage at 0x7ff0d2f202d0&gt;</div>"
      ]
     },
     "metadata": {
      "application/vnd.databricks.v1+output": {
       "addedWidgets": {},
       "arguments": {},
       "data": "<div class='ansiout'>&lt;matplotlib.image.AxesImage at 0x7ff0d2f202d0&gt;</div>",
       "datasetInfos": [],
       "removedWidgets": [],
       "type": "html"
      }
     },
     "output_type": "display_data"
    },
    {
     "data": {
      "image/png": "[encoded data removed]"
     },
     "metadata": {
      "application/vnd.databricks.v1+output": {
       "addedWidgets": {},
       "arguments": {},
       "data": "data:image/png;base64,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\n",
       "datasetInfos": [],
       "removedWidgets": [],
       "type": "image"
      }
     },
     "output_type": "display_data"
    }
   ],
   "source": [
    "plt.imshow(x_test[0])"
   ]
  }
 ],
 "metadata": {
  "anaconda-cloud": {},
  "application/vnd.databricks.v1+notebook": {
   "dashboards": [],
   "language": "python",
   "notebookMetadata": {
    "pythonIndentUnit": 2
   },
   "notebookName": "Deep Learning Basics - ANN & CNN",
   "notebookOrigID": 398201905968096,
   "widgets": {}
  },
  "kernelspec": {
   "display_name": "Python 3",
   "language": "python",
   "name": "python3"
  },
  "language_info": {
   "codemirror_mode": {
    "name": "ipython",
    "version": 3
   },
   "file_extension": ".py",
   "mimetype": "text/x-python",
   "name": "python",
   "nbconvert_exporter": "python",
   "pygments_lexer": "ipython3",
   "version": "3.7.3"
  }
 },
 "nbformat": 4,
 "nbformat_minor": 1
}
